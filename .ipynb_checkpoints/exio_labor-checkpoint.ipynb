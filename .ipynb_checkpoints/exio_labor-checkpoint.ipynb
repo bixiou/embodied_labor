{
 "cells": [
  {
   "cell_type": "code",
   "execution_count": 1,
   "metadata": {},
   "outputs": [],
   "source": [
    "from IPython.core.interactiveshell import InteractiveShell\n",
    "InteractiveShell.ast_node_interactivity = \"all\" # 'last' 'none' ..."
   ]
  },
  {
   "cell_type": "code",
   "execution_count": 2,
   "metadata": {},
   "outputs": [],
   "source": [
    "import pymrio\n",
    "import pandas as pd\n",
    "import numpy as np\n",
    "import scipy as sp\n",
    "import matplotlib.pyplot as plt\n",
    "import operator"
   ]
  },
  {
   "cell_type": "code",
   "execution_count": 6,
   "metadata": {},
   "outputs": [],
   "source": [
    "# path_io = '/media/adrien/dd/adrien/DD/Économie/Données/'\n",
    "path_io = '/media/sf_U_DRIVE/Données/'\n",
    "path_exio = path_io + 'Exiobase 2.2/'\n",
    "path_eora = path_io + 'Eora26/'"
   ]
  },
  {
   "cell_type": "code",
   "execution_count": 7,
   "metadata": {},
   "outputs": [],
   "source": [
    "exio2p = pymrio.parse_exiobase2(path=path_exio+'mrIOT_PxP_ita_coefficient_version2.2.2.zip',\n",
    "                               charact=True, popvector='exio2')"
   ]
  },
  {
   "cell_type": "code",
   "execution_count": 19,
   "metadata": {},
   "outputs": [],
   "source": [
    "exio2i = pymrio.parse_exiobase2(path=path_exio+'mrIOT_IxI_fpa_coefficient_version2.2.2.zip',\n",
    "                               charact=True, popvector='exio2')"
   ]
  },
  {
   "cell_type": "code",
   "execution_count": 43,
   "metadata": {},
   "outputs": [
    {
     "data": {
      "text/plain": [
       "<pymrio.core.mriosystem.IOSystem at 0x7f875162b1d0>"
      ]
     },
     "execution_count": 43,
     "metadata": {},
     "output_type": "execute_result"
    }
   ],
   "source": [
    "exio2p.calc_all()"
   ]
  },
  {
   "cell_type": "code",
   "execution_count": 18,
   "metadata": {},
   "outputs": [],
   "source": [
    "# exio2i.calc_all()\n",
    "# exio2p.meta\n",
    "exio2P = exio2p"
   ]
  },
  {
   "cell_type": "code",
   "execution_count": 69,
   "metadata": {},
   "outputs": [
    {
     "data": {
      "text/plain": [
       "<pymrio.core.mriosystem.IOSystem at 0x7f43a7244080>"
      ]
     },
     "execution_count": 69,
     "metadata": {},
     "output_type": "execute_result"
    }
   ],
   "source": [
    "# save_folder = '/home/adrien/Google Drive/Thèse/IO'\n",
    "# # exio2i.save_all(path=path_exio)\n",
    "exio2p.save_all(path=path_exio+'/exio2p')"
   ]
  },
  {
   "cell_type": "code",
   "execution_count": 5,
   "metadata": {},
   "outputs": [],
   "source": [
    "exio2p = pymrio.load_all(path=path_exio+'/exio2p')"
   ]
  },
  {
   "cell_type": "code",
   "execution_count": 7,
   "metadata": {},
   "outputs": [
    {
     "name": "stderr",
     "output_type": "stream",
     "text": [
      "/home/adrien/anaconda3/lib/python3.5/site-packages/pandas/core/generic.py:2530: PerformanceWarning: dropping on a non-lexsorted multi-index without a level parameter may impact performance.\n",
      "  obj = obj._drop_axis(labels, axis, level=level, errors=errors)\n"
     ]
    }
   ],
   "source": [
    "# # Eora26 is the simplified version of Eora (it is largely sufficient).\n",
    "# # Eora gathers national IOT (it has 15k region-sector) while Eora26 harmonizes sectors into 26 categories.\n",
    "# # eora_meta = pymrio.download_eora26(storage_folder=path_eora, prices=['bp']) # =['bp', 'pp'] to catch also purchaser price\n",
    "# eora = pymrio.parse_eora26(path_eora+'Eora26_2011_bp.zip')"
   ]
  },
  {
   "cell_type": "code",
   "execution_count": 90,
   "metadata": {},
   "outputs": [
    {
     "name": "stderr",
     "output_type": "stream",
     "text": [
      "/home/adrien/anaconda3/lib/python3.5/site-packages/pandas/core/generic.py:2530: PerformanceWarning: dropping on a non-lexsorted multi-index without a level parameter may impact performance.\n",
      "  obj = obj._drop_axis(labels, axis, level=level, errors=errors)\n"
     ]
    }
   ],
   "source": [
    "eora07 = pymrio.parse_eora26(path_eora+'Eora26_2007_bp.zip')\n",
    "# eora15 = pd.read_csv(\"/media/adrien/895f16d0-85c8-4b2e-aba8-357389065e47/adrien/DD/Économie/Données/Eora/21160000_annetest_AllCountries_199_T-Results_2015_082_Markup001.csv\")\n",
    "# # Satellite data and their standard deviations\n",
    "# eora15Q = pd.read_csv(\"/media/adrien/895f16d0-85c8-4b2e-aba8-357389065e47/adrien/DD/Économie/Données/Eora/21110000_Satellite_QY_Results_2015.csv/21110000_Satellite_QY_Results_2015.csv\")\n",
    "# eora15sQ = pd.read_csv(\"/media/adrien/895f16d0-85c8-4b2e-aba8-357389065e47/adrien/DD/Économie/Données/Eora/21110000_Satellite_QY_RsltSTDDEV_2015.csv/21110000_Satellite_QY_RsltSTDDEV_2015.csv\")"
   ]
  },
  {
   "cell_type": "code",
   "execution_count": 94,
   "metadata": {},
   "outputs": [
    {
     "data": {
      "text/plain": [
       "4862"
      ]
     },
     "execution_count": 94,
     "metadata": {},
     "output_type": "execute_result"
    }
   ],
   "source": [
    "# str(eora)\n",
    "# eora.VA.F # value added decomposition\n",
    "# In eora.Q.F there is mostly all kinds of emissions. There is also value added. Nothing on employment.\n",
    "# eora07.Q.F.loc['Value added, Total']['FRA'].sum().sum()*USD_EUR\n",
    "# eora15sQ[1:10]\n",
    "26*187"
   ]
  },
  {
   "cell_type": "code",
   "execution_count": 20,
   "metadata": {},
   "outputs": [
    {
     "data": {
      "text/plain": [
       "(7824, 336)"
      ]
     },
     "execution_count": 20,
     "metadata": {},
     "output_type": "execute_result"
    }
   ],
   "source": [
    "exio2p.y = np.sum(exio2p.Y, axis=1)\n",
    "exio2p.Y.shape\n",
    "# All final demands in Export are nil:\n",
    "# exio2p.Y[[(reg,'Export') for reg in regions]].sum().sum()==0"
   ]
  },
  {
   "cell_type": "code",
   "execution_count": 10,
   "metadata": {},
   "outputs": [],
   "source": [
    "WB_data = pd.DataFrame(pd.ExcelFile(path_exio+'/WB_data.xls').parse(0)[0:47])\n",
    "WB_data.set_index('region', inplace=True)\n",
    "# Euro conversion (WB_data is in dollars but Exiobase is in euros)\n",
    "USD_EUR = 0.730754\n",
    "EUR_USD = 1.370478\n",
    "WB_data[['GDP_PPP','GDP','GDPpc','GDPpcPPP','Export','Import','Value_added']] = pow(10,-6)*USD_EUR*WB_data[['GDP_PPP','GDP','GDPpc','GDPpcPPP','Export','Import','Value_added']]\n",
    "# To retrieve the data: go to the following URL and select only year 2007: \n",
    "# 'http://databank.worldbank.org/data/reports.aspx?source=2&series=' + \\\n",
    "# ','.join(pd.DataFrame(pd.ExcelFile(path_exio+'/WB_data.xls').parse(1)[1:(len(WB_data.iloc[0])-2)])['Code']) + '&country=' + \\\n",
    "# ','.join(WB_data.loc[regions]['Code'][list(range(39))+list(range(40,43))])+',MEA,SAS,EAS,LCN,NAC,ECS,SSF,WLD'\n",
    "# Usage: \n",
    "# WB_data.loc[['FR']][['Import','Export']]\n",
    "impact_vars = np.array(exio2p.impact.unit.iloc[:,0].index)"
   ]
  },
  {
   "cell_type": "code",
   "execution_count": 11,
   "metadata": {},
   "outputs": [],
   "source": [
    "def stats_country_sector(country, sector):\n",
    "    print('**',country,sector,'**')\n",
    "    print(round(pow(10,-3)*(exio2p.impact.F[country][sector]['Employment hour']/52)/io.impact.F[country][sector]['Employment'],1),'h per week')\n",
    "    print(round(pow(10,3)*exio2p.impact.F[country][sector]['Value Added']/io.impact.F[country][sector]['Employment'],1),'€/pers')\n",
    "    print(round(pow(10,6)*exio2p.impact.F[country][sector]['Value Added']/io.impact.F[country][sector]['Employment hour'],1),'€/h')\n",
    "    print(round(pow(10,-3)*exio2p.impact.F[country][sector]['Value Added'],1),'G€ per year')\n",
    "    print(round(pow(10,3)*exio2p.impact.F[country][sector]['Employment'],1),'pers')\n",
    "    print(round(exio2p.impact.F[country][sector]['Employment hour'],1),'h per year')"
   ]
  },
  {
   "cell_type": "code",
   "execution_count": 26,
   "metadata": {},
   "outputs": [
    {
     "name": "stdout",
     "output_type": "stream",
     "text": [
      "** FR Wheat **\n",
      "45.3 h per week\n",
      "26750.0 €/pers\n",
      "11.4 €/h\n",
      "3.5 G€ per year\n",
      "132169.1 pers\n",
      "311135950.9 h per year\n"
     ]
    }
   ],
   "source": [
    "stats_country_sector('FR','Wheat')\n",
    "pop_ratio = np.array(WB_data['Population']/exio2p.population)\n",
    "# sorted(pop_ratio[np.where(np.logical_not(np.isnan(pop_ratio)))])\n",
    "# pop_ratio\n",
    "# exio2p.factor_inputs.F # includes wages on employment per skill level, investment, consumption, etc.\n",
    "# Taxes [0] ~ 5% VA ; Other net taxes [1] ~ 1% (many negative values)"
   ]
  },
  {
   "cell_type": "code",
   "execution_count": 15,
   "metadata": {},
   "outputs": [
    {
     "data": {
      "text/plain": [
       "0.05552218358650304"
      ]
     },
     "execution_count": 15,
     "metadata": {},
     "output_type": "execute_result"
    }
   ],
   "source": [
    "employ = exio2p.impact.F.loc['Employment']\n",
    "# employ.loc['FR']\n",
    "# employ.loc[:,'Wheat']\n",
    "# employ.loc['FR','Wheat']\n",
    "# employ.loc[['AT','FR'],['Pigs','Wheat']]\n",
    "# employ.loc[np.array(exio2p.get_regions()[:np.where(exio2p.get_regions()=='FR')[0][0]+1])][:,'Wheat'] # = employ.loc['AT':'FR','Wheat']\n",
    "# list(exio2p.factor_inputs.F.index)\n",
    "\n",
    "np.mean(exio2p.factor_inputs.F.iloc[0].loc[:,:].groupby('region').sum()/exio2p.factor_inputs.F.iloc[0:9].sum().loc[:,:].groupby('region').sum())"
   ]
  },
  {
   "cell_type": "code",
   "execution_count": 76,
   "metadata": {},
   "outputs": [],
   "source": [
    "reg = reg_ref = 'FR'\n",
    "regs = regs_ref = ['FR', 'AT']\n",
    "sec= 'Wheat'\n",
    "secs = ['Pigs', 'Wheat']\n",
    "# TODO: retracer origine/parcours embodied_conso, y.c. des impacts\n",
    "sectors = np.array(exio2p.get_sectors()) # list(exio2p.get_sectors())\n",
    "regions = list(exio2p.get_regions())\n",
    "nb_sectors = len(sectors)\n",
    "nb_regions = len(regions)\n",
    "stable_domain = ['Final consumption expenditure by government', 'Gross fixed capital formation', 'Export', \\\n",
    "    'Final consumption expenditure by non-profit organisations serving households (NPISH)', \\\n",
    "    'Final consumption expenditure by households']\n",
    "secondary_oil_sectors = ['Motor Gasoline', 'Gas/Diesel Oil', 'Heavy Fuel Oil', 'Kerosene Type Jet Fuel', \\\n",
    "               'Liquefied Petroleum Gases (LPG)', 'Naphtha', 'Non-specified Petroleum Products', 'Kerosene', \\\n",
    "               'Petroleum Coke', 'Aviation Gasoline', 'Gasoline Type Jet Fuel']\n",
    "coal_sectors = ['Coke Oven Coke', 'Other Bituminous Coal', 'Coal Tar', 'Coke oven gas', 'Coking Coal', \\\n",
    "                'Lignite/Brown Coal', 'Sub-Bituminous Coal', 'Anthracite']\n",
    "primary_wo_oil = coal_sectors + ['Natural gas and services related to natural gas extraction, excluding surveying', \\\n",
    "            'Nuclear fuel', 'Biogas', 'Biodiesels', 'Natural Gas Liquids', \\\n",
    "     'Charcoal', 'Ethane', 'Gas Coke', 'Gas Works Gas', 'Other Hydrocarbons', 'Other Liquid Biofuels'] # use > primary\n",
    "oil_primary = ['Crude petroleum and services related to crude oil extraction, excluding surveying']\n",
    "oil_sectors = oil_primary + secondary_oil_sectors\n",
    "primary_energy_sectors=primary_wo_oil+['Crude petroleum and services related to crude oil extraction, excluding surveying']\n",
    "renewable_wo_hydro = ['Products of forestry, logging and related services', 'Electricity by wind', \\\n",
    "                     'Electricity by biomass and waste', 'Electricity by tide, wave, ocean', 'Electricity by Geothermal', \\\n",
    "                     'Electricity by solar photovoltaic', 'Electricity by solar thermal'] \n",
    "renewable_sectors = ['Electricity by hydro'] + renewable_wo_hydro # supply > pimary & final\n",
    "final_energy_sectors = ['Steam and hot water supply services', 'Electricity by coal', \\\n",
    "                           'Electricity by gas', 'Electricity by petroleum and other oil derivatives'] \n",
    "old_secondary_energy_sectors = primary_wo_oil + secondary_oil_sectors\n",
    "new_secondary_energy_sectors = renewable_sectors + final_energy_sectors + secondary_oil_sectors\n",
    "trick_secondary_energy_sectors = renewable_wo_hydro + secondary_oil_sectors + final_energy_sectors\n",
    "secondary_energy_sectors = primary_wo_oil + secondary_oil_sectors\n",
    "# TODO: distinguish in embodied_energy whether the energy is used to produce energy (then only secondary energy counts) or\n",
    "#       if it is used to produce non-energy (such as coal for steel), then it counts.\n",
    "                        # supply > final /!\\ many hydrocarbon sectors missing\n",
    "other_energy_sectors = ['Distribution services of gaseous fuels through mains', 'Refinery Feedstocks', \\\n",
    "                        'Distribution and trade services of electricity', 'Refinery Gas', 'Uranium and thorium ores', \\\n",
    "                        'Transmission services of electricity', 'Biogasoline', 'Patent Fuel']\n",
    "energy_sectors = primary_energy_sectors + final_energy_sectors + renewable_sectors + other_energy_sectors\n",
    "sources = ['oil_secondary', 'coal_all', 'oil_all', 'gas_all', 'oil_and_gas', 'gas_extraction', 'oil_extraction',\\\n",
    "           'wind', 'PV', 'hydro', 'nuclear_fuel', 'elec_nuclear', 'elec_coal', 'elec_oil', 'elec_gas']\n",
    "\n",
    "def sectors_source(source): \n",
    "    if source=='all': return(sectors)\n",
    "    elif source=='primary': return(primary_energy_sectors)\n",
    "    elif source=='secondary': return(secondary_energy_sectors)\n",
    "    elif source=='secondary_new': return(new_secondary_energy_sectors)\n",
    "    elif source=='secondary_old': return(old_secondary_energy_sectors)\n",
    "    elif source=='secondary_trick': return(trick_secondary_energy_sectors)\n",
    "    elif source=='final': return(final_energy_sectors)\n",
    "    elif source=='secondary&final': return(secondary_energy_sectors+final_energy_sectors)\n",
    "    elif source=='nuclear_fuel': return('Nuclear fuel')\n",
    "    elif source=='hydro': return('Electricity by hydro')\n",
    "    elif source=='PV': return('Electricity by solar photovoltaic')\n",
    "    elif source=='wind': return('Electricity by wind')\n",
    "    elif source=='oil_extraction': \n",
    "        return('Crude petroleum and services related to crude oil extraction, excluding surveying')\n",
    "    elif source=='gas_extraction': \n",
    "        return('Natural gas and services related to natural gas extraction, excluding surveying')\n",
    "    elif source=='gas_all': return(['Natural Gas Liquids', 'Electricity by gas',\\\n",
    "            'Natural gas and services related to natural gas extraction, excluding surveying'])\n",
    "    elif source=='oil_all': return(oil_sectors+['Electricity by petroleum and other oil derivatives'])\n",
    "    elif source=='oil_secondary': return(secondary_oil_sectors)\n",
    "    elif source=='oil_secondary&final': return(secondary_oil_sectors + ['Electricity by petroleum and other oil derivatives'])\n",
    "    elif source=='coal_all': return(coal_sectors+['Electricity by coal'])\n",
    "    elif source=='oil_and_gas': return(secondary_oil_sectors+['Electricity by petroleum and other oil derivatives']+['Natural Gas Liquids', \\\n",
    "            'Electricity by gas', 'Natural gas and services related to natural gas extraction, excluding surveying'])\n",
    "    elif source=='elec_gas': return('Electricity by gas')\n",
    "    elif source=='elec_oil': return('Electricity by petroleum and other oil derivatives')\n",
    "    elif source=='elec_coal': return('Electricity by coal')\n",
    "    elif source=='elec_nuclear': return('Electricity by nuclear')\n",
    "    else: print(\"source not known (you may add it to the function 'sectors')\")\n",
    "                                     \n",
    "def inter_secs(secs1, secs2): return(list(np.array(secs1)[np.where([sec in secs2 for sec in secs1])[0]]))\n",
    "                        # waste and some gas sectors missing\n",
    "# TODO: check with IOT that there is no redundancy in primary_energy_sectors. \n",
    "# E.g. 'Coke Oven Coke' may be a redundancy, 'Natural gas and services... may not be accounted\n",
    "\n",
    "# TODO: allow Eora to compute value added, gdp, indexes, exports and imports\n",
    "def value_added(regs = regions, secs = sectors, add=True, positive=False): # /!\\ Can be negative ! ex: 'AT', 'Cattle'\n",
    "    if type(regs)==str: regs = [regs]\n",
    "    if type(secs)==str: secs = [secs]\n",
    "    if positive: indexes = [0]+list(range(2,8)) # remove 'Other net taxes on production' and 'Operating surplus: remaining'\n",
    "    else: indexes = list(range(0,9))\n",
    "    if add: return(exio2p.factor_inputs.F.iloc[indexes].sum().loc[regs,secs].groupby('region').sum())\n",
    "    else: return(exio2p.factor_inputs.F.iloc[indexes].sum().loc[regs,secs])\n",
    "\n",
    "def gdp(regs = regions): return(value_added(regs)) # the commented lines below yields the same result\n",
    "#     if type(regs)==str: regs = [regs]\n",
    "#     return(exio2p.impact.F.loc['Value Added'].loc[regs,:].groupby('region').sum())\n",
    "    \n",
    "    \n",
    "def div0(a, b): return(np.divide(a, b, out=np.zeros_like(a), where=b!=0))\n",
    "def sorted_series(series): return(sorted(series.items(), reverse=True, key=operator.itemgetter(1)))\n",
    "def sorted_array(array, index=exio2p.x.index, group_by=None): \n",
    "    if group_by is None: return(sorted_series(pd.Series(array, index=index)))\n",
    "    else: return(sorted_series(pd.Series(array, index=index).groupby(group_by).sum()))\n",
    "\n",
    "def name_var(var):\n",
    "    if var=='hours' or var=='hour' or var=='Employment hour': return('Employment hour')\n",
    "    elif var=='employment' or var=='empl' or var=='labor' or var=='Employment': return('Employment')\n",
    "    elif var=='energy' or var=='Total Energy Use' or var=='use': return('Total Energy Use')\n",
    "    elif var=='Total Energy supply' or var=='energy supply' or var=='supply': return('Total Energy supply')\n",
    "    elif var=='Total Energy inputs from nature': return('Total Energy inputs from nature')\n",
    "    elif var=='Total Emission relevant energy use': return('Total Emission relevant energy use')\n",
    "    else: return('unknown')\n",
    "def find(string, vec='impacts'): \n",
    "    if vec=='impacts' or vec=='Impacts' or vec=='impact': array = np.array(exio2p.impact.unit.iloc[:,0].index)\n",
    "    elif vec=='sectors': array = np.array(sectors)\n",
    "    return(array[np.where(list(map(lambda s: string in s, array)))[0]])\n",
    "    \n",
    "# /!\\ Python sorts regs and secs before applying the function\n",
    "def index_regs(regs): return(np.where(list(map(lambda r: r in regs, regions)))[0]) # for list of str\n",
    "def index_secs(secs): return(np.where(list(map(lambda s: s in secs, sectors)))[0]) # indexes of a list of sectors\n",
    "def index_regs_secs(regs=regions, secs=sectors):  # all combinations of indexes\n",
    "    return(np.repeat(index_regs(regs)*nb_sectors, len(secs)*(type(secs)!=str)+(type(secs)==str)) \\\n",
    "           + np.tile(index_secs(secs), len(regs)*(type(regs)!=str)+(type(regs)==str)) )\n",
    "def not_regs(regs): return(list(filter(lambda r: r not in regs, regions)))\n",
    "def not_secs(secs): return(list(filter(lambda r: r not in secs, sectors)))\n",
    "# def index_not_regs_secs(regs=regions, secs=sectors): return(index_regs_secs(not_regs(regs), secs))\n",
    "def regs_or_no(regs, no=False):\n",
    "    if no: res = not_regs(regs)\n",
    "    else: res = regs\n",
    "    if type(res)==str: res=[res]\n",
    "    return(res)\n",
    "def regs_secs_index(indexes): return([(regions[index//nb_sectors], sectors[index % nb_sectors]) for index in indexes])\n",
    "    \n",
    "# TODO: remove the first two functions below\n",
    "def final_demand_regs(regs=regs_ref): return(exio2p.Y[regs].sum(axis='columns'))\n",
    "def final_demand_secs(secs=sectors): return(exio2p.Y[[(reg,dom) for reg in regions for dom in stable_domain]]\\\n",
    "        .sum(axis='columns')*list(map(lambda i: i in index_regs_secs(regions, secs), range(nb_regions*nb_sectors))))\n",
    "def final_demand_secs_regs(secs=sectors, regs=regions): \n",
    "    return(exio2p.Y[[(reg,dom) for reg in regions for dom in stable_domain]]\\\n",
    "        .sum(axis='columns')*list(map(lambda i: i in index_regs_secs(regs, secs), range(nb_regions*nb_sectors))))\n",
    "def production_secs_regs(secs=sectors, regs=regions): return(exio2p.x*list(map(lambda i: i in index_regs_secs(regs, secs), \\\n",
    "                                                            range(nb_regions*nb_sectors))))\n",
    "def embodied_conso_secs(secs=secs): return(np.dot(exio2p.L, final_demand_secs(secs)))\n",
    "# Embodied conso is a notion of transaction, not of value added (it includes intermediary goods)!\n",
    "def embodied_conso_regs(regs=regs_ref): return(np.dot(exio2p.L, final_demand_regs(regs)))\n",
    "def embodied_conso_secs_regs(secs=sectors, regs=regs_ref): return(np.dot(exio2p.L, final_demand_secs_regs(secs, regs)))\n",
    "def embodied_prod_secs_regs(secs=sectors, regs=regions): return(np.dot(exio2p.L, production_secs_regs(secs, regs)))\n",
    "\n",
    "# /!\\ TODO: why is there a discrepancy with WB_data?\n",
    "def export(regs, method='direct', join=False):\n",
    "    if type(regs)==str: regs=[regs]\n",
    "    if join: # exports of the area regs outside this area. \n",
    "        # /!\\ This method uses the transactional notion of embodied conso: overestimates exports\n",
    "        if method=='embodied':\n",
    "            return(embodied_conso_regs(not_regs(regs))[index_regs_secs(regs)].sum())\n",
    "        elif method=='direct':\n",
    "            return(np.array(exio2p.Z.loc[[(reg,sec) for sec in sectors for reg in regs]][not_regs(regs)].sum().sum()) \\\n",
    "                  + np.array(exio2p.Y.loc[[(reg,sec) for sec in sectors for reg in regs]][not_regs(regs)].sum().sum()))\n",
    "    else: # list of exports of each reg in regs\n",
    "        if method=='embodied': # /!\\ cf. above\n",
    "            return([embodied_conso_regs(not_regs(reg))[index_regs_secs(reg)].sum() for reg in regs])\n",
    "        elif method=='direct':\n",
    "            return(np.array([exio2p.Z.loc[[(reg,sec) for sec in sectors]][not_regs(reg)].sum().sum() for reg in regs]) \\\n",
    "                  + np.array([exio2p.Y.loc[[(reg,sec) for sec in sectors]][not_regs(reg)].sum().sum() for reg in regs]))\n",
    "    #TODO: vectorialize more? This doesn't seem numpy\n",
    "    \n",
    "def Import(regs, method='direct', join=False): \n",
    "    if type(regs)==str: regs=[regs]\n",
    "    if join: return(export(not_regs(regs), method)) # exports of the area regs outside this area. \n",
    "    else: # list of exports of each reg in regs\n",
    "        if method=='embodied': # /!\\ cf. above\n",
    "            return([embodied_conso_regs(reg)[index_regs_secs(not_regs(reg))].sum() for reg in regs])\n",
    "        elif method=='direct':\n",
    "            return(np.array([exio2p.Z.loc[[(r,sec) for sec in sectors for r in not_regs(reg)]][reg].sum().sum() \\\n",
    "                             for reg in regs]) + np.array([exio2p.Y.loc[[(r,sec) for sec in sectors \\\n",
    "                             for r in not_regs(reg)]][reg].sum().sum() for reg in regs]))\n",
    "\n",
    "#  /!\\ Some data on Employment hour is aberrant, hence it can be computed indirectly assuming that a year = 1600 hours\n",
    "def hourly_wage_regs_secs(regs, secs = sectors, indirect=False, positive=False): \n",
    "    va = pow(10,6)*np.array(value_added(regs, secs, add=False, positive=positive))\n",
    "    if indirect: hours = pow(10,3)*np.array(impact_regs_secs('Employment', regs, secs))*1600\n",
    "    else: hours = np.array(impact_regs_secs('Employment hour', regs, secs))\n",
    "    return(div0(va, hours))\n",
    "def energy_secs_regs(secs=sectors, regs=regions): return(impact_regs_secs('Total Energy Use', regs, secs))\n",
    "def energy_supply_secs(secs=sectors, regs=regions): return(impact_regs_secs('Total Energy supply', regs, secs))\n",
    "\n",
    "def energy_used_secs(secs=sectors, regs=regions): return(impact_regs_secs('Total Energy Use', regs, secs)\\\n",
    "                                                 -impact_regs_secs('Total Energy supply', regs, secs))\n",
    "    \n",
    "def impact_regs_secs(var, regs=regions, secs=sectors, join_sort=False):\n",
    "    if type(regs)==str: regs=[regs]\n",
    "    if var=='unknown': var='Value Added'\n",
    "    if join_sort: return(sorted_series(exio2p.impact.F.loc[var].loc[regs,secs].groupby('sector').sum()))\n",
    "    else: return(exio2p.impact.F.loc[var].loc[regs,secs])\n",
    "\n",
    "# Embodied energy for a sec-regs. Notion: use, supply or used (=use-supply) / source: primary, secondary, all\n",
    "def embodied_energy(secs='Electricity by solar photovoltaic', regs=regions, notion='supply', source=sectors, \\\n",
    "                    group_by='region', sort=False):\n",
    "#     share_demand = div0(embodied_conso_secs(secs)[index_regs_secs(regs, sectors)], exio2p.x.loc[regs,sectors])\n",
    "#     return(energy_secs_regs(sectors, regs)*share_demand)\n",
    "#     share_demand = div0(embodied_conso_secs_regs(secs, regs), exio2p.x)\n",
    "    share_demand = div0(embodied_prod_secs_regs(secs, regs)-production_secs_regs(secs, regs), exio2p.x)\n",
    "    if notion=='used': energy = energy_used_secs()*share_demand\n",
    "#     elif notion=='supply': energy = energy_supply_secs()*share_demand\n",
    "#     else: energy = energy_secs_regs()*share_demand\n",
    "    else: energy = impact_regs_secs(name_var(notion))*share_demand\n",
    "    energy = energy[index_regs_secs(regions, source)]\n",
    "    if sort: return(sorted_series(energy.groupby(group_by).sum()))\n",
    "    else: return(energy.groupby(group_by).sum())\n",
    "    \n",
    "def internal_energy(secs='Electricity by coal', regs=regions, notion='supply', source=None):\n",
    "    if source is None: source = secs\n",
    "    return(\n",
    "#         impact_regs_secs(name_var(notion))[index_regs_secs(regs, sectors_source(source))].sum())\n",
    "        (impact_regs_secs(name_var(notion))*div0((np.dot(exio2p.L, production_secs_regs(secs, regs))-\\\n",
    "            production_secs_regs(secs, regs)), exio2p.x))[index_regs_secs(regs, source)].sum())\n",
    "#             div0(np.dot(exio2p.L, final_demand_secs_regs(secs, regs)), exio2p.x))[index_regs_secs(regs, source)].sum())\n",
    "#             div0(final_demand_secs_regs(secs, regs), exio2p.x))[index_regs_secs(regs, secs)].sum())\n",
    "\n",
    "def direct_impact(secs='Electricity by coal', regs=regions, notion='supply', source='secondary'):\n",
    "    return(impact_regs_secs(name_var(notion))[index_regs_secs(regs, inter_secs(sectors_source(source), secs))].sum())\n",
    "\n",
    "# /!\\ why EROI so low for hydrocarbons (and so high for PV) ?!\n",
    "# !/!\\!  EROI for growing technos is underestimated because embodied energy in building capacity is more than \n",
    "#     needed for replacement\n",
    "def eroi(secs='Electricity by solar photovoltaic', regs=regions, notion='supply', source='all', direct=False, external=True):\n",
    "#     if True in list(map(lambda i: i in secs, ['gas','coal','petroleum'])):\n",
    "#         return(energy_supply_secs(secs, regs).sum()/ \\\n",
    "#                (embodied_energy(secs, regs).sum()-impact_regs_secs('Total Energy supply', regs, secs).sum()/0.38))\n",
    "#     else: return(energy_supply_secs(secs, regs).sum()/embodied_energy(secs, regs).sum())\n",
    "#     internal = internal_energy(secs, regs, notion='use', source=sectors_source(source))\n",
    "    if external: internal = internal_energy(secs, regs)\n",
    "    else: internal = 0\n",
    "    supply = energy_supply_secs(secs, regs).sum()\n",
    "    embodied = embodied_energy(secs, regs, notion, sectors_source(source)).sum() # TODO: exclude fuels\n",
    "#     embodied_ext = embodied_energy(secs, regs, notion, not_secs(secs)).sum()\n",
    "    if direct: direct_impact = inputs(secs=secs, var_impacts=name_var(notion), source=source, order_recursion=1, group_by='sector')[2][0][0]\n",
    "    else: direct_impact = 0\n",
    "#     print(supply)\n",
    "#     print(embodied)\n",
    "#     print(direct_impact)\n",
    "#     return(supply/(embodied - direct*direct_impact - external*internal))\n",
    "#     return((supply - direct*direct_impact)/(embodied - direct*direct_impact - external*internal))\n",
    "    return((supply - direct*direct_impact - external*internal)/(embodied - direct*direct_impact - external*internal))\n",
    "    \n",
    "def embodied_import(regs_imp=regs_ref, regs_exp=None, secs=sectors, var='empl', add=True, join=False, round_bn=False):\n",
    "    '''\n",
    "    sums across all regions embodied hours/employment/gain (=var) imported from sectors secs in regs_exp to regs_exp,\n",
    "    where var embodied in imports from reg to regs_imp in sector secs is equal to the product of:\n",
    "    . share of production in sec in reg exported to regs_imp\n",
    "    . (hours of, if var='hours') employment in sec in reg\n",
    "    . (if var=='gain') hourly wage in reg_ref - hourly wage in reg\n",
    "    add=True sums all hours/gain/employment across sectors\n",
    "    '''\n",
    "    # taking share_export if function of embodied_conso instead of embodied_value_added amounts to assume that the \n",
    "    #    ratio of value_added per production is constant within a sector-region among the different processes\n",
    "    #    Indeed, if say all Korean imports of embodied Chinese labor and only them consist in small transformation\n",
    "    #    of an higly valued imported product (say from Vietnam), then our calculations of Korean imports of Chinese labor \n",
    "    #    will be biased upward, and imports of Chinese labor by other countries biased downard. \n",
    "    #    Still, this assumption seems reasonable. And we cannot relax it simply (if so, we could not use L any more,\n",
    "    #    we would have to compute A, A^2, A^3,... and the value added at each step in the global value chain).\n",
    "    Var = name_var(var)    \n",
    "    if join:\n",
    "        if regs_imp is None: print('regs_imp should not be None for join=True')\n",
    "        if type(regs_exp)==str: nb_regs_exp = 1\n",
    "        else: nb_regs_exp = len(regs_exp)\n",
    "        if regs_exp is None: regs_exp = not_regs(regs_imp)\n",
    "        share_export = div0(embodied_conso_regs(regs_imp)[index_regs_secs(regs_exp, secs)], exio2p.x.loc[regs_exp,secs])\n",
    "        if Var!='gain': res = impact_regs_secs(Var, regs_exp, secs)*share_export\n",
    "        else: \n",
    "            hourly_wage_ref = np.tile(hourly_wage_regs_secs(regs_imp, secs), nb_regs_exp)\n",
    "            res = (hourly_wage_ref - hourly_wage_regs_secs(regs_exp, secs))\\\n",
    "            *impact_regs_secs('Employment hour', regs_exp, secs)*share_export\n",
    "    else:\n",
    "        if regs_exp is None: \n",
    "            regs_ref = regs_imp\n",
    "            no = False\n",
    "        elif regs_imp is None:\n",
    "            regs_ref = regs_exp\n",
    "            no = True\n",
    "        else: print(\"regs_exp or regs_imp should be None for join=False\")\n",
    "        share_export = np.array([div0(embodied_conso_regs(regs_or_no(reg, no))[index_regs_secs(regs_or_no(reg, not no), \\\n",
    "                                secs)], exio2p.x.loc[regs_or_no(reg, not no),secs]) for reg in regs_ref])\n",
    "        if  Var!='unknown':\n",
    "            res = np.array([impact_regs_secs(Var, regs_or_no(reg, not no), secs) for reg in regs_ref])*share_export\n",
    "        else:          \n",
    "            hourly_wage_ref = np.array([np.tile(hourly_wage_regs_secs(reg, secs), len(regions)-1) for reg in regs_ref])\n",
    "            hourly_wage_not_ref = np.array([hourly_wage_regs_secs(regs_or_no(reg, not no), secs) for reg in regs_ref])\n",
    "            hours = np.array([impact_regs_secs('Employment hour', regs_or_no(reg, not no), secs) for reg in regs_ref])\n",
    "#              # /!\\ Employment hours are computed indirectly because data is aberrant\n",
    "#             hours = 1600*np.array([impact_regs_secs('Employment', regs_or_no(reg, not no), secs) for reg in regs_ref])\n",
    "            if regs_imp is None:\n",
    "                share_export = np.array([np.concatenate([div0(embodied_conso_regs(r)[index_regs_secs([reg], secs)], \\\n",
    "                    exio2p.x.loc[[reg],secs]) for r in not_regs(reg)]) for reg in regs_ref])\n",
    "                hours = np.array(list(map(lambda r: np.tile(r,(len(regions)-1)), hours))) \n",
    "                hourly_wage_not_ref = np.array([np.concatenate([hourly_wage_regs_secs(r, secs, indirect=True, \\\n",
    "                    positive=True) for r in not_regs(reg)]) for reg in regs_ref]) # TODO: better assessment of hourly wages\n",
    "            res = (hourly_wage_ref - hourly_wage_not_ref)*hours*share_export\n",
    "    if not add:\n",
    "        if round_bn:\n",
    "            return(round(res*pow(10,-9)))\n",
    "        else:\n",
    "            return(res)\n",
    "    else:\n",
    "        if join: \n",
    "            r = res.sum()\n",
    "            if Var=='Employment hour': res = print(round(r), 'hours')\n",
    "            elif Var=='Employment': print(round(r*pow(10,-3),1), 'M persons')\n",
    "            else: print(round(r*pow(10,-9),1), 'G€')\n",
    "        else: r = [res[i].sum() for i in range(len(res))]\n",
    "        if round_bn:\n",
    "            return(round(r*pow(10,-9)))\n",
    "        else:\n",
    "            return(r)\n",
    "        \n",
    "        \n",
    "def embodied_export(regs_exp=regs_ref, regs_imp=None, secs=sectors, var='empl', add=True, join=False, round_bn=False):\n",
    "#     if regs_imp is None: regs_imp = not_regs(regs_exp)\n",
    "    return(embodied_import(regs_imp, regs_exp, secs=secs, var=var, add=add, join=join, round_bn=round_bn))\n",
    "    \n",
    "def commanded_import_to_export(regs = regions, var='Employment', secs=sectors, join=False, detail=True):\n",
    "    if type(regs)==str: regs=[regs]\n",
    "    imp = np.array(embodied_import(regs_imp=regs, secs=secs, var=var, add=True, join=join))\n",
    "    exp = np.array(embodied_export(regs_exp=regs, secs=secs, var=var, add=True, join=join))\n",
    "    var_regs = [impact_regs_secs(name_var(var), reg, secs=secs).sum() for reg in regs]\n",
    "    if var=='gain': var_regs=pow(10,6)*np.array(var_regs)\n",
    "    df = pd.DataFrame({'imp/exp': imp/exp, 'import': imp, 'export': exp, var: var_regs, 'share_export': exp/var_regs, \\\n",
    "                   'share_net_export': (exp-imp)/var_regs, 'share_import': imp/var_regs}, index=regs)\n",
    "    if detail: return(df)\n",
    "    else: return(ratio)\n",
    "    \n",
    "def gain_loss_reg_import(reg_ref=reg_ref):\n",
    "    gains = embodied_import_reg_secs(reg_ref, var='gain', add=False)\n",
    "    gain = gains[np.where(gains>0)[0]].sum()\n",
    "    loss = -gains[np.where(gains<0)[0]].sum()\n",
    "    print('gain:',round(gain*pow(10,-9),1), 'G€')\n",
    "    print('loss:',round(loss*pow(10,-9),1), 'G€')\n",
    "    return([gain, loss])\n",
    "\n",
    "def check_sum(reg_ref, sec): # TODO\n",
    "    sum([embodied_conso_regs(reg)[index_reg_sec(reg_ref, sec)]/exio2p.x[reg_ref][sec] for reg in regions])\n",
    "    \n",
    "# Traverse value chain backwards from regs-secs. group_by: None, sector, region / nb_main: number or 'all\n",
    "def inputs(regs=regions, secs=sectors, var_impacts=[], source='all', order_recursion=4, nb_main=5, group_by='sector'): \n",
    "    if nb_main=='all': nb_main==nb_sectors*nb_regions\n",
    "    if type(var_impacts)==str: var_impacts = [var_impacts]\n",
    "    nb_var = len(var_impacts)\n",
    "    demand = [None for i in range(order_recursion)]\n",
    "    impacts = [[None for i in range(order_recursion)] for j in range(nb_var)]\n",
    "    sums = [[] for i in range(nb_var+1)]\n",
    "#     demand[0] = final_demand_secs_regs(secs, regs)\n",
    "    demand[0] = production_secs_regs(secs, regs)\n",
    "    for i in range(0, order_recursion):\n",
    "        if nb_var>0: share_demand_i = div0(demand[i], exio2p.x)\n",
    "        for l in range(0, nb_var): \n",
    "            impacts_l_i = impact_regs_secs(var_impacts[l])*share_demand_i\n",
    "            impacts[l][i] = impacts_l_i[index_regs_secs(regions, sectors_source(source))]\n",
    "            sums[l].append(impacts[l][i].sum())\n",
    "        if i+1<order_recursion: demand[i+1] = np.dot(exio2p.A, demand[i])\n",
    "        sums[nb_var].append(demand[i].sum())\n",
    "    for k in range(0, nb_var): impacts[k] = list(map(lambda j: sorted_array(j, group_by=group_by)[0:nb_main],impacts[k]))\n",
    "    demand = list(map(lambda j: sorted_array(j, group_by=group_by)[0:nb_main], demand))\n",
    "    return((demand, impacts, sums))\n",
    "#     if nb_var==1: return([demand,impacts[0],sums])\n",
    "#     if nb_var>0: return(np.concatenate(([demand],impacts,sums)))\n",
    "#     else: return(np.conctaenate([demand],sums))\n",
    "#     return([demand,impacts])\n",
    "\n",
    "def outputs(secs=sectors, out_sectors=sectors, nb_main=5):\n",
    "    production = exio2p.x.iloc[index_regs_secs(regions, secs)].sum()\n",
    "    return((exio2p.y.iloc[index_regs_secs(regions, secs)].sum()/production, \\\n",
    "            sorted_series(exio2p.Z.iloc[index_regs_secs(regions, secs)].sum().groupby('sector').sum()\\\n",
    "                          [out_sectors]/production)[0:nb_main]))\n",
    "\n",
    "def erois(notion='supply', source='all', direct=False, external=True, display=True):\n",
    "    erois = []\n",
    "    if display: \n",
    "        print(external*'External '+'EROI with '+notion+' from '+source+' sources at the denominator, unadjusted for growth')\n",
    "    for secs in sources: \n",
    "        eroi_secs = eroi(sectors_source(secs), regions, notion, source, direct, external)\n",
    "        erois.append(eroi_secs)\n",
    "        if display: print(secs, eroi_secs)\n",
    "    return(erois)\n",
    "    \n",
    "# TODO: %GDP per country ; in hours pc ; in PPP ; regressions ; I/E par / salaire moyen mondial (par secteur ou non) ; \n",
    "# variation du PIB si les salaires étaient égaux: calcul de imports * (1 - imports/gain) (/ PIB)\n",
    "#    -> interprétation: ce qu'on pourrait encore importer à salaires égaux, ramenés aux prix d'importations actuels\n",
    "# - separate the 'productivity' bonus (cf. Ibarrola, Nishioka) from the 'domination' surplus \n",
    "#  in differences in income (i.e. home related vs. trade related explanations)\n",
    "# - not only EU\n",
    "# - other stats, more telling: % net embodied labor relative to labor force ; \n",
    "#     ratio labor embodied in export / import ; main trade partners in terms of labor\n",
    "# - not up-to-date (could use exiobase 2)\n",
    "# - look at variability within countries: e.g., how many embodied labor does a French minimum wage consume? \n",
    "#  (Can be done either from national surveys on consumption, \n",
    "#  or more crudely, by allocating to minimum wage earners their share of consumption per capita)\n",
    "    \n",
    "# With Eora (Alsamawi etal, Reyes et al): - make a choropleth map\n",
    "# - 'employment footprint' is the net labor embodied in import => do also the ratio  import/export of labor"
   ]
  },
  {
   "cell_type": "code",
   "execution_count": 83,
   "metadata": {},
   "outputs": [
    {
     "data": {
      "text/plain": [
       "[(('WM', 'Gross fixed capital formation'), 9633.682029643347),\n",
       " (('AU', 'Gross fixed capital formation'), 1592.429431758025),\n",
       " (('CN', 'Changes in inventories'), 741.2689358849908)]"
      ]
     },
     "execution_count": 83,
     "metadata": {},
     "output_type": "execute_result"
    }
   ],
   "source": [
    "sorted_series(exio2p.Y.loc[[(reg,'Mining of uranium and thorium ores') for reg in regions]].sum())[0:3]"
   ]
  },
  {
   "cell_type": "code",
   "execution_count": 59,
   "metadata": {},
   "outputs": [
    {
     "data": {
      "text/plain": [
       "(0.7147047733288128,\n",
       " [('Chemicals nec', 0.10131066732552595),\n",
       "  ('Research and development services', 0.06786537818530829),\n",
       "  ('Nuclear fuel', 0.027910057974254377),\n",
       "  ('Electricity by coal', 0.010152704012106509),\n",
       "  ('Wholesale trade and commission trade services, except of motor vehicles and motorcycles',\n",
       "   0.008332105914930943),\n",
       "  ('Other non-ferrous metal products', 0.007868395220582877),\n",
       "  ('Cement, lime and plaster', 0.005599939919064129),\n",
       "  ('Other waste for treatment: waste water treatment', 0.0045087155629382125),\n",
       "  ('Distribution services of gaseous fuels through mains',\n",
       "   0.004482456440843851),\n",
       "  ('P- and other fertiliser', 0.003757539247230632),\n",
       "  ('Electricity by hydro', 0.0028452300063760423),\n",
       "  ('Food waste for treatment: waste water treatment', 0.0024867290031023222),\n",
       "  ('Food waste for treatment: landfill', 0.0023467825152276092),\n",
       "  ('Crude petroleum and services related to crude oil extraction, excluding surveying',\n",
       "   0.0020618656018429244),\n",
       "  ('Distribution and trade services of electricity', 0.0017785616080695542),\n",
       "  ('Rubber and plastic products', 0.0013747429147747217),\n",
       "  ('Natural gas and services related to natural gas extraction, excluding surveying',\n",
       "   0.001338282715564419),\n",
       "  ('Other land transportation services', 0.0012749935563614208),\n",
       "  ('Precious metal ores and concentrates', 0.0012670013735493325),\n",
       "  ('Basic iron and steel and of ferro-alloys and first products thereof',\n",
       "   0.0011718922760617179)])"
      ]
     },
     "execution_count": 59,
     "metadata": {},
     "output_type": "execute_result"
    }
   ],
   "source": [
    "outputs('Uranium and thorium ores', nb_main=12)"
   ]
  },
  {
   "cell_type": "code",
   "execution_count": 39,
   "metadata": {},
   "outputs": [
    {
     "data": {
      "text/plain": [
       "15240445.606409468"
      ]
     },
     "execution_count": 39,
     "metadata": {},
     "output_type": "execute_result"
    },
    {
     "data": {
      "text/plain": [
       "242772.64991612025"
      ]
     },
     "execution_count": 39,
     "metadata": {},
     "output_type": "execute_result"
    },
    {
     "data": {
      "text/plain": [
       "([[('Coke Oven Coke', 1110.9143434570346),\n",
       "   ('Additives/Blending Components', 0.0)],\n",
       "  [('Coking Coal', 327.4359711055616),\n",
       "   ('Wholesale trade and commission trade services, except of motor vehicles and motorcycles',\n",
       "    201.85909954913507)],\n",
       "  [('Wholesale trade and commission trade services, except of motor vehicles and motorcycles',\n",
       "    40.67580119059351),\n",
       "   ('Other Bituminous Coal', 31.430771801106776)],\n",
       "  [('Wholesale trade and commission trade services, except of motor vehicles and motorcycles',\n",
       "    21.151024976881185),\n",
       "   ('Other business services', 14.13971943164795)]],\n",
       " [[[('Coke Oven Coke', 242772.64991612022),\n",
       "    ('Additives/Blending Components', 0.0)],\n",
       "   [('Coking Coal', 182899.94305914105),\n",
       "    ('Coke Oven Coke', 2684.7622375298274)],\n",
       "   [('Other Bituminous Coal', 19214.992664987585),\n",
       "    ('Natural gas and services related to natural gas extraction, excluding surveying',\n",
       "     1974.9900198989849)],\n",
       "   [('Other Bituminous Coal', 3890.925473677865),\n",
       "    ('Natural gas and services related to natural gas extraction, excluding surveying',\n",
       "     2737.2244187874876)]],\n",
       "  [[('Coke Oven Coke', 299155.17756453366),\n",
       "    ('Additives/Blending Components', 0.0)],\n",
       "   [('Coking Coal', 4444.43954615336), ('Coke Oven Coke', 3284.410381785649)],\n",
       "   [('Electricity by gas', 1452.779885659565),\n",
       "    ('Electricity by coal', 1120.5276062404187)],\n",
       "   [('Steam and hot water supply services', 694.4692965635194),\n",
       "    ('Electricity by gas', 584.7359790977999)]]],\n",
       " [[242772.64991612025,\n",
       "   196491.56366149118,\n",
       "   32194.094890433633,\n",
       "   12720.114896790768],\n",
       "  [299155.17756453354,\n",
       "   15494.269853298476,\n",
       "   11727.527582163231,\n",
       "   5707.660887576079],\n",
       "  [1110.9143434570349,\n",
       "   966.0949597302977,\n",
       "   463.6891882956354,\n",
       "   251.4568236258758]])"
      ]
     },
     "execution_count": 39,
     "metadata": {},
     "output_type": "execute_result"
    }
   ],
   "source": [
    "# secondary_oil_sectors = ['Motor Gasoline', 'Gas/Diesel Oil', 'Heavy Fuel Oil', 'Kerosene Type Jet Fuel', \\\n",
    "#                'Liquefied Petroleum Gases (LPG)', 'Naphtha', 'Non-specified Petroleum Products', 'Kerosene', \\\n",
    "#                'Petroleum Coke', 'Aviation Gasoline', 'Gasoline Type Jet Fuel']\n",
    "# secondary_oil_sectors = ['Motor Gasoline', 'Gas/Diesel Oil', 'Heavy Fuel Oil']\n",
    "# outputs(secondary_oil_sectors, out_sectors=oil_sectors)\n",
    "# ['Coke Oven Coke', 'Other Bituminous Coal', 'Coal Tar', 'Coke oven gas', 'Coking Coal', \\\n",
    "#                 'Lignite/Brown Coal', 'Sub-Bituminous Coal', 'Anthracite']\n",
    "\n",
    "energy_supply_secs('Coke Oven Coke').sum()\n",
    "internal_energy('Coke Oven Coke', source='all')\n",
    "inputs(secs='Coke Oven Coke', var_impacts=['Total Energy supply','Total Energy Use'], nb_main=2, source='all')"
   ]
  },
  {
   "cell_type": "code",
   "execution_count": 77,
   "metadata": {},
   "outputs": [
    {
     "data": {
      "text/plain": [
       "29751.14952521151"
      ]
     },
     "execution_count": 77,
     "metadata": {},
     "output_type": "execute_result"
    },
    {
     "data": {
      "text/plain": [
       "6123.690879958876"
      ]
     },
     "execution_count": 77,
     "metadata": {},
     "output_type": "execute_result"
    },
    {
     "data": {
      "text/plain": [
       "5525.245096713462"
      ]
     },
     "execution_count": 77,
     "metadata": {},
     "output_type": "execute_result"
    },
    {
     "name": "stdout",
     "output_type": "stream",
     "text": [
      "eroi 40.48136875009667\n"
     ]
    },
    {
     "data": {
      "text/plain": [
       "([[('Electricity by solar photovoltaic', 55.311208806260154),\n",
       "   ('Additives/Blending Components', 0.0),\n",
       "   ('Air transport services', 0.0),\n",
       "   ('Aluminium and aluminium products', 0.0),\n",
       "   ('Aluminium ores and concentrates', 0.0)],\n",
       "  [('Other business services', 2.9712485871617504),\n",
       "   ('Distribution services of gaseous fuels through mains',\n",
       "    2.7358719455815903),\n",
       "   ('Construction work', 1.9254374329215658),\n",
       "   ('Electrical machinery and apparatus n.e.c.', 1.6230352926019678),\n",
       "   ('Biogas', 0.9303640958846885)],\n",
       "  [('Other business services', 1.654793892220616),\n",
       "   ('Electrical machinery and apparatus n.e.c.', 0.5913128968953272),\n",
       "   ('Real estate services', 0.4507381349048853),\n",
       "   ('Public administration and defence services; compulsory social security services',\n",
       "    0.4305762276859201),\n",
       "   ('Fabricated metal products, except machinery and equipment',\n",
       "    0.3991333205268174)],\n",
       "  [('Other business services', 0.7544395270728993),\n",
       "   ('Financial intermediation services, except insurance and pension funding services',\n",
       "    0.21667308724246073),\n",
       "   ('Real estate services', 0.21374683272448097),\n",
       "   ('Wholesale trade and commission trade services, except of motor vehicles and motorcycles',\n",
       "    0.20511586650267893),\n",
       "   ('Basic iron and steel and of ferro-alloys and first products thereof',\n",
       "    0.18516083380248918)]],\n",
       " [[[('Electricity by solar photovoltaic', 463.86297453209994),\n",
       "    ('Additives/Blending Components', 0.0),\n",
       "    ('Air transport services', 0.0),\n",
       "    ('Aluminium and aluminium products', 0.0),\n",
       "    ('Aluminium ores and concentrates', 0.0)],\n",
       "   [('Distribution services of gaseous fuels through mains',\n",
       "     48.61109088335906),\n",
       "    ('Gas/Diesel Oil', 17.48370850480803),\n",
       "    ('Biogas', 16.935237382905676),\n",
       "    ('Electricity by coal', 15.52824280421064),\n",
       "    ('Liquefied Petroleum Gases (LPG)', 7.078641309409379)],\n",
       "   [('Electricity by coal', 19.995556396694163),\n",
       "    ('Liquefied Petroleum Gases (LPG)', 13.153423176238576),\n",
       "    ('Electricity by nuclear', 11.198638195342014),\n",
       "    ('Electricity by gas', 10.974319868990435),\n",
       "    ('Gas/Diesel Oil', 7.639974091233505)],\n",
       "   [('Electricity by coal', 5.876287739168529),\n",
       "    ('Gas/Diesel Oil', 4.226558557110126),\n",
       "    ('Electricity by nuclear', 3.243641788890733),\n",
       "    ('Chemicals nec', 2.8625771040007244),\n",
       "    ('Electricity by gas', 2.639586137597277)]],\n",
       "  [[('Electricity by solar photovoltaic', 5525.170119996644),\n",
       "    ('Additives/Blending Components', 0.0),\n",
       "    ('Air transport services', 0.0),\n",
       "    ('Aluminium and aluminium products', 0.0),\n",
       "    ('Aluminium ores and concentrates', 0.0)],\n",
       "   [('Natural gas and services related to natural gas extraction, excluding surveying',\n",
       "     68.6727703603718),\n",
       "    ('Distribution services of gaseous fuels through mains',\n",
       "     39.06494845443519),\n",
       "    ('Biogas', 17.466876129089304),\n",
       "    ('Gas/Diesel Oil', 16.481639398377563),\n",
       "    ('Liquefied Petroleum Gases (LPG)', 7.866269026741772)],\n",
       "   [('Crude petroleum and services related to crude oil extraction, excluding surveying',\n",
       "     26.376427646894133),\n",
       "    ('Natural gas and services related to natural gas extraction, excluding surveying',\n",
       "     15.029887735400264),\n",
       "    ('Liquefied Petroleum Gases (LPG)', 14.726115526198825),\n",
       "    ('Coking Coal', 11.476885053287006),\n",
       "    ('Other Bituminous Coal', 10.559104307798176)],\n",
       "   [('Other Bituminous Coal', 24.926228562322848),\n",
       "    ('Crude petroleum and services related to crude oil extraction, excluding surveying',\n",
       "     23.12176681944654),\n",
       "    ('Natural gas and services related to natural gas extraction, excluding surveying',\n",
       "     21.13727091447851),\n",
       "    ('Coking Coal', 5.889711147774989),\n",
       "    ('Gas/Diesel Oil', 4.0075676798338336)]]],\n",
       " [[463.86297453210005,\n",
       "   168.51334505019844,\n",
       "   120.58717841670111,\n",
       "   52.50571132446503],\n",
       "  [5525.170119996643,\n",
       "   203.38299269153498,\n",
       "   150.4797301148132,\n",
       "   111.68837057038905],\n",
       "  [55.31120880626015,\n",
       "   21.045459739831614,\n",
       "   10.564555807752326,\n",
       "   5.397027291214563]])"
      ]
     },
     "execution_count": 77,
     "metadata": {},
     "output_type": "execute_result"
    }
   ],
   "source": [
    "inp = inputs(secs='Electricity by solar photovoltaic', var_impacts=['Total Energy Use', 'Total Energy supply'], source='all', group_by='sector')\n",
    "supply = energy_supply_secs('Electricity by solar photovoltaic').sum()\n",
    "embodied = embodied_energy('Electricity by solar photovoltaic').sum()\n",
    "internal = internal_energy(secs='Electricity by solar photovoltaic')\n",
    "supply\n",
    "embodied\n",
    "internal\n",
    "# print('eroi direct', (supply_oil-inputs_oil[2][1][0])/(embodied_oil-inputs_oil[2][1][0]))\n",
    "print('eroi', (supply-internal)/(embodied-internal))\n",
    "inp"
   ]
  },
  {
   "cell_type": "code",
   "execution_count": 138,
   "metadata": {},
   "outputs": [
    {
     "data": {
      "text/plain": [
       "121041337.44387159"
      ]
     },
     "execution_count": 138,
     "metadata": {},
     "output_type": "execute_result"
    },
    {
     "data": {
      "text/plain": [
       "50621259.42866843"
      ]
     },
     "execution_count": 138,
     "metadata": {},
     "output_type": "execute_result"
    },
    {
     "data": {
      "text/plain": [
       "[[48231227.30036503, 2232325.6583561217, 718848.140236118, 289957.6631854612],\n",
       " [46959109.1995285, 2211086.272519579, 762504.9741502645, 316777.71795211884],\n",
       " [380533.74711147544, 312897.53685744, 134434.98227280736, 69765.39833734345]]"
      ]
     },
     "execution_count": 138,
     "metadata": {},
     "output_type": "execute_result"
    },
    {
     "name": "stdout",
     "output_type": "stream",
     "text": [
      "eroi direct 20.22916145134263\n",
      "eroi 2.3911166733106213\n"
     ]
    },
    {
     "data": {
      "text/plain": [
       "46959109.1995285"
      ]
     },
     "execution_count": 138,
     "metadata": {},
     "output_type": "execute_result"
    },
    {
     "data": {
      "text/plain": [
       "[[('Motor Gasoline', 35963842.35135992),\n",
       "  ('Gas/Diesel Oil', 10311800.0852555),\n",
       "  ('Heavy Fuel Oil', 683466.7629130911),\n",
       "  ('Additives/Blending Components', 0.0)],\n",
       " [('Motor Gasoline', 991850.23856673),\n",
       "  ('Non-specified Petroleum Products', 487191.47651214385),\n",
       "  ('Heavy Fuel Oil', 267150.63777086785),\n",
       "  ('Liquefied Petroleum Gases (LPG)', 205026.30052822956)],\n",
       " [('Gas/Diesel Oil', 185555.44418574657),\n",
       "  ('Motor Gasoline', 168299.93431291723),\n",
       "  ('Heavy Fuel Oil', 157835.45599807065),\n",
       "  ('Liquefied Petroleum Gases (LPG)', 80488.3750093586)],\n",
       " [('Gas/Diesel Oil', 97251.81168373859),\n",
       "  ('Heavy Fuel Oil', 55345.439523412875),\n",
       "  ('Motor Gasoline', 53604.60853360344),\n",
       "  ('Naphtha', 35815.408881791125)]]"
      ]
     },
     "execution_count": 138,
     "metadata": {},
     "output_type": "execute_result"
    },
    {
     "data": {
      "text/plain": [
       "[[('Motor Gasoline', 36968714.481817044),\n",
       "  ('Gas/Diesel Oil', 10570956.160122944),\n",
       "  ('Heavy Fuel Oil', 691556.6584250524),\n",
       "  ('Additives/Blending Components', 0.0)],\n",
       " [('Motor Gasoline', 1018462.3254508848),\n",
       "  ('Non-specified Petroleum Products', 512545.8445755007),\n",
       "  ('Heavy Fuel Oil', 277389.0141186852),\n",
       "  ('Liquefied Petroleum Gases (LPG)', 150072.87444682192)],\n",
       " [('Gas/Diesel Oil', 178428.35384989317),\n",
       "  ('Motor Gasoline', 165945.2957388143),\n",
       "  ('Heavy Fuel Oil', 150111.15394039627),\n",
       "  ('Liquefied Petroleum Gases (LPG)', 63045.92383126515)],\n",
       " [('Gas/Diesel Oil', 94354.29569922961),\n",
       "  ('Motor Gasoline', 53002.30190493117),\n",
       "  ('Heavy Fuel Oil', 51579.1549563666),\n",
       "  ('Naphtha', 35024.0613793562)]]"
      ]
     },
     "execution_count": 138,
     "metadata": {},
     "output_type": "execute_result"
    }
   ],
   "source": [
    "# inputs_oil = inputs(secs=secondary_oil_sectors, var_impacts=['Total Energy Use', 'Total Energy supply'], source='secondary_trick', group_by='sector')\n",
    "# supply_oil = energy_supply_secs(secondary_oil_sectors).sum()\n",
    "# # embodied_energy(sectors_source(coal_sectors)).sum()\n",
    "# embodied_oil = embodied_energy(secondary_oil_sectors, notion='supply', source='secondary_trick').sum()\n",
    "# internal_energy(secs=sectors_source(coal_sectors), source='secondary')\n",
    "# direct_impact(sectors_source('oil_all'), regions, 'supply', 'secondary') \n",
    "supply_oil\n",
    "embodied_oil\n",
    "inputs_oil[2]\n",
    "print('eroi direct', (supply_oil-inputs_oil[2][1][0])/(embodied_oil-inputs_oil[2][1][0]))\n",
    "print('eroi', (supply_oil)/(embodied_oil))\n",
    "inputs_oil[2][1][0]\n",
    "inputs_oil[1][1]\n",
    "inputs_oil[1][0]"
   ]
  },
  {
   "cell_type": "code",
   "execution_count": 57,
   "metadata": {},
   "outputs": [
    {
     "data": {
      "text/plain": [
       "27509.937909597713"
      ]
     },
     "execution_count": 57,
     "metadata": {},
     "output_type": "execute_result"
    },
    {
     "data": {
      "text/plain": [
       "9588615.551048867"
      ]
     },
     "execution_count": 57,
     "metadata": {},
     "output_type": "execute_result"
    },
    {
     "data": {
      "text/plain": [
       "2554992.9705317128"
      ]
     },
     "execution_count": 57,
     "metadata": {},
     "output_type": "execute_result"
    },
    {
     "name": "stdout",
     "output_type": "stream",
     "text": [
      "eroi direct 4.759589806197619\n",
      "eroi 3.7528931240282066\n"
     ]
    },
    {
     "data": {
      "text/plain": [
       "([[('Electricity by hydro', 106072.16017420759),\n",
       "   ('Additives/Blending Components', 0.0)],\n",
       "  [('Distribution services of gaseous fuels through mains', 5001.591717230473),\n",
       "   ('Financial intermediation services, except insurance and pension funding services',\n",
       "    3433.171560985149)],\n",
       "  [('Other business services', 1494.4203441320221),\n",
       "   ('Crude petroleum and services related to crude oil extraction, excluding surveying',\n",
       "    1239.9432276779114)],\n",
       "  [('Other business services', 869.9546018815654),\n",
       "   ('Wholesale trade and commission trade services, except of motor vehicles and motorcycles',\n",
       "    565.9395774654043)]],\n",
       " [[[('Electricity by hydro', 9588615.551048866),\n",
       "    ('Additives/Blending Components', 0.0)],\n",
       "   [('Uranium and thorium ores', 503543.5630970705),\n",
       "    ('Gas/Diesel Oil', 165417.4799064608)],\n",
       "   [('Crude petroleum and services related to crude oil extraction, excluding surveying',\n",
       "     226469.8165004787),\n",
       "    ('Natural gas and services related to natural gas extraction, excluding surveying',\n",
       "     131626.7982463111)],\n",
       "   [('Crude petroleum and services related to crude oil extraction, excluding surveying',\n",
       "     78295.03357835676),\n",
       "    ('Natural gas and services related to natural gas extraction, excluding surveying',\n",
       "     61215.481041873216)]],\n",
       "  [[('Electricity by hydro', 684144.5686868228),\n",
       "    ('Additives/Blending Components', 0.0)],\n",
       "   [('Distribution services of gaseous fuels through mains',\n",
       "     233328.34300372368),\n",
       "    ('Gas/Diesel Oil', 171644.31562848677)],\n",
       "   [('Electricity by coal', 47117.75624546479),\n",
       "    ('Liquefied Petroleum Gases (LPG)', 24115.507141110396)],\n",
       "   [('Electricity by coal', 31971.46406061659),\n",
       "    ('Gas/Diesel Oil', 14079.264703819055)]]],\n",
       " [[9588615.551048866,\n",
       "   1061416.641057771,\n",
       "   643518.7513887672,\n",
       "   342448.17798020586],\n",
       "  [684144.568686823, 722214.4887470033, 362507.0820576637, 217986.38387930088],\n",
       "  [106072.16017420756,\n",
       "   35622.301735733316,\n",
       "   20611.851306337863,\n",
       "   12003.929176099802]])"
      ]
     },
     "execution_count": 57,
     "metadata": {},
     "output_type": "execute_result"
    }
   ],
   "source": [
    "inputs_hydro = inputs(secs='Electricity by hydro', var_impacts=['Total Energy supply', 'Total Energy Use'], nb_main=2, source='all', group_by='sector')\n",
    "supply_hydro = energy_supply_secs('Electricity by hydro').sum()\n",
    "# # embodied_energy(sectors_source(coal_sectors)).sum()\n",
    "embodied_hydro = embodied_energy('Electricity by hydro').sum()\n",
    "internal_energy(secs='Electricity by hydro')\n",
    "# direct_impact('Electricity by hydro', regions, 'supply', 'all') \n",
    "supply_hydro\n",
    "embodied_hydro\n",
    "print('eroi direct', (supply_hydro-inputs_hydro[2][1][0])/(embodied_hydro-inputs_hydro[2][1][0])) # direct = True pour l'hydro\n",
    "print('eroi', (supply_hydro)/(embodied_hydro))\n",
    "inputs_hydro"
   ]
  },
  {
   "cell_type": "code",
   "execution_count": 61,
   "metadata": {},
   "outputs": [
    {
     "data": {
      "text/plain": [
       "20.045582868429822"
      ]
     },
     "execution_count": 61,
     "metadata": {},
     "output_type": "execute_result"
    }
   ],
   "source": [
    "# internal_energy('Electricity by hydro', source='Electricity by hydro')\n",
    "# energy_supply_secs('Electricity by hydro').sum()/embodied_energy('Electricity by hydro', source=sectors_source('all')).sum()\n",
    "eroi(secs='Electricity by hydro')"
   ]
  },
  {
   "cell_type": "code",
   "execution_count": null,
   "metadata": {},
   "outputs": [],
   "source": [
    "erois_supply_secondary_not_direct_not_ext = erois(notion='supply', source='secondary_trick', direct=False, external=False)"
   ]
  },
  {
   "cell_type": "code",
   "execution_count": 12,
   "metadata": {},
   "outputs": [
    {
     "name": "stdout",
     "output_type": "stream",
     "text": [
      "EROI with supply from secondary sources at the denominator, unadjusted for growth\n",
      "oil_secondary 10.181040772724916\n",
      "coal_all 12.546575706400336\n",
      "oil_all 22.45761358849529\n",
      "gas_all 15.146507884162839\n",
      "oil_and_gas 11.660764622302256\n",
      "gas_extraction 237.50192698113736\n",
      "oil_extraction 2792.4071753273315\n",
      "wind 34.60987622766568\n",
      "PV 83.50666692377538\n",
      "hydro 54.394727899968515\n",
      "nuclear_fuel 84.88133635059724\n",
      "elec_nuclear 32.8446334119327\n",
      "elec_coal 1.94209699915083\n",
      "elec_oil 2.373568803318177\n",
      "elec_gas 2.049273439404086\n"
     ]
    }
   ],
   "source": [
    "erois_supply_secondary_direct_not_ext = erois(notion='supply', source='secondary&final', external=False)"
   ]
  },
  {
   "cell_type": "code",
   "execution_count": 13,
   "metadata": {},
   "outputs": [
    {
     "name": "stdout",
     "output_type": "stream",
     "text": [
      "External EROI with supply from all sources at the denominator, unadjusted for growth\n",
      "oil_secondary 2.837275889753819\n",
      "coal_all 25.489973722521857\n",
      "oil_all 5.468748646800888\n",
      "gas_all 9.55395762693034\n",
      "oil_and_gas 4.117153516209482\n",
      "gas_extraction 12.875042421492427\n",
      "oil_extraction 101.38868348013902\n",
      "wind 3.5353397743951254\n",
      "PV 5.256546669322827\n",
      "hydro 4.4734464781958785\n",
      "nuclear_fuel 76.95642602082887\n",
      "elec_nuclear -1.6497068318506851\n",
      "elec_coal 6.712276332888653\n",
      "elec_oil -253.78549312037646\n",
      "elec_gas 4.527526545848901\n"
     ]
    }
   ],
   "source": [
    "# /!\\ Why EROI of wind, PV so high and EROI of elec from hydrocarbon so low?\n",
    "erois_supply_all_ext = erois(direct=False) # pb: oil, hydro"
   ]
  },
  {
   "cell_type": "code",
   "execution_count": 19,
   "metadata": {},
   "outputs": [
    {
     "name": "stdout",
     "output_type": "stream",
     "text": [
      "EROI with supply from all sources at the denominator, unadjusted for growth\n",
      "oil_secondary 1.8836261424212912\n",
      "coal_all 10.882850259806355\n",
      "oil_all 4.426332873595528\n",
      "gas_all 13.428911593193325\n",
      "oil_and_gas 3.25844385262107\n",
      "gas_extraction 165.3066430172389\n",
      "oil_extraction 1587.277855907167\n",
      "wind 15.372626989840398\n",
      "PV 40.47642291763378\n",
      "hydro 16.186977147232096\n",
      "nuclear_fuel 33.866297617005706\n",
      "elec_nuclear 13.250711071703913\n",
      "elec_coal 1.3808318623444915\n",
      "elec_oil 1.1550933965459242\n",
      "elec_gas 1.4760315825366555\n"
     ]
    }
   ],
   "source": [
    "erois_supply_all_ext = erois(external=False)"
   ]
  },
  {
   "cell_type": "code",
   "execution_count": 143,
   "metadata": {},
   "outputs": [
    {
     "name": "stdout",
     "output_type": "stream",
     "text": [
      "EROI with supply from secondary&final sources at the denominator, unadjusted for growth\n",
      "oil_secondary 9.484506760095597\n",
      "coal_all 12.04814798600156\n",
      "oil_all 20.966703721423926\n",
      "gas_all 14.497636870386618\n",
      "oil_and_gas 10.940305014283066\n",
      "gas_extraction 220.6126867054247\n",
      "oil_extraction 2472.329707298113\n",
      "wind 31.66999468958118\n",
      "PV 76.15532265357751\n",
      "hydro 50.724656542704565\n",
      "nuclear_fuel 77.38605800804444\n",
      "elec_nuclear 30.22752802191187\n",
      "elec_coal 1.5281392613697993\n",
      "elec_oil 1.8101890140464993\n",
      "elec_gas 1.5672128980282962\n"
     ]
    }
   ],
   "source": [
    "erois_supply_secondary_direct_not_ext = erois(notion='supply', source='secondary&final', external=False) # pb: renewable too high, elecs, hydro and coal too low"
   ]
  },
  {
   "cell_type": "code",
   "execution_count": 50,
   "metadata": {},
   "outputs": [
    {
     "name": "stdout",
     "output_type": "stream",
     "text": [
      "External EROI with supply from all sources at the denominator, unadjusted for growth\n",
      "oil_secondary 0.8293922659582211\n",
      "coal_all 5.651106567697579\n",
      "oil_all 2.759591668784329\n",
      "gas_all 8.012864497479098\n",
      "oil_and_gas 1.2125813956022657\n",
      "gas_extraction 15.097583065009859\n",
      "oil_extraction 8.671727007547915\n",
      "wind 3.656848830056472\n",
      "PV 2.176346566996635\n",
      "hydro 3.7828564978417223\n",
      "nuclear_fuel 23.41388883540924\n",
      "elec_nuclear 4.980950983325899\n",
      "elec_coal 0.3538096352190792\n",
      "elec_oil 0.29293882987151876\n",
      "elec_gas 0.3850435198698034\n"
     ]
    }
   ],
   "source": [
    "erois_supply_all = erois()\n",
    "# erois_supply_secondary_direct_not_ext = erois(notion='supply', source='all', external=False) "
   ]
  },
  {
   "cell_type": "code",
   "execution_count": null,
   "metadata": {},
   "outputs": [],
   "source": [
    "erois_supply_secondary_not_direct_not_ext = erois(notion='supply', source='secondary_new', direct=False, external=False) # pb: hydro, oil & elecs too low"
   ]
  },
  {
   "cell_type": "code",
   "execution_count": 190,
   "metadata": {},
   "outputs": [
    {
     "data": {
      "text/plain": [
       "[[15179389.498033646,\n",
       "  119245.6902420065,\n",
       "  56641.983822861745,\n",
       "  31462.52065331973],\n",
       " [15172919.936463222, 170581.3597792254, 82589.14845721866, 47067.93975460112],\n",
       " [8311.70116294186, 5172.575897350161, 3232.2582493099767, 1864.514224757981]]"
      ]
     },
     "execution_count": 190,
     "metadata": {},
     "output_type": "execute_result"
    },
    {
     "data": {
      "text/plain": [
       "[[('Nuclear fuel', 15179389.498033646),\n",
       "  ('Additives/Blending Components', 0.0),\n",
       "  ('Air transport services', 0.0),\n",
       "  ('Aluminium and aluminium products', 0.0)],\n",
       " [('Liquefied Petroleum Gases (LPG)', 16746.451158152446),\n",
       "  ('Chemicals nec', 10214.19609003531),\n",
       "  ('Plastics, basic', 9121.63889079581),\n",
       "  ('Gas/Diesel Oil', 7879.033367728841)],\n",
       " [('Chemicals nec', 5089.630313120481),\n",
       "  ('Plastics, basic', 4181.084667072489),\n",
       "  ('Gas/Diesel Oil', 3605.7516291319166),\n",
       "  ('Electricity by coal', 3245.935491185052)],\n",
       " [('Chemicals nec', 2661.9804191431203),\n",
       "  ('Gas/Diesel Oil', 2363.7446530508123),\n",
       "  ('Electricity by coal', 2276.920913945992),\n",
       "  ('Plastics, basic', 1794.2826026219268)]]"
      ]
     },
     "execution_count": 190,
     "metadata": {},
     "output_type": "execute_result"
    },
    {
     "data": {
      "text/plain": [
       "[[('Nuclear fuel', 15172919.936463218),\n",
       "  ('Additives/Blending Components', 0.0),\n",
       "  ('Air transport services', 0.0),\n",
       "  ('Aluminium and aluminium products', 0.0)],\n",
       " [('Uranium and thorium ores', 75701.35307392964),\n",
       "  ('Liquefied Petroleum Gases (LPG)', 19905.825051550462),\n",
       "  ('Gas/Diesel Oil', 7634.998847513585),\n",
       "  ('Chemicals nec', 7453.844009240226)],\n",
       " [('Crude petroleum and services related to crude oil extraction, excluding surveying',\n",
       "   27263.972516560527),\n",
       "  ('Natural gas and services related to natural gas extraction, excluding surveying',\n",
       "   6106.212507082174),\n",
       "  ('Other Bituminous Coal', 3977.233752568826),\n",
       "  ('Chemicals nec', 3857.5588002953514)],\n",
       " [('Crude petroleum and services related to crude oil extraction, excluding surveying',\n",
       "   11892.257117788342),\n",
       "  ('Natural gas and services related to natural gas extraction, excluding surveying',\n",
       "   5491.375262902282),\n",
       "  ('Other Bituminous Coal', 3727.653296538527),\n",
       "  ('Gas/Diesel Oil', 2274.211999964004)]]"
      ]
     },
     "execution_count": 190,
     "metadata": {},
     "output_type": "execute_result"
    }
   ],
   "source": [
    "# inputs_nuclear = inputs(secs='Nuclear fuel', var_impacts=['Total Energy Use', 'Total Energy supply'], group_by='sector')\n",
    "inputs_nuclear[2]\n",
    "inputs_nuclear[1][0]\n",
    "inputs_nuclear[1][1]"
   ]
  },
  {
   "cell_type": "code",
   "execution_count": 54,
   "metadata": {},
   "outputs": [
    {
     "data": {
      "text/plain": [
       "44.569756205875485"
      ]
     },
     "execution_count": 54,
     "metadata": {},
     "output_type": "execute_result"
    }
   ],
   "source": [
    "151028204.00521022/3388580.437989936"
   ]
  },
  {
   "cell_type": "code",
   "execution_count": 62,
   "metadata": {},
   "outputs": [
    {
     "data": {
      "text/plain": [
       "176952820.37669185"
      ]
     },
     "execution_count": 62,
     "metadata": {},
     "output_type": "execute_result"
    },
    {
     "data": {
      "text/plain": [
       "25924616.37148164"
      ]
     },
     "execution_count": 62,
     "metadata": {},
     "output_type": "execute_result"
    },
    {
     "data": {
      "text/plain": [
       "16737355.696289094"
      ]
     },
     "execution_count": 62,
     "metadata": {},
     "output_type": "execute_result"
    },
    {
     "data": {
      "text/plain": [
       "151028204.00521022"
      ]
     },
     "execution_count": 62,
     "metadata": {},
     "output_type": "execute_result"
    },
    {
     "data": {
      "text/plain": [
       "25924616.37148164"
      ]
     },
     "execution_count": 62,
     "metadata": {},
     "output_type": "execute_result"
    },
    {
     "data": {
      "text/plain": [
       "[[16790225.053173784,\n",
       "  1551182.3091275073,\n",
       "  420880.0459291411,\n",
       "  185732.14075831755],\n",
       " [8228601.721996602,\n",
       "  13372841.42661109,\n",
       "  1313135.4182999863,\n",
       "  392178.36182289204],\n",
       " [72247.00887496052,\n",
       "  41243.127740379445,\n",
       "  20892.96187731465,\n",
       "  11244.310667603258]]"
      ]
     },
     "execution_count": 62,
     "metadata": {},
     "output_type": "execute_result"
    },
    {
     "data": {
      "text/plain": [
       "8228601.721996602"
      ]
     },
     "execution_count": 62,
     "metadata": {},
     "output_type": "execute_result"
    },
    {
     "data": {
      "text/plain": [
       "[[('Electricity by coal', 5366828.601379216),\n",
       "  ('Other Bituminous Coal', 2239591.289685915),\n",
       "  ('Coke Oven Coke', 242772.64991612025),\n",
       "  ('Lignite/Brown Coal', 150509.0105880792)],\n",
       " [('Other Bituminous Coal', 9727642.376160493),\n",
       "  ('Sub-Bituminous Coal', 960108.1058810502),\n",
       "  ('Patent Fuel', 831120.7177579005),\n",
       "  ('Coking Coal', 450372.49074784684)],\n",
       " [('Other Bituminous Coal', 720459.4996147156),\n",
       "  ('Coking Coal', 148570.74016661601),\n",
       "  ('Crude petroleum and services related to crude oil extraction, excluding surveying',\n",
       "   123826.18929095805),\n",
       "  ('Natural gas and services related to natural gas extraction, excluding surveying',\n",
       "   80126.79860456323)],\n",
       " [('Other Bituminous Coal', 128708.52588358521),\n",
       "  ('Crude petroleum and services related to crude oil extraction, excluding surveying',\n",
       "   69239.6437074811),\n",
       "  ('Natural gas and services related to natural gas extraction, excluding surveying',\n",
       "   59186.5367514943),\n",
       "  ('Coking Coal', 18947.692331112677)]]"
      ]
     },
     "execution_count": 62,
     "metadata": {},
     "output_type": "execute_result"
    },
    {
     "data": {
      "text/plain": [
       "[[('Electricity by coal', 16392532.872318218),\n",
       "  ('Coke Oven Coke', 299155.1775645337),\n",
       "  ('Other Bituminous Coal', 64608.491999517304),\n",
       "  ('Coal Tar', 13619.5068361652)],\n",
       " [('Other Bituminous Coal', 738228.9163871842),\n",
       "  ('Patent Fuel', 109104.2075613892),\n",
       "  ('Sub-Bituminous Coal', 88727.27700865472),\n",
       "  ('Coke Oven Coke', 74493.46389003823)],\n",
       " [('Electricity by coal', 80374.6437834366),\n",
       "  ('Other Bituminous Coal', 58623.25820517247),\n",
       "  ('Electricity by gas', 23441.926149106264),\n",
       "  ('Gas/Diesel Oil', 19805.255224673245)],\n",
       " [('Electricity by coal', 32945.1541242232),\n",
       "  ('Gas/Diesel Oil', 12480.041399226213),\n",
       "  ('Coke Oven Coke', 10553.963150064203),\n",
       "  ('Electricity by gas', 9390.390780650585)]]"
      ]
     },
     "execution_count": 62,
     "metadata": {},
     "output_type": "execute_result"
    }
   ],
   "source": [
    "# inputs_coal = inputs(secs=coal_sectors+['Electricity by coal'], var_impacts=['Total Energy Use', 'Total Energy supply'], group_by='sector') # 'Electricity by coal'\n",
    "energy_supply_secs(coal_sectors+['Electricity by coal']).sum()\n",
    "energy_supply_secs(['Electricity by coal']).sum()\n",
    "# embodied_energy(sectors_source(coal_sectors)).sum()\n",
    "embodied_energy(coal_sectors+['Electricity by coal'], notion='supply', source='secondary').sum()\n",
    "# internal_energy(secs=sectors_source(coal_sectors), source='secondary') # TODO: should be 16M\n",
    "direct_impact(coal_sectors+['Electricity by coal'], regions, 'supply', 'secondary') # TODO: should be 16M\n",
    "direct_impact(['Electricity by coal'], regions, 'supply', 'secondary&final') # TODO: should be 16M\n",
    "inputs_coal[2]\n",
    "inputs_coal[2][1][0]\n",
    "inputs_coal[1][1]\n",
    "inputs_coal[1][0]"
   ]
  },
  {
   "cell_type": "code",
   "execution_count": 44,
   "metadata": {},
   "outputs": [
    {
     "data": {
      "text/plain": [
       "-4.87195342325146"
      ]
     },
     "execution_count": 44,
     "metadata": {},
     "output_type": "execute_result"
    },
    {
     "data": {
      "text/plain": [
       "20.461159399773408"
      ]
     },
     "execution_count": 44,
     "metadata": {},
     "output_type": "execute_result"
    },
    {
     "data": {
      "text/plain": [
       "7917.609259747591"
      ]
     },
     "execution_count": 44,
     "metadata": {},
     "output_type": "execute_result"
    },
    {
     "data": {
      "text/plain": [
       "133878.73879701685"
      ]
     },
     "execution_count": 44,
     "metadata": {},
     "output_type": "execute_result"
    },
    {
     "data": {
      "text/plain": [
       "23383.127507327947"
      ]
     },
     "execution_count": 44,
     "metadata": {},
     "output_type": "execute_result"
    },
    {
     "data": {
      "text/plain": [
       "160188.53823125426"
      ]
     },
     "execution_count": 44,
     "metadata": {},
     "output_type": "execute_result"
    },
    {
     "data": {
      "text/plain": [
       "15554.215453875117"
      ]
     },
     "execution_count": 44,
     "metadata": {},
     "output_type": "execute_result"
    }
   ],
   "source": [
    "538329.4716770626/(23383.127507327947-133878.73879701685)\n",
    "538329/(160188.53823125426-133878.73879701685)\n",
    "inputs_wind[2][0][0] # sum energy use 1st recursion\n",
    "inputs_wind[2][1][0] # sum energy supply 1st recursion\n",
    "embodied_energy(['Electricity by wind']).sum()\n",
    "embodied_energy(['Electricity by wind'], notion='supply').sum()\n",
    "embodied_energy(['Electricity by wind'], notion='supply', source='secondary').sum()  # in inputs there are all sources, but in embodied_energy only secondary"
   ]
  },
  {
   "cell_type": "code",
   "execution_count": 36,
   "metadata": {},
   "outputs": [
    {
     "name": "stdout",
     "output_type": "stream",
     "text": [
      "538329.4716770626\n",
      "15554.215453875117\n",
      "133878.73879701685\n"
     ]
    },
    {
     "data": {
      "text/plain": [
       "-4.549601861618359"
      ]
     },
     "execution_count": 36,
     "metadata": {},
     "output_type": "execute_result"
    },
    {
     "data": {
      "text/plain": [
       "538329.4716770626"
      ]
     },
     "execution_count": 36,
     "metadata": {},
     "output_type": "execute_result"
    },
    {
     "data": {
      "text/plain": [
       "160188.53823125426"
      ]
     },
     "execution_count": 36,
     "metadata": {},
     "output_type": "execute_result"
    },
    {
     "data": {
      "text/plain": [
       "16998.09163069303"
      ]
     },
     "execution_count": 36,
     "metadata": {},
     "output_type": "execute_result"
    },
    {
     "data": {
      "text/plain": [
       "0.0"
      ]
     },
     "execution_count": 36,
     "metadata": {},
     "output_type": "execute_result"
    },
    {
     "data": {
      "text/plain": [
       "0.0"
      ]
     },
     "execution_count": 36,
     "metadata": {},
     "output_type": "execute_result"
    },
    {
     "data": {
      "text/plain": [
       "[[7917.609259747591, 6164.825220448063, 4992.197026839413, 1732.989880220181],\n",
       " [133878.73879701685, 10622.789419754212, 6790.596904889537, 4544.79009349507],\n",
       " [1780.6495736640227,\n",
       "  611.2725272275914,\n",
       "  312.03874968558114,\n",
       "  163.7089936500526]]"
      ]
     },
     "execution_count": 36,
     "metadata": {},
     "output_type": "execute_result"
    },
    {
     "data": {
      "text/plain": [
       "7917.609259747591"
      ]
     },
     "execution_count": 36,
     "metadata": {},
     "output_type": "execute_result"
    },
    {
     "data": {
      "text/plain": [
       "133878.73879701685"
      ]
     },
     "execution_count": 36,
     "metadata": {},
     "output_type": "execute_result"
    },
    {
     "data": {
      "text/plain": [
       "[[('Electricity by wind', 133878.7387970169),\n",
       "  ('Additives/Blending Components', 0.0),\n",
       "  ('Air transport services', 0.0),\n",
       "  ('Aluminium and aluminium products', 0.0)],\n",
       " [('Natural gas and services related to natural gas extraction, excluding surveying',\n",
       "   4573.741784254237),\n",
       "  ('Uranium and thorium ores', 1605.0845516595775),\n",
       "  ('Distribution services of gaseous fuels through mains', 1046.7277326153069),\n",
       "  ('Gas/Diesel Oil', 878.4604793157336)],\n",
       " [('Crude petroleum and services related to crude oil extraction, excluding surveying',\n",
       "   1546.280545029666),\n",
       "  ('Natural gas and services related to natural gas extraction, excluding surveying',\n",
       "   1116.5823950777617),\n",
       "  ('Uranium and thorium ores', 506.45866444937616),\n",
       "  ('Liquefied Petroleum Gases (LPG)', 502.20970714427233)],\n",
       " [('Other Bituminous Coal', 1132.957988176551),\n",
       "  ('Natural gas and services related to natural gas extraction, excluding surveying',\n",
       "   1053.1002654342126),\n",
       "  ('Crude petroleum and services related to crude oil extraction, excluding surveying',\n",
       "   895.6541039231874),\n",
       "  ('Coking Coal', 212.32315279596693)]]"
      ]
     },
     "execution_count": 36,
     "metadata": {},
     "output_type": "execute_result"
    },
    {
     "data": {
      "text/plain": [
       "[[('Electricity by wind', 7917.609259747592),\n",
       "  ('Additives/Blending Components', 0.0),\n",
       "  ('Air transport services', 0.0),\n",
       "  ('Aluminium and aluminium products', 0.0)],\n",
       " [('Distribution services of gaseous fuels through mains', 1809.9192803488843),\n",
       "  ('Gas/Diesel Oil', 921.2992645209816),\n",
       "  ('Natural gas and services related to natural gas extraction, excluding surveying',\n",
       "   503.0659819390968),\n",
       "  ('Electricity by coal', 376.44432749363176)],\n",
       " [('Electricity by coal', 910.7644541859775),\n",
       "  ('Electricity by gas', 551.6088643363307),\n",
       "  ('Electricity by nuclear', 482.1860164696304),\n",
       "  ('Liquefied Petroleum Gases (LPG)', 431.624421707673)],\n",
       " [('Electricity by coal', 199.39715141947985),\n",
       "  ('Gas/Diesel Oil', 142.05785464667505),\n",
       "  ('Electricity by gas', 103.40531671498724),\n",
       "  ('Chemicals nec', 97.12931136010337)]]"
      ]
     },
     "execution_count": 36,
     "metadata": {},
     "output_type": "execute_result"
    }
   ],
   "source": [
    "eroi(secs='Electricity by wind', notion='supply', source='secondary', external=False)\n",
    "inputs_wind = inputs(secs='Electricity by wind', var_impacts=['Total Energy Use', 'Total Energy supply'], group_by='sector') # 'Electricity by coal'\n",
    "energy_supply_secs(['Electricity by wind']).sum()\n",
    "# embodied_energy(sectors_source(coal_sectors)).sum()\n",
    "embodied_energy(['Electricity by wind'], notion='supply', source='all').sum()\n",
    "embodied_energy(['Electricity by wind'], notion='supply', source='secondary&final').sum()\n",
    "# inputs(secs=secs, var_impacts=name_var(notion), order_recursion=1, group_by='sector')[2][0][0]\n",
    "# internal_energy(secs=sectors_source(coal_sectors), source='secondary') \n",
    "direct_impact(['Electricity by wind'], regions, 'supply', 'secondary') \n",
    "direct_impact(['Electricity by wind'], regions, 'supply', 'secondary&final') \n",
    "inputs_wind[2]\n",
    "inputs_wind[2][0][0] # direct impact\n",
    "inputs_wind[2][1][0]\n",
    "inputs_wind[1][1]\n",
    "inputs_wind[1][0]"
   ]
  },
  {
   "cell_type": "code",
   "execution_count": 51,
   "metadata": {},
   "outputs": [
    {
     "data": {
      "text/plain": [
       "True"
      ]
     },
     "execution_count": 51,
     "metadata": {},
     "output_type": "execute_result"
    }
   ],
   "source": [
    "inputs(coal_sectors)"
   ]
  },
  {
   "cell_type": "code",
   "execution_count": 167,
   "metadata": {},
   "outputs": [
    {
     "data": {
      "text/plain": [
       "[('Crude petroleum and services related to crude oil extraction, excluding surveying',\n",
       "  13923.245472708193),\n",
       " ('Electricity by coal', 10715.295729184656),\n",
       " ('Electricity by gas', 6057.689048212537)]"
      ]
     },
     "execution_count": 167,
     "metadata": {},
     "output_type": "execute_result"
    },
    {
     "data": {
      "text/plain": [
       "array([['Crude petroleum and services related to crude oil extraction, excluding surveying',\n",
       "        '13752.441564120978'],\n",
       "       ['Additives/Blending Components', '0.0'],\n",
       "       ['Air transport services', '0.0'],\n",
       "       ['Aluminium and aluminium products', '0.0']], dtype='<U96')"
      ]
     },
     "execution_count": 167,
     "metadata": {},
     "output_type": "execute_result"
    },
    {
     "data": {
      "text/plain": [
       "array([['Electricity by coal', '6468.680187952259'],\n",
       "       ['Electricity by gas', '3877.7984018330344'],\n",
       "       ['Electricity by nuclear', '2752.2793228640408'],\n",
       "       ['Renting services of machinery and equipment without operator and of personal and household goods',\n",
       "        '1865.209168189358']], dtype='<U96')"
      ]
     },
     "execution_count": 167,
     "metadata": {},
     "output_type": "execute_result"
    },
    {
     "data": {
      "text/plain": [
       "array([['Electricity by coal', '1863.0302220560402'],\n",
       "       ['Gas/Diesel Oil', '1508.692496401176'],\n",
       "       ['Chemicals nec', '1102.8132498607497'],\n",
       "       ['Electricity by gas', '985.3109566449058']], dtype='<U96')"
      ]
     },
     "execution_count": 167,
     "metadata": {},
     "output_type": "execute_result"
    },
    {
     "data": {
      "text/plain": [
       "array([['Electricity by coal', '1070.980334461504'],\n",
       "       ['Chemicals nec', '583.443331417941'],\n",
       "       ['Gas/Diesel Oil', '560.4014171610892'],\n",
       "       ['Electricity by gas', '559.8395995426628']], dtype='<U96')"
      ]
     },
     "execution_count": 167,
     "metadata": {},
     "output_type": "execute_result"
    }
   ],
   "source": [
    "# inputs_crude_oil = inputs(secs='Crude petroleum and services related to crude oil extraction, excluding surveying',\\\n",
    "#                           var_impacts=['Total Energy Use', 'Total Energy supply'], nb_main=5, group_by='sector')\n",
    "embodied_energy('Crude petroleum and services related to crude oil extraction, excluding surveying', group_by='sector', sort=True)[0:3]\n",
    "inputs_crude_oil[1][0]\n",
    "inputs_crude_oil[1][1]\n",
    "inputs_crude_oil[1][2]\n",
    "inputs_crude_oil[1][3]"
   ]
  },
  {
   "cell_type": "code",
   "execution_count": 178,
   "metadata": {},
   "outputs": [
    {
     "data": {
      "text/plain": [
       "2"
      ]
     },
     "execution_count": 178,
     "metadata": {},
     "output_type": "execute_result"
    }
   ],
   "source": [
    "ad=(0,2)\n",
    "ad[1]"
   ]
  },
  {
   "cell_type": "code",
   "execution_count": 32,
   "metadata": {},
   "outputs": [
    {
     "data": {
      "text/plain": [
       "['Motor Gasoline',\n",
       " 'Gas/Diesel Oil',\n",
       " 'Heavy Fuel Oil',\n",
       " 'Kerosene Type Jet Fuel',\n",
       " 'Liquefied Petroleum Gases (LPG)',\n",
       " 'Naphtha',\n",
       " 'Non-specified Petroleum Products',\n",
       " 'Kerosene',\n",
       " 'Petroleum Coke',\n",
       " 'Aviation Gasoline',\n",
       " 'Gasoline Type Jet Fuel']"
      ]
     },
     "execution_count": 32,
     "metadata": {},
     "output_type": "execute_result"
    }
   ],
   "source": []
  },
  {
   "cell_type": "code",
   "execution_count": 10,
   "metadata": {},
   "outputs": [],
   "source": [
    "embodied_energies.loc[['FR','US','WM']]"
   ]
  },
  {
   "cell_type": "code",
   "execution_count": 14,
   "metadata": {},
   "outputs": [
    {
     "name": "stdout",
     "output_type": "stream",
     "text": [
      "41979.62857073876\n",
      "oil 85580.70554332096\n",
      "26671.633221192224\n",
      "coal 41952.27889033617\n",
      "renewable 11122.751172601302\n",
      "primary 121760.79436873578\n"
     ]
    }
   ],
   "source": [
    "print(energy_supply_secs('Crude petroleum and services related to crude oil extraction, excluding surveying').sum()/3600)\n",
    "print('oil',energy_supply_secs(oil_sectors).sum()/3600) # true: 44k (all in TWh)\n",
    "print(energy_supply_secs('Natural gas and services related to natural gas extraction, excluding surveying').sum()/3600)\n",
    "print('coal',energy_supply_secs(coal_sectors).sum()/3600) # true: 38k (gas: 30k, nuclear: 2.5k)\n",
    "print('renewable',energy_supply_secs(renewable_sectors).sum()/3600) # true: 20k (www.statista.com/statistics/222066 265619)\n",
    "print('primary', energy_supply_secs(primary_energy_sectors).sum()/3600)\n",
    "# print(energy_supply_secs(energy_sectors).groupby('sector').sum()/3600)\n",
    "\n",
    "# print(energy_secs_regs('Crude petroleum and services related to crude oil extraction, excluding surveying').sum()/3600)\n",
    "# print('oil',energy_secs_regs(oil_sectors).sum()/3600) # true: 44k\n",
    "# print(energy_secs_regs('Natural gas and services related to natural gas extraction, excluding surveying').sum()/3600)\n",
    "# print('coal',energy_secs_regs(coal_sectors).sum()/3600) # true: 38k (gas: 30k, nuclear: 2.5k)\n",
    "# print('renewable',energy_secs_regs(renewable_sectors).sum()/3600) # true: 20k (www.statista.com/statistics/222066 265619)\n",
    "# print('primary', energy_secs_regs(primary_energy_sectors).sum()/3600)\n",
    "# print(energy_secs_regs(energy_sectors).groupby('sector').sum()/3600)"
   ]
  },
  {
   "cell_type": "code",
   "execution_count": 22,
   "metadata": {},
   "outputs": [
    {
     "name": "stderr",
     "output_type": "stream",
     "text": [
      "/home/adrien/anaconda3/lib/python3.5/site-packages/ipykernel/__main__.py:221: RuntimeWarning: divide by zero encountered in true_divide\n"
     ]
    }
   ],
   "source": [
    "embodied_primary_energy = commanded_import_to_export(var='energy', secs=primary_energy_sectors)\n",
    "embodied_secondary_energy = commanded_import_to_export(var='energy', secs=secondary_energy_sectors)\n",
    "embodied_primary_energy_supply = commanded_import_to_export(var='Total Energy supply', secs=primary_energy_sectors)\n",
    "embodied_secondary_energy_supply = commanded_import_to_export(var='Total Energy supply', secs=secondary_energy_sectors)\n",
    "# FR: supply ~ use for prod and export (supply>use for import). primary < secondary (above all for prod)"
   ]
  },
  {
   "cell_type": "code",
   "execution_count": 158,
   "metadata": {},
   "outputs": [],
   "source": [
    "# A_3_cumulated = np.array([np.linalg.matrix_power(exio2p.A,i) for i in range(0,3)]).sum(axis=0)\n",
    "# A_5_cumulated = np.array([np.linalg.matrix_power(exio2p.A,i) for i in range(0,5)]).sum(axis=0)\n",
    "# sorted_array(np.dot(exio2p.L, [0,1]+[0]*(nb_regions*nb_sectors-2)))[0:5]\n",
    "# sorted_array(np.dot(A_5_cumulated, [0,1]+[0]*(nb_regions*nb_sectors-2)))[0:5]\n",
    "# sorted_array(np.dot(exio2p.L, final_demand_secs_regs('Wheat', 'AT')))[0:5]\n",
    "# sorted_array(np.dot(A_5_cumulated, final_demand_secs_regs('Wheat', 'AT')))[0:5]\n",
    "# sorted_array(np.dot(exio2p.L, final_demand_secs('Crude petroleum and services related to crude oil extraction, excluding surveying')))[0:5]\n",
    "# sorted_array(np.dot(A_5_cumulated, final_demand_secs('Crude petroleum and services related to crude oil extraction, excluding surveying')))[0:5]\n",
    "# sorted_array(np.dot(np.array([np.linalg.matrix_power(exio2p.A,i) for i in range(0,3)]).sum(axis=0), [0,1]+[0]*(nb_regions*nb_sectors-2)))"
   ]
  },
  {
   "cell_type": "code",
   "execution_count": 70,
   "metadata": {},
   "outputs": [
    {
     "data": {
      "text/plain": [
       "array([[10,  5],\n",
       "       [15, 10]])"
      ]
     },
     "execution_count": 70,
     "metadata": {},
     "output_type": "execute_result"
    }
   ],
   "source": [
    "np.array([np.linalg.matrix_power([[2,1],[3,2]],i) for i in range(0,3)]).sum(axis=0)"
   ]
  },
  {
   "cell_type": "code",
   "execution_count": 36,
   "metadata": {},
   "outputs": [
    {
     "data": {
      "text/html": [
       "<div>\n",
       "<style scoped>\n",
       "    .dataframe tbody tr th:only-of-type {\n",
       "        vertical-align: middle;\n",
       "    }\n",
       "\n",
       "    .dataframe tbody tr th {\n",
       "        vertical-align: top;\n",
       "    }\n",
       "\n",
       "    .dataframe thead th {\n",
       "        text-align: right;\n",
       "    }\n",
       "</style>\n",
       "<table border=\"1\" class=\"dataframe\">\n",
       "  <thead>\n",
       "    <tr style=\"text-align: right;\">\n",
       "      <th></th>\n",
       "      <th>energy</th>\n",
       "      <th>export</th>\n",
       "      <th>imp/exp</th>\n",
       "      <th>import</th>\n",
       "      <th>share_export</th>\n",
       "      <th>share_import</th>\n",
       "      <th>share_net_export</th>\n",
       "    </tr>\n",
       "  </thead>\n",
       "  <tbody>\n",
       "    <tr>\n",
       "      <th>FR</th>\n",
       "      <td>8.770909e+06</td>\n",
       "      <td>5.681561e+06</td>\n",
       "      <td>0.564786</td>\n",
       "      <td>3.208867e+06</td>\n",
       "      <td>0.647773</td>\n",
       "      <td>0.365853</td>\n",
       "      <td>0.28192</td>\n",
       "    </tr>\n",
       "  </tbody>\n",
       "</table>\n",
       "</div>"
      ],
      "text/plain": [
       "          energy        export   imp/exp        import  share_export  \\\n",
       "FR  8.770909e+06  5.681561e+06  0.564786  3.208867e+06      0.647773   \n",
       "\n",
       "    share_import  share_net_export  \n",
       "FR      0.365853           0.28192  "
      ]
     },
     "execution_count": 36,
     "metadata": {},
     "output_type": "execute_result"
    }
   ],
   "source": []
  },
  {
   "cell_type": "code",
   "execution_count": 37,
   "metadata": {},
   "outputs": [
    {
     "data": {
      "text/html": [
       "<div>\n",
       "<style scoped>\n",
       "    .dataframe tbody tr th:only-of-type {\n",
       "        vertical-align: middle;\n",
       "    }\n",
       "\n",
       "    .dataframe tbody tr th {\n",
       "        vertical-align: top;\n",
       "    }\n",
       "\n",
       "    .dataframe thead th {\n",
       "        text-align: right;\n",
       "    }\n",
       "</style>\n",
       "<table border=\"1\" class=\"dataframe\">\n",
       "  <thead>\n",
       "    <tr style=\"text-align: right;\">\n",
       "      <th></th>\n",
       "      <th>Total Energy supply</th>\n",
       "      <th>export</th>\n",
       "      <th>imp/exp</th>\n",
       "      <th>import</th>\n",
       "      <th>share_export</th>\n",
       "      <th>share_import</th>\n",
       "      <th>share_net_export</th>\n",
       "    </tr>\n",
       "  </thead>\n",
       "  <tbody>\n",
       "    <tr>\n",
       "      <th>FR</th>\n",
       "      <td>4.942190e+06</td>\n",
       "      <td>4.752312e+06</td>\n",
       "      <td>2.482019</td>\n",
       "      <td>1.179533e+07</td>\n",
       "      <td>0.96158</td>\n",
       "      <td>2.386661</td>\n",
       "      <td>-1.42508</td>\n",
       "    </tr>\n",
       "  </tbody>\n",
       "</table>\n",
       "</div>"
      ],
      "text/plain": [
       "    Total Energy supply        export   imp/exp        import  share_export  \\\n",
       "FR         4.942190e+06  4.752312e+06  2.482019  1.179533e+07       0.96158   \n",
       "\n",
       "    share_import  share_net_export  \n",
       "FR      2.386661          -1.42508  "
      ]
     },
     "execution_count": 37,
     "metadata": {},
     "output_type": "execute_result"
    }
   ],
   "source": [
    "embodied_primary_energy_supply.loc[['FR']]"
   ]
  },
  {
   "cell_type": "code",
   "execution_count": 38,
   "metadata": {},
   "outputs": [
    {
     "data": {
      "text/html": [
       "<div>\n",
       "<style scoped>\n",
       "    .dataframe tbody tr th:only-of-type {\n",
       "        vertical-align: middle;\n",
       "    }\n",
       "\n",
       "    .dataframe tbody tr th {\n",
       "        vertical-align: top;\n",
       "    }\n",
       "\n",
       "    .dataframe thead th {\n",
       "        text-align: right;\n",
       "    }\n",
       "</style>\n",
       "<table border=\"1\" class=\"dataframe\">\n",
       "  <thead>\n",
       "    <tr style=\"text-align: right;\">\n",
       "      <th></th>\n",
       "      <th>Total Energy supply</th>\n",
       "      <th>export</th>\n",
       "      <th>imp/exp</th>\n",
       "      <th>import</th>\n",
       "      <th>share_export</th>\n",
       "      <th>share_import</th>\n",
       "      <th>share_net_export</th>\n",
       "    </tr>\n",
       "  </thead>\n",
       "  <tbody>\n",
       "    <tr>\n",
       "      <th>FR</th>\n",
       "      <td>8.468021e+06</td>\n",
       "      <td>5.608209e+06</td>\n",
       "      <td>1.41431</td>\n",
       "      <td>7.931747e+06</td>\n",
       "      <td>0.662281</td>\n",
       "      <td>0.936671</td>\n",
       "      <td>-0.27439</td>\n",
       "    </tr>\n",
       "  </tbody>\n",
       "</table>\n",
       "</div>"
      ],
      "text/plain": [
       "    Total Energy supply        export  imp/exp        import  share_export  \\\n",
       "FR         8.468021e+06  5.608209e+06  1.41431  7.931747e+06      0.662281   \n",
       "\n",
       "    share_import  share_net_export  \n",
       "FR      0.936671          -0.27439  "
      ]
     },
     "execution_count": 38,
     "metadata": {},
     "output_type": "execute_result"
    }
   ],
   "source": [
    "embodied_secondary_energy_supply.loc[['FR']]"
   ]
  },
  {
   "cell_type": "code",
   "execution_count": 13,
   "metadata": {},
   "outputs": [],
   "source": [
    "embodied_exports = export(regions, method='embodied')\n",
    "embodied_imports = Import(regions, method='embodied')\n",
    "exports = export(regions)\n",
    "imports = Import(regions)\n",
    "values_added = value_added(regions)\n",
    "embodied_labor = commanded_import_to_export() # 660 M pers work for export over 3080 M, i.e. 21% / 27% African work for out\n",
    "embodied_energies = commanded_import_to_export(var='energy') # TJ /!\\ 50% of French energy exported ?!\n",
    "embodied_energy_supply = commanded_import_to_export(var='Total Energy supply') # TJ\n",
    "# embodied_energy_nature = commanded_import_to_export(var='Total Energy inputs from nature') # exactly equal to energy_supply\n",
    "# embodied_energy_emissive = commanded_import_to_export(var='Total Emission relevant energy use') # exactly equal to energy_supply\n",
    "# embodied_gain = commanded_import_to_export(var='gain') # gain=PIB, import=gain à l'importation, export=gain à l'export"
   ]
  },
  {
   "cell_type": "code",
   "execution_count": null,
   "metadata": {},
   "outputs": [],
   "source": []
  },
  {
   "cell_type": "code",
   "execution_count": 206,
   "metadata": {},
   "outputs": [
    {
     "name": "stdout",
     "output_type": "stream",
     "text": [
      "EROI with supply from primary sources at the denominator, unadjusted for growth\n",
      "coal (all) 20.746917852393285\n",
      "oil (all) -355.8641309315134\n",
      "gas (all) 28.391970241721452\n",
      "gas (extraction) 242.38850096924665\n",
      "oil (extraction) 2607.2760532764623\n",
      "renewable -3.821656162749367\n",
      "wind -4.548549653580437\n",
      "PV -5.751453075242434\n",
      "wind (source: all) 20.46117732758254\n",
      "PV (source: all) 49.707798819023225\n",
      "hydro -5.95616711919797\n",
      "nuclear fuel 214.87182639967497\n",
      "elec nuclear -3.7918745786385517\n",
      "elec coal 3.242797384950497\n",
      "elec oil 4.477130009290758\n",
      "elec gas 3.7347507011453707\n"
     ]
    }
   ],
   "source": [
    "# energy_supply_secs(coal_sectors, regions).sum()\n",
    "# embodied_energy(coal_sectors, regions).sum()\n",
    "# div0(embodied_conso_secs(coal_sectors)[index_regs_secs(regions, sectors)], exio2p.x.loc[regions,sectors])\n",
    "# list(np.where(exio2p.x.loc[regions,coal_sectors]<0)[0]) # TODO /!\\ négatifs\n",
    "print('EROI with supply from primary sources at the denominator, unadjusted for growth')\n",
    "print('coal (all)',eroi(coal_sectors+['Electricity by coal'])) # 9 (7.5 if supply)\n",
    "print('oil (all)',eroi(oil_sectors+['Electricity by petroleum and other oil derivatives'])) # 2.4 /!\\ (3 if supply)\n",
    "print('gas (all)',eroi(['Natural Gas Liquids', 'Electricity by gas', \n",
    "      'Natural gas and services related to natural gas extraction, excluding surveying'])) # 13 (6 if supply)\n",
    "print('gas (extraction)', eroi('Natural gas and services related to natural gas extraction, excluding surveying'))\n",
    "print('oil (extraction)', eroi('Crude petroleum and services related to crude oil extraction, excluding surveying'))\n",
    "print('renewable',eroi(renewable_sectors)) # 25 (3 if supply)\n",
    "print('wind',eroi('Electricity by wind')) # 23\n",
    "print('PV',eroi('Electricity by solar photovoltaic')) # 34 (5 if supply)\n",
    "print('wind (source: all)',eroi('Electricity by wind', source='all')) # 23\n",
    "print('PV (source: all)',eroi('Electricity by solar photovoltaic', source='all')) # 34 (5 if supply)\n",
    "print('hydro',eroi('Electricity by hydro')) # 28 (4 if supply)\n",
    "print('nuclear fuel',eroi('Nuclear fuel')) # 1.8 (-255 if used=True, 1.8 if supply)\n",
    "print('elec nuclear',eroi('Electricity by nuclear')) # 1 (1.6 if used=True, 3 if supply)\n",
    "print('elec coal',eroi('Electricity by coal')) # 2 (7.5 if supply)\n",
    "print('elec oil',eroi('Electricity by petroleum and other oil derivatives')) # 2 /!\\ (3 if supply)\n",
    "print('elec gas',eroi('Electricity by gas')) # 2 (6 if supply)\n",
    "# energy_supply_secs('Electricity by nuclear').sum()/3600 # 2500: right number\n",
    "# energy_supply_secs('Nuclear fuel').sum()/3600 # 7600\n",
    "# embodied_energy('Nuclear fuel').sum()/3600 # 4300\n",
    "# embodied_energy('Electricity by nuclear').sum()/3600 # 2460\n",
    "# energy_supply_secs('Nuclear fuel').sum()/energy_used_secs('Electricity by nuclear').sum() # 1.4 (1400 if fuel in denom)\n",
    "# regs_secs_index(np.where(embodied_conso_secs('Nuclear fuel')>100)[0])\n",
    "# div0(embodied_conso_secs('Nuclear fuel'), exio2p.x)[index_regs_secs('FR','Nuclear fuel')]\n",
    "# /!\\ pas de lien entre fuel et elec nuclear ; le nucléaire français sert à faire du plastique slovaque ?!\n",
    "# exio2p.L.loc[('FR', 'Nuclear fuel')][np.where(exio2p.L.loc[('FR', 'Nuclear fuel')]>0.02)[0]] # what nuclear does\n",
    "# exio2p.Y.loc[('FR', 'Nuclear fuel')].sum()/exio2p.x.loc[('FR', 'Nuclear fuel')].sum()\n",
    "# embodied_conso_secs('Nuclear fuel')[index_regs_secs('FR','Nuclear fuel')]\n",
    "# exio2p.L[('FR', 'Nuclear fuel')][np.where(exio2p.L[('FR', 'Nuclear fuel')]>0.02)[0]] # requirements for nuclear\n",
    "# exio2p.L[('US', 'Electricity by nuclear')][np.where(exio2p.L[('US', 'Electricity by nuclear')]>0.02)[0]] # requirements\n",
    "# exio2p.Z.loc[('FR', 'Electricity by nuclear')][np.where(exio2p.Z.loc[('FR', 'Electricity by nuclear')]>50)[0]] # does\n",
    "# exio2p.Z[('FR', 'Nuclear fuel')][np.where(exio2p.Z[('FR', 'Nuclear fuel')]>50)[0]] # requirement\n",
    "# energy_used_secs(regs=['WM'])[np.where(energy_used_secs(regs=['WM'])<0)[0]]\n",
    "\n",
    "# exio2p.Z.loc[('WM', 'Crude petroleum and services related to crude oil extraction, excluding surveying')][np.where(\\\n",
    "#     exio2p.Z.loc[('WM', 'Crude petroleum and services related to crude oil extraction, excluding surveying')]>50)[0]] #do\n",
    "# commanded_import_to_export()\n",
    "# hourly_wage_regs_secs('FR')\n",
    "# exio2p.impact.F.loc['Value Added'].loc[regs,sectors]\n",
    "# hourly_wage_regs_secs(['FR'], sectors)"
   ]
  },
  {
   "cell_type": "code",
   "execution_count": null,
   "metadata": {},
   "outputs": [],
   "source": []
  },
  {
   "cell_type": "code",
   "execution_count": 161,
   "metadata": {},
   "outputs": [
    {
     "data": {
      "text/plain": [
       "17719.150509282907"
      ]
     },
     "execution_count": 161,
     "metadata": {},
     "output_type": "execute_result"
    }
   ],
   "source": [
    "# indices_negative_final_demand = list(np.where(final_demand_secs(sectors)<0)[0])\n",
    "# negative_final_demand = regs_secs_index(indices_negative_final_demand)\n",
    "# energy_supply_secs(primary_energy_sectors, regions).sum() # 3.5 10^8\n",
    "# embodied_energy(final_energy_sectors+renewable_sectors, regions).sum() # 5 10^7\n",
    "embodied_energy(oil_sectors, regions).sum()/3600\n",
    "# embodied_conso_secs(coal_sectors)[index_regs_secs(regions, coal_sectors)]\n",
    "# energy_secs_regs(coal_sectors, regions)\n",
    "# len(np.where(div0(embodied_conso_secs(coal_sectors)[index_regs_secs(regions, sectors)], exio2p.x.loc[regions,sectors])<0)[0])\n",
    "# div0(embodied_conso_secs_regs(secs, regs), exio2p.x.loc)<0)\n",
    "# np.where(energy_secs_regs(sectors, regs)<0)"
   ]
  },
  {
   "cell_type": "code",
   "execution_count": 70,
   "metadata": {},
   "outputs": [
    {
     "data": {
      "text/plain": [
       "3053134.806473531"
      ]
     },
     "execution_count": 70,
     "metadata": {},
     "output_type": "execute_result"
    }
   ],
   "source": [
    "# eroi(secs='Electricity by nuclear').sum() # embodied energy 463 TJ; EROI: 64 for PV / 1 for oil\n",
    "# EROI 'Heavy Fuel Oil' 22, 'Gas/Diesel Oil' 4, 'Electricity by petroleum and other oil derivatives' 1\n",
    "#   'Oil/hazardous waste for treatment: incineration' 5\n",
    "#   'Electricity by : wind 23, coal 1.6, gas 1.9, biomass and waste 1.08, solar photovoltaic 33, solar thermal 31,\n",
    "#      hydro 28, nuclear 1.05, tide, wave, ocean 6, Geothermal 14, 'Electricity nec' 10\n",
    "# /!\\ More use than supply for 'Electricity by coal' !\n",
    "# impact_regs_secs('Total Energy supply', 'US', 'Electricity by coal') \\ # 0.34 !!\n",
    "#     /impact_regs_secs('Total Energy Use', 'US', 'Electricity by coal')\n",
    "# eroi('Electricity by coal')\n",
    "# (energy_secs_regs(sectors)*div0(embodied_conso_secs('Electricity by coal'), exio2p.x)).sum() # 19 M TJ\n",
    "# energy_supply_secs('Electricity by coal').sum() # 26 M TJ\n",
    "impact_regs_secs('Total Energy supply', 'US', 'Electricity by coal')/ \\\n",
    "    (impact_regs_secs('Total Energy Use', 'US', 'Electricity by coal') \\\n",
    "      -impact_regs_secs('Total Energy supply', 'US', 'Electricity by coal') /0.38)\n",
    "# eroi('Electricity by petroleum and other oil derivatives')\n",
    "# energy_supply_secs('Electricity by petroleum and other oil derivatives', regions).sum()\n",
    "embodied_energy('Electricity by petroleum and other oil derivatives').sum() #-impact_regs_secs('Total Energy supply', regions, 'Electricity by petroleum and other oil derivatives').sum()/0.38)\n",
    "#     else: return(energy_supply_secs(secs, regs).sum()/embodied_energy(secs, regs).sum()"
   ]
  },
  {
   "cell_type": "code",
   "execution_count": 163,
   "metadata": {},
   "outputs": [],
   "source": [
    "# np.array([exio2p.Y.loc[[(reg,sec) for sec in sectors]][not_regs(reg)].sum().sum() for reg in [reg]])+np.array([exio2p.Z.loc[[(reg,sec) for sec in sectors]][not_regs(reg)].sum().sum() for reg in [reg]])\n",
    "# WB_data"
   ]
  },
  {
   "cell_type": "code",
   "execution_count": 73,
   "metadata": {},
   "outputs": [
    {
     "data": {
      "text/html": [
       "<div>\n",
       "<style scoped>\n",
       "    .dataframe tbody tr th:only-of-type {\n",
       "        vertical-align: middle;\n",
       "    }\n",
       "\n",
       "    .dataframe tbody tr th {\n",
       "        vertical-align: top;\n",
       "    }\n",
       "\n",
       "    .dataframe thead th {\n",
       "        text-align: right;\n",
       "    }\n",
       "</style>\n",
       "<table border=\"1\" class=\"dataframe\">\n",
       "  <thead>\n",
       "    <tr style=\"text-align: right;\">\n",
       "      <th></th>\n",
       "      <th>export</th>\n",
       "      <th>imp/exp</th>\n",
       "      <th>import</th>\n",
       "      <th>share_export</th>\n",
       "      <th>share_net_export</th>\n",
       "      <th>workforce</th>\n",
       "    </tr>\n",
       "  </thead>\n",
       "  <tbody>\n",
       "    <tr>\n",
       "      <th>AT</th>\n",
       "      <td>1306.889264</td>\n",
       "      <td>3.209920</td>\n",
       "      <td>4195.010025</td>\n",
       "      <td>0.313913</td>\n",
       "      <td>-0.693724</td>\n",
       "      <td>4163.215381</td>\n",
       "    </tr>\n",
       "    <tr>\n",
       "      <th>BE</th>\n",
       "      <td>1484.183193</td>\n",
       "      <td>5.614835</td>\n",
       "      <td>8333.444267</td>\n",
       "      <td>0.338784</td>\n",
       "      <td>-1.563434</td>\n",
       "      <td>4380.907204</td>\n",
       "    </tr>\n",
       "    <tr>\n",
       "      <th>BG</th>\n",
       "      <td>866.132349</td>\n",
       "      <td>0.863710</td>\n",
       "      <td>748.087594</td>\n",
       "      <td>0.264931</td>\n",
       "      <td>0.036107</td>\n",
       "      <td>3269.278923</td>\n",
       "    </tr>\n",
       "    <tr>\n",
       "      <th>CY</th>\n",
       "      <td>102.096482</td>\n",
       "      <td>3.179355</td>\n",
       "      <td>324.600909</td>\n",
       "      <td>0.273298</td>\n",
       "      <td>-0.595614</td>\n",
       "      <td>373.571455</td>\n",
       "    </tr>\n",
       "    <tr>\n",
       "      <th>CZ</th>\n",
       "      <td>2071.546528</td>\n",
       "      <td>1.359869</td>\n",
       "      <td>2817.032587</td>\n",
       "      <td>0.396293</td>\n",
       "      <td>-0.142614</td>\n",
       "      <td>5227.316160</td>\n",
       "    </tr>\n",
       "    <tr>\n",
       "      <th>DE</th>\n",
       "      <td>10292.501900</td>\n",
       "      <td>4.295623</td>\n",
       "      <td>44212.703531</td>\n",
       "      <td>0.258977</td>\n",
       "      <td>-0.853490</td>\n",
       "      <td>39742.926844</td>\n",
       "    </tr>\n",
       "    <tr>\n",
       "      <th>DK</th>\n",
       "      <td>700.006669</td>\n",
       "      <td>4.965417</td>\n",
       "      <td>3475.824688</td>\n",
       "      <td>0.244582</td>\n",
       "      <td>-0.969868</td>\n",
       "      <td>2862.056711</td>\n",
       "    </tr>\n",
       "    <tr>\n",
       "      <th>EE</th>\n",
       "      <td>223.038825</td>\n",
       "      <td>2.530363</td>\n",
       "      <td>564.369164</td>\n",
       "      <td>0.340002</td>\n",
       "      <td>-0.520326</td>\n",
       "      <td>655.992690</td>\n",
       "    </tr>\n",
       "    <tr>\n",
       "      <th>ES</th>\n",
       "      <td>3430.280892</td>\n",
       "      <td>6.547769</td>\n",
       "      <td>22460.687861</td>\n",
       "      <td>0.166240</td>\n",
       "      <td>-0.922261</td>\n",
       "      <td>20634.514600</td>\n",
       "    </tr>\n",
       "    <tr>\n",
       "      <th>FI</th>\n",
       "      <td>601.830997</td>\n",
       "      <td>4.297234</td>\n",
       "      <td>2586.208418</td>\n",
       "      <td>0.241973</td>\n",
       "      <td>-0.797841</td>\n",
       "      <td>2487.184244</td>\n",
       "    </tr>\n",
       "    <tr>\n",
       "      <th>FR</th>\n",
       "      <td>4427.025280</td>\n",
       "      <td>7.786968</td>\n",
       "      <td>34473.102406</td>\n",
       "      <td>0.172168</td>\n",
       "      <td>-1.168497</td>\n",
       "      <td>25713.450318</td>\n",
       "    </tr>\n",
       "    <tr>\n",
       "      <th>GR</th>\n",
       "      <td>618.887830</td>\n",
       "      <td>9.445179</td>\n",
       "      <td>5845.506199</td>\n",
       "      <td>0.129373</td>\n",
       "      <td>-1.092582</td>\n",
       "      <td>4783.731830</td>\n",
       "    </tr>\n",
       "    <tr>\n",
       "      <th>HU</th>\n",
       "      <td>1532.908796</td>\n",
       "      <td>1.341709</td>\n",
       "      <td>2056.717791</td>\n",
       "      <td>0.367452</td>\n",
       "      <td>-0.125562</td>\n",
       "      <td>4171.722452</td>\n",
       "    </tr>\n",
       "    <tr>\n",
       "      <th>IE</th>\n",
       "      <td>667.504200</td>\n",
       "      <td>5.453156</td>\n",
       "      <td>3640.004375</td>\n",
       "      <td>0.314582</td>\n",
       "      <td>-1.400883</td>\n",
       "      <td>2121.875408</td>\n",
       "    </tr>\n",
       "    <tr>\n",
       "      <th>IT</th>\n",
       "      <td>4985.217765</td>\n",
       "      <td>5.641353</td>\n",
       "      <td>28123.374266</td>\n",
       "      <td>0.197853</td>\n",
       "      <td>-0.918305</td>\n",
       "      <td>25196.604684</td>\n",
       "    </tr>\n",
       "    <tr>\n",
       "      <th>LT</th>\n",
       "      <td>425.486154</td>\n",
       "      <td>1.848501</td>\n",
       "      <td>786.511388</td>\n",
       "      <td>0.277182</td>\n",
       "      <td>-0.235189</td>\n",
       "      <td>1535.044295</td>\n",
       "    </tr>\n",
       "    <tr>\n",
       "      <th>LU</th>\n",
       "      <td>165.949061</td>\n",
       "      <td>4.901393</td>\n",
       "      <td>813.381622</td>\n",
       "      <td>0.497737</td>\n",
       "      <td>-1.941867</td>\n",
       "      <td>333.407326</td>\n",
       "    </tr>\n",
       "    <tr>\n",
       "      <th>LV</th>\n",
       "      <td>295.260795</td>\n",
       "      <td>2.111186</td>\n",
       "      <td>623.350431</td>\n",
       "      <td>0.264303</td>\n",
       "      <td>-0.293690</td>\n",
       "      <td>1117.128028</td>\n",
       "    </tr>\n",
       "    <tr>\n",
       "      <th>MT</th>\n",
       "      <td>53.975028</td>\n",
       "      <td>2.984202</td>\n",
       "      <td>161.072392</td>\n",
       "      <td>0.345596</td>\n",
       "      <td>-0.685732</td>\n",
       "      <td>156.179697</td>\n",
       "    </tr>\n",
       "    <tr>\n",
       "      <th>NL</th>\n",
       "      <td>2647.729177</td>\n",
       "      <td>4.998072</td>\n",
       "      <td>13233.540898</td>\n",
       "      <td>0.307469</td>\n",
       "      <td>-1.229284</td>\n",
       "      <td>8611.361301</td>\n",
       "    </tr>\n",
       "    <tr>\n",
       "      <th>PL</th>\n",
       "      <td>4017.482240</td>\n",
       "      <td>1.576611</td>\n",
       "      <td>6334.005954</td>\n",
       "      <td>0.264632</td>\n",
       "      <td>-0.152590</td>\n",
       "      <td>15181.371322</td>\n",
       "    </tr>\n",
       "    <tr>\n",
       "      <th>PT</th>\n",
       "      <td>1073.567451</td>\n",
       "      <td>3.756495</td>\n",
       "      <td>4032.851053</td>\n",
       "      <td>0.207709</td>\n",
       "      <td>-0.572548</td>\n",
       "      <td>5168.623681</td>\n",
       "    </tr>\n",
       "    <tr>\n",
       "      <th>RO</th>\n",
       "      <td>1980.676388</td>\n",
       "      <td>1.269468</td>\n",
       "      <td>2514.405588</td>\n",
       "      <td>0.211804</td>\n",
       "      <td>-0.057074</td>\n",
       "      <td>9351.454157</td>\n",
       "    </tr>\n",
       "    <tr>\n",
       "      <th>SE</th>\n",
       "      <td>1262.069929</td>\n",
       "      <td>3.511745</td>\n",
       "      <td>4432.068243</td>\n",
       "      <td>0.278812</td>\n",
       "      <td>-0.700305</td>\n",
       "      <td>4526.593528</td>\n",
       "    </tr>\n",
       "    <tr>\n",
       "      <th>SI</th>\n",
       "      <td>347.366736</td>\n",
       "      <td>2.720759</td>\n",
       "      <td>945.101017</td>\n",
       "      <td>0.360757</td>\n",
       "      <td>-0.620775</td>\n",
       "      <td>962.883538</td>\n",
       "    </tr>\n",
       "    <tr>\n",
       "      <th>SK</th>\n",
       "      <td>860.906819</td>\n",
       "      <td>2.666417</td>\n",
       "      <td>2295.536489</td>\n",
       "      <td>0.395178</td>\n",
       "      <td>-0.658532</td>\n",
       "      <td>2178.527834</td>\n",
       "    </tr>\n",
       "    <tr>\n",
       "      <th>GB</th>\n",
       "      <td>5503.916271</td>\n",
       "      <td>7.797331</td>\n",
       "      <td>42915.858448</td>\n",
       "      <td>0.174711</td>\n",
       "      <td>-1.187572</td>\n",
       "      <td>31502.885405</td>\n",
       "    </tr>\n",
       "    <tr>\n",
       "      <th>US</th>\n",
       "      <td>9520.120454</td>\n",
       "      <td>12.299370</td>\n",
       "      <td>117091.488508</td>\n",
       "      <td>0.062270</td>\n",
       "      <td>-0.703610</td>\n",
       "      <td>152884.930450</td>\n",
       "    </tr>\n",
       "    <tr>\n",
       "      <th>JP</th>\n",
       "      <td>7060.765324</td>\n",
       "      <td>6.153754</td>\n",
       "      <td>43450.214370</td>\n",
       "      <td>0.109555</td>\n",
       "      <td>-0.564618</td>\n",
       "      <td>64449.736169</td>\n",
       "    </tr>\n",
       "    <tr>\n",
       "      <th>CN</th>\n",
       "      <td>155069.182878</td>\n",
       "      <td>0.278007</td>\n",
       "      <td>43110.249268</td>\n",
       "      <td>0.201345</td>\n",
       "      <td>0.145370</td>\n",
       "      <td>770165.882889</td>\n",
       "    </tr>\n",
       "    <tr>\n",
       "      <th>CA</th>\n",
       "      <td>3596.269004</td>\n",
       "      <td>5.282240</td>\n",
       "      <td>18996.354600</td>\n",
       "      <td>0.210109</td>\n",
       "      <td>-0.899739</td>\n",
       "      <td>17116.171920</td>\n",
       "    </tr>\n",
       "    <tr>\n",
       "      <th>KR</th>\n",
       "      <td>5110.913098</td>\n",
       "      <td>3.265648</td>\n",
       "      <td>16690.440714</td>\n",
       "      <td>0.218168</td>\n",
       "      <td>-0.494293</td>\n",
       "      <td>23426.455825</td>\n",
       "    </tr>\n",
       "    <tr>\n",
       "      <th>BR</th>\n",
       "      <td>11755.489234</td>\n",
       "      <td>0.732569</td>\n",
       "      <td>8611.706564</td>\n",
       "      <td>0.129762</td>\n",
       "      <td>0.034702</td>\n",
       "      <td>90592.450954</td>\n",
       "    </tr>\n",
       "    <tr>\n",
       "      <th>IN</th>\n",
       "      <td>47245.348314</td>\n",
       "      <td>0.264342</td>\n",
       "      <td>12488.939803</td>\n",
       "      <td>0.102639</td>\n",
       "      <td>0.075507</td>\n",
       "      <td>460307.579705</td>\n",
       "    </tr>\n",
       "    <tr>\n",
       "      <th>MX</th>\n",
       "      <td>5729.968424</td>\n",
       "      <td>1.645619</td>\n",
       "      <td>9429.346790</td>\n",
       "      <td>0.134519</td>\n",
       "      <td>-0.086848</td>\n",
       "      <td>42595.876144</td>\n",
       "    </tr>\n",
       "    <tr>\n",
       "      <th>RU</th>\n",
       "      <td>14325.360520</td>\n",
       "      <td>2.279861</td>\n",
       "      <td>32659.830387</td>\n",
       "      <td>0.202912</td>\n",
       "      <td>-0.259700</td>\n",
       "      <td>70598.766156</td>\n",
       "    </tr>\n",
       "    <tr>\n",
       "      <th>AU</th>\n",
       "      <td>1358.528595</td>\n",
       "      <td>11.342294</td>\n",
       "      <td>15408.831376</td>\n",
       "      <td>0.129204</td>\n",
       "      <td>-1.336269</td>\n",
       "      <td>10514.575100</td>\n",
       "    </tr>\n",
       "    <tr>\n",
       "      <th>CH</th>\n",
       "      <td>1221.952466</td>\n",
       "      <td>3.489749</td>\n",
       "      <td>4264.307018</td>\n",
       "      <td>0.276758</td>\n",
       "      <td>-0.689059</td>\n",
       "      <td>4415.231422</td>\n",
       "    </tr>\n",
       "    <tr>\n",
       "      <th>TR</th>\n",
       "      <td>3871.972902</td>\n",
       "      <td>2.383347</td>\n",
       "      <td>9228.256843</td>\n",
       "      <td>0.186650</td>\n",
       "      <td>-0.258201</td>\n",
       "      <td>20744.619609</td>\n",
       "    </tr>\n",
       "    <tr>\n",
       "      <th>TW</th>\n",
       "      <td>3495.489658</td>\n",
       "      <td>2.046040</td>\n",
       "      <td>7151.911870</td>\n",
       "      <td>0.342824</td>\n",
       "      <td>-0.358607</td>\n",
       "      <td>10196.168974</td>\n",
       "    </tr>\n",
       "    <tr>\n",
       "      <th>NO</th>\n",
       "      <td>501.676553</td>\n",
       "      <td>6.832663</td>\n",
       "      <td>3427.786992</td>\n",
       "      <td>0.197726</td>\n",
       "      <td>-1.153269</td>\n",
       "      <td>2537.230569</td>\n",
       "    </tr>\n",
       "    <tr>\n",
       "      <th>ID</th>\n",
       "      <td>19738.317657</td>\n",
       "      <td>0.403837</td>\n",
       "      <td>7971.066290</td>\n",
       "      <td>0.197455</td>\n",
       "      <td>0.117715</td>\n",
       "      <td>99963.513374</td>\n",
       "    </tr>\n",
       "    <tr>\n",
       "      <th>ZA</th>\n",
       "      <td>2449.157973</td>\n",
       "      <td>1.864924</td>\n",
       "      <td>4567.494176</td>\n",
       "      <td>0.185701</td>\n",
       "      <td>-0.160618</td>\n",
       "      <td>13188.693668</td>\n",
       "    </tr>\n",
       "    <tr>\n",
       "      <th>WA</th>\n",
       "      <td>170367.556182</td>\n",
       "      <td>0.140900</td>\n",
       "      <td>24004.827211</td>\n",
       "      <td>0.385942</td>\n",
       "      <td>0.331563</td>\n",
       "      <td>441432.660366</td>\n",
       "    </tr>\n",
       "    <tr>\n",
       "      <th>WL</th>\n",
       "      <td>26857.893688</td>\n",
       "      <td>0.326406</td>\n",
       "      <td>8766.572570</td>\n",
       "      <td>0.216248</td>\n",
       "      <td>0.145663</td>\n",
       "      <td>124199.598938</td>\n",
       "    </tr>\n",
       "    <tr>\n",
       "      <th>WE</th>\n",
       "      <td>7600.278859</td>\n",
       "      <td>0.455344</td>\n",
       "      <td>3460.737663</td>\n",
       "      <td>0.199632</td>\n",
       "      <td>0.108731</td>\n",
       "      <td>38071.384608</td>\n",
       "    </tr>\n",
       "    <tr>\n",
       "      <th>WF</th>\n",
       "      <td>96556.547808</td>\n",
       "      <td>0.060836</td>\n",
       "      <td>5874.139272</td>\n",
       "      <td>0.286619</td>\n",
       "      <td>0.269183</td>\n",
       "      <td>336880.743151</td>\n",
       "    </tr>\n",
       "    <tr>\n",
       "      <th>WM</th>\n",
       "      <td>15112.741525</td>\n",
       "      <td>1.382351</td>\n",
       "      <td>20891.108244</td>\n",
       "      <td>0.256456</td>\n",
       "      <td>-0.098056</td>\n",
       "      <td>58929.160618</td>\n",
       "    </tr>\n",
       "  </tbody>\n",
       "</table>\n",
       "</div>"
      ],
      "text/plain": [
       "           export    imp/exp         import  share_export  share_net_export  \\\n",
       "AT    1306.889264   3.209920    4195.010025      0.313913         -0.693724   \n",
       "BE    1484.183193   5.614835    8333.444267      0.338784         -1.563434   \n",
       "BG     866.132349   0.863710     748.087594      0.264931          0.036107   \n",
       "CY     102.096482   3.179355     324.600909      0.273298         -0.595614   \n",
       "CZ    2071.546528   1.359869    2817.032587      0.396293         -0.142614   \n",
       "DE   10292.501900   4.295623   44212.703531      0.258977         -0.853490   \n",
       "DK     700.006669   4.965417    3475.824688      0.244582         -0.969868   \n",
       "EE     223.038825   2.530363     564.369164      0.340002         -0.520326   \n",
       "ES    3430.280892   6.547769   22460.687861      0.166240         -0.922261   \n",
       "FI     601.830997   4.297234    2586.208418      0.241973         -0.797841   \n",
       "FR    4427.025280   7.786968   34473.102406      0.172168         -1.168497   \n",
       "GR     618.887830   9.445179    5845.506199      0.129373         -1.092582   \n",
       "HU    1532.908796   1.341709    2056.717791      0.367452         -0.125562   \n",
       "IE     667.504200   5.453156    3640.004375      0.314582         -1.400883   \n",
       "IT    4985.217765   5.641353   28123.374266      0.197853         -0.918305   \n",
       "LT     425.486154   1.848501     786.511388      0.277182         -0.235189   \n",
       "LU     165.949061   4.901393     813.381622      0.497737         -1.941867   \n",
       "LV     295.260795   2.111186     623.350431      0.264303         -0.293690   \n",
       "MT      53.975028   2.984202     161.072392      0.345596         -0.685732   \n",
       "NL    2647.729177   4.998072   13233.540898      0.307469         -1.229284   \n",
       "PL    4017.482240   1.576611    6334.005954      0.264632         -0.152590   \n",
       "PT    1073.567451   3.756495    4032.851053      0.207709         -0.572548   \n",
       "RO    1980.676388   1.269468    2514.405588      0.211804         -0.057074   \n",
       "SE    1262.069929   3.511745    4432.068243      0.278812         -0.700305   \n",
       "SI     347.366736   2.720759     945.101017      0.360757         -0.620775   \n",
       "SK     860.906819   2.666417    2295.536489      0.395178         -0.658532   \n",
       "GB    5503.916271   7.797331   42915.858448      0.174711         -1.187572   \n",
       "US    9520.120454  12.299370  117091.488508      0.062270         -0.703610   \n",
       "JP    7060.765324   6.153754   43450.214370      0.109555         -0.564618   \n",
       "CN  155069.182878   0.278007   43110.249268      0.201345          0.145370   \n",
       "CA    3596.269004   5.282240   18996.354600      0.210109         -0.899739   \n",
       "KR    5110.913098   3.265648   16690.440714      0.218168         -0.494293   \n",
       "BR   11755.489234   0.732569    8611.706564      0.129762          0.034702   \n",
       "IN   47245.348314   0.264342   12488.939803      0.102639          0.075507   \n",
       "MX    5729.968424   1.645619    9429.346790      0.134519         -0.086848   \n",
       "RU   14325.360520   2.279861   32659.830387      0.202912         -0.259700   \n",
       "AU    1358.528595  11.342294   15408.831376      0.129204         -1.336269   \n",
       "CH    1221.952466   3.489749    4264.307018      0.276758         -0.689059   \n",
       "TR    3871.972902   2.383347    9228.256843      0.186650         -0.258201   \n",
       "TW    3495.489658   2.046040    7151.911870      0.342824         -0.358607   \n",
       "NO     501.676553   6.832663    3427.786992      0.197726         -1.153269   \n",
       "ID   19738.317657   0.403837    7971.066290      0.197455          0.117715   \n",
       "ZA    2449.157973   1.864924    4567.494176      0.185701         -0.160618   \n",
       "WA  170367.556182   0.140900   24004.827211      0.385942          0.331563   \n",
       "WL   26857.893688   0.326406    8766.572570      0.216248          0.145663   \n",
       "WE    7600.278859   0.455344    3460.737663      0.199632          0.108731   \n",
       "WF   96556.547808   0.060836    5874.139272      0.286619          0.269183   \n",
       "WM   15112.741525   1.382351   20891.108244      0.256456         -0.098056   \n",
       "\n",
       "        workforce  \n",
       "AT    4163.215381  \n",
       "BE    4380.907204  \n",
       "BG    3269.278923  \n",
       "CY     373.571455  \n",
       "CZ    5227.316160  \n",
       "DE   39742.926844  \n",
       "DK    2862.056711  \n",
       "EE     655.992690  \n",
       "ES   20634.514600  \n",
       "FI    2487.184244  \n",
       "FR   25713.450318  \n",
       "GR    4783.731830  \n",
       "HU    4171.722452  \n",
       "IE    2121.875408  \n",
       "IT   25196.604684  \n",
       "LT    1535.044295  \n",
       "LU     333.407326  \n",
       "LV    1117.128028  \n",
       "MT     156.179697  \n",
       "NL    8611.361301  \n",
       "PL   15181.371322  \n",
       "PT    5168.623681  \n",
       "RO    9351.454157  \n",
       "SE    4526.593528  \n",
       "SI     962.883538  \n",
       "SK    2178.527834  \n",
       "GB   31502.885405  \n",
       "US  152884.930450  \n",
       "JP   64449.736169  \n",
       "CN  770165.882889  \n",
       "CA   17116.171920  \n",
       "KR   23426.455825  \n",
       "BR   90592.450954  \n",
       "IN  460307.579705  \n",
       "MX   42595.876144  \n",
       "RU   70598.766156  \n",
       "AU   10514.575100  \n",
       "CH    4415.231422  \n",
       "TR   20744.619609  \n",
       "TW   10196.168974  \n",
       "NO    2537.230569  \n",
       "ID   99963.513374  \n",
       "ZA   13188.693668  \n",
       "WA  441432.660366  \n",
       "WL  124199.598938  \n",
       "WE   38071.384608  \n",
       "WF  336880.743151  \n",
       "WM   58929.160618  "
      ]
     },
     "execution_count": 73,
     "metadata": {},
     "output_type": "execute_result"
    }
   ],
   "source": [
    "# [commanded_import_to_export(reg) for reg in regions]\n",
    "# employment_regs_secs(regions, secs)\n",
    "# embodied_import(regs, add=False)\n",
    "# [employment_regs_secs(not_regs(reg), secs) for reg in regs]*[div0(embodied_conso_regs(reg)[index_regs_secs(not_regs(reg), secs)], exio2p.x.loc[not_regs(reg),secs]) for reg in regs]\n",
    "embodied_labor"
   ]
  },
  {
   "cell_type": "code",
   "execution_count": 100,
   "metadata": {},
   "outputs": [
    {
     "data": {
      "text/plain": [
       "array(['Total Emission relevant energy use',\n",
       "       'Total Energy inputs from nature', 'Total Energy supply',\n",
       "       'Total Energy Use'], dtype=object)"
      ]
     },
     "execution_count": 100,
     "metadata": {},
     "output_type": "execute_result"
    }
   ],
   "source": [
    "# embodied_conso_regs(regs_ref)\n",
    "np.where('nergy' in impact_vars)\n"
   ]
  },
  {
   "cell_type": "code",
   "execution_count": 50,
   "metadata": {},
   "outputs": [
    {
     "ename": "NameError",
     "evalue": "name 'values_added' is not defined",
     "output_type": "error",
     "traceback": [
      "\u001b[0;31m---------------------------------------------------------------------------\u001b[0m",
      "\u001b[0;31mNameError\u001b[0m                                 Traceback (most recent call last)",
      "\u001b[0;32m<ipython-input-50-ba83a081b806>\u001b[0m in \u001b[0;36m<module>\u001b[0;34m()\u001b[0m\n\u001b[1;32m      4\u001b[0m \u001b[0mWB_data\u001b[0m\u001b[0;34m[\u001b[0m\u001b[0;34m'Value_added'\u001b[0m\u001b[0;34m]\u001b[0m\u001b[0;34m[\u001b[0m\u001b[0;34m'FR'\u001b[0m\u001b[0;34m]\u001b[0m \u001b[0;31m# 1.747 T€\u001b[0m\u001b[0;34m\u001b[0m\u001b[0m\n\u001b[1;32m      5\u001b[0m \u001b[0;31m# Between 79% and 101% except 3 outliers (16%: RoW Eur, 43%: RoW America, 75%: RoW Asia):\u001b[0m\u001b[0;34m\u001b[0m\u001b[0;34m\u001b[0m\u001b[0m\n\u001b[0;32m----> 6\u001b[0;31m \u001b[0msorted\u001b[0m\u001b[0;34m(\u001b[0m\u001b[0mvalues_added\u001b[0m\u001b[0;34m/\u001b[0m\u001b[0mWB_data\u001b[0m\u001b[0;34m[\u001b[0m\u001b[0;34m'Value_added'\u001b[0m\u001b[0;34m]\u001b[0m\u001b[0;34m[\u001b[0m\u001b[0mregions\u001b[0m\u001b[0;34m]\u001b[0m\u001b[0;34m)\u001b[0m \u001b[0;31m# 90-110% except 3 outliers\u001b[0m\u001b[0;34m\u001b[0m\u001b[0m\n\u001b[0m\u001b[1;32m      7\u001b[0m \u001b[0;31m# sorted(WB_data['GDP'][regions]/WB_data['Value_added'][regions])\u001b[0m\u001b[0;34m\u001b[0m\u001b[0;34m\u001b[0m\u001b[0m\n\u001b[1;32m      8\u001b[0m \u001b[0;31m# sorted(embodied_exports/WB_data['Export'][regions]) # From 30% to 235%, with most of regs > 120%\u001b[0m\u001b[0;34m\u001b[0m\u001b[0;34m\u001b[0m\u001b[0m\n",
      "\u001b[0;31mNameError\u001b[0m: name 'values_added' is not defined"
     ]
    }
   ],
   "source": [
    "(274+786)/2 # 530. Export from WB: 540!\n",
    "value_added('FR') # 1.773 T€\n",
    "WB_data['GDP']['FR'] # 1.946 T€\n",
    "WB_data['Value_added']['FR'] # 1.747 T€\n",
    "# Between 79% and 101% except 3 outliers (16%: RoW Eur, 43%: RoW America, 75%: RoW Asia):\n",
    "# sorted(values_added/WB_data['Value_added'][regions]) # 90-110% except 3 outliers\n",
    "# sorted(WB_data['GDP'][regions]/WB_data['Value_added'][regions])\n",
    "# sorted(embodied_exports/WB_data['Export'][regions]) # From 30% to 235%, with most of regs > 120%\n",
    "# sorted(exports/WB_data['Export'][regions]) # From 13% to 109% with most of regs > 70%\n",
    "# sorted(imports/WB_data['Import'][regions]) # From 60% to 100% except 5 outliers\n",
    "# sorted(embodied_imports/WB_data['Import'][regions])\n",
    "# sorted((exports/imports)/(WB_data['Export'][regions]/WB_data['Import'][regions])) # ~ 90-105% except 5 outliers"
   ]
  },
  {
   "cell_type": "code",
   "execution_count": 125,
   "metadata": {},
   "outputs": [
    {
     "name": "stdout",
     "output_type": "stream",
     "text": [
      "1781.3 G€\n"
     ]
    }
   ],
   "source": [
    "gains = embodied_import_reg_secs(var='gain', add=False)\n",
    "gain = embodied_import_reg_secs(var='gain')"
   ]
  },
  {
   "cell_type": "code",
   "execution_count": 17,
   "metadata": {},
   "outputs": [
    {
     "ename": "NameError",
     "evalue": "name 'gains' is not defined",
     "output_type": "error",
     "traceback": [
      "\u001b[0;31m---------------------------------------------------------------------------\u001b[0m",
      "\u001b[0;31mNameError\u001b[0m                                 Traceback (most recent call last)",
      "\u001b[0;32m<ipython-input-17-3b393a3e168a>\u001b[0m in \u001b[0;36m<module>\u001b[0;34m()\u001b[0m\n\u001b[0;32m----> 1\u001b[0;31m \u001b[0msorted\u001b[0m\u001b[0;34m(\u001b[0m\u001b[0mgains\u001b[0m\u001b[0;34m.\u001b[0m\u001b[0mgroupby\u001b[0m\u001b[0;34m(\u001b[0m\u001b[0;34m'sector'\u001b[0m\u001b[0;34m)\u001b[0m\u001b[0;34m.\u001b[0m\u001b[0msum\u001b[0m\u001b[0;34m(\u001b[0m\u001b[0;34m)\u001b[0m\u001b[0;34m.\u001b[0m\u001b[0mitems\u001b[0m\u001b[0;34m(\u001b[0m\u001b[0;34m)\u001b[0m\u001b[0;34m,\u001b[0m \u001b[0mreverse\u001b[0m\u001b[0;34m=\u001b[0m\u001b[0;32mTrue\u001b[0m\u001b[0;34m,\u001b[0m \u001b[0mkey\u001b[0m\u001b[0;34m=\u001b[0m\u001b[0moperator\u001b[0m\u001b[0;34m.\u001b[0m\u001b[0mitemgetter\u001b[0m\u001b[0;34m(\u001b[0m\u001b[0;36m1\u001b[0m\u001b[0;34m)\u001b[0m\u001b[0;34m)\u001b[0m \u001b[0;31m# FR Gains by sector in G€\u001b[0m\u001b[0;34m\u001b[0m\u001b[0m\n\u001b[0m\u001b[1;32m      2\u001b[0m \u001b[0msorted\u001b[0m\u001b[0;34m(\u001b[0m\u001b[0mgains\u001b[0m\u001b[0;34m.\u001b[0m\u001b[0mgroupby\u001b[0m\u001b[0;34m(\u001b[0m\u001b[0;34m'region'\u001b[0m\u001b[0;34m)\u001b[0m\u001b[0;34m.\u001b[0m\u001b[0msum\u001b[0m\u001b[0;34m(\u001b[0m\u001b[0;34m)\u001b[0m\u001b[0;34m.\u001b[0m\u001b[0mitems\u001b[0m\u001b[0;34m(\u001b[0m\u001b[0;34m)\u001b[0m\u001b[0;34m,\u001b[0m \u001b[0mreverse\u001b[0m\u001b[0;34m=\u001b[0m\u001b[0;32mTrue\u001b[0m\u001b[0;34m,\u001b[0m \u001b[0mkey\u001b[0m\u001b[0;34m=\u001b[0m\u001b[0moperator\u001b[0m\u001b[0;34m.\u001b[0m\u001b[0mitemgetter\u001b[0m\u001b[0;34m(\u001b[0m\u001b[0;36m1\u001b[0m\u001b[0;34m)\u001b[0m\u001b[0;34m)\u001b[0m\u001b[0;34m[\u001b[0m\u001b[0;36m1\u001b[0m\u001b[0;34m:\u001b[0m\u001b[0;36m5\u001b[0m\u001b[0;34m]\u001b[0m \u001b[0;31m# FR Gains by region in G€\u001b[0m\u001b[0;34m\u001b[0m\u001b[0m\n",
      "\u001b[0;31mNameError\u001b[0m: name 'gains' is not defined"
     ]
    }
   ],
   "source": [
    "sorted(gains.groupby('sector').sum().items(), reverse=True, key=operator.itemgetter(1)) # FR Gains by sector in G€\n",
    "sorted(gains.groupby('region').sum().items(), reverse=True, key=operator.itemgetter(1))[1:5] # FR Gains by region in G€"
   ]
  },
  {
   "cell_type": "code",
   "execution_count": 34,
   "metadata": {},
   "outputs": [
    {
     "ename": "AttributeError",
     "evalue": "'DataFrame' object has no attribute 'unit'",
     "output_type": "error",
     "traceback": [
      "\u001b[0;31m---------------------------------------------------------------------------\u001b[0m",
      "\u001b[0;31mAttributeError\u001b[0m                            Traceback (most recent call last)",
      "\u001b[0;32m<ipython-input-34-57ff86c6aede>\u001b[0m in \u001b[0;36m<module>\u001b[0;34m()\u001b[0m\n\u001b[0;32m----> 1\u001b[0;31m \u001b[0mexio2p\u001b[0m\u001b[0;34m.\u001b[0m\u001b[0mx\u001b[0m\u001b[0;34m.\u001b[0m\u001b[0munit\u001b[0m\u001b[0;34m\u001b[0m\u001b[0m\n\u001b[0m",
      "\u001b[0;32m~/anaconda3/lib/python3.5/site-packages/pandas/core/generic.py\u001b[0m in \u001b[0;36m__getattr__\u001b[0;34m(self, name)\u001b[0m\n\u001b[1;32m   3612\u001b[0m             \u001b[0;32mif\u001b[0m \u001b[0mname\u001b[0m \u001b[0;32min\u001b[0m \u001b[0mself\u001b[0m\u001b[0;34m.\u001b[0m\u001b[0m_info_axis\u001b[0m\u001b[0;34m:\u001b[0m\u001b[0;34m\u001b[0m\u001b[0m\n\u001b[1;32m   3613\u001b[0m                 \u001b[0;32mreturn\u001b[0m \u001b[0mself\u001b[0m\u001b[0;34m[\u001b[0m\u001b[0mname\u001b[0m\u001b[0;34m]\u001b[0m\u001b[0;34m\u001b[0m\u001b[0m\n\u001b[0;32m-> 3614\u001b[0;31m             \u001b[0;32mreturn\u001b[0m \u001b[0mobject\u001b[0m\u001b[0;34m.\u001b[0m\u001b[0m__getattribute__\u001b[0m\u001b[0;34m(\u001b[0m\u001b[0mself\u001b[0m\u001b[0;34m,\u001b[0m \u001b[0mname\u001b[0m\u001b[0;34m)\u001b[0m\u001b[0;34m\u001b[0m\u001b[0m\n\u001b[0m\u001b[1;32m   3615\u001b[0m \u001b[0;34m\u001b[0m\u001b[0m\n\u001b[1;32m   3616\u001b[0m     \u001b[0;32mdef\u001b[0m \u001b[0m__setattr__\u001b[0m\u001b[0;34m(\u001b[0m\u001b[0mself\u001b[0m\u001b[0;34m,\u001b[0m \u001b[0mname\u001b[0m\u001b[0;34m,\u001b[0m \u001b[0mvalue\u001b[0m\u001b[0;34m)\u001b[0m\u001b[0;34m:\u001b[0m\u001b[0;34m\u001b[0m\u001b[0m\n",
      "\u001b[0;31mAttributeError\u001b[0m: 'DataFrame' object has no attribute 'unit'"
     ]
    }
   ],
   "source": [
    "exio2p.y"
   ]
  },
  {
   "cell_type": "code",
   "execution_count": 30,
   "metadata": {},
   "outputs": [
    {
     "ename": "AttributeError",
     "evalue": "'NoneType' object has no attribute 'unit'",
     "output_type": "error",
     "traceback": [
      "\u001b[0;31m---------------------------------------------------------------------------\u001b[0m",
      "\u001b[0;31mAttributeError\u001b[0m                            Traceback (most recent call last)",
      "\u001b[0;32m<ipython-input-30-57ff86c6aede>\u001b[0m in \u001b[0;36m<module>\u001b[0;34m()\u001b[0m\n\u001b[0;32m----> 1\u001b[0;31m \u001b[0mexio2p\u001b[0m\u001b[0;34m.\u001b[0m\u001b[0mx\u001b[0m\u001b[0;34m.\u001b[0m\u001b[0munit\u001b[0m\u001b[0;34m\u001b[0m\u001b[0m\n\u001b[0m",
      "\u001b[0;31mAttributeError\u001b[0m: 'NoneType' object has no attribute 'unit'"
     ]
    }
   ],
   "source": [
    "exio2p.x.unit"
   ]
  },
  {
   "cell_type": "code",
   "execution_count": 29,
   "metadata": {},
   "outputs": [
    {
     "data": {
      "text/plain": [
       "'None'"
      ]
     },
     "execution_count": 29,
     "metadata": {},
     "output_type": "execute_result"
    }
   ],
   "source": [
    "\n",
    "# The only domains whose value can be negative in Y are 'Changes in inventories' and 'Changes in valuables'\n",
    "# len(np.where(exio2p.Y[[(reg,dom) for reg in regions for dom in ['Final consumption expenditure by government', \\\n",
    "#     'Gross fixed capital formation', 'Export', \\\n",
    "#     'Final consumption expenditure by non-profit organisations serving households (NPISH)', \\\n",
    "#     'Final consumption expenditure by households']]].loc[indices_negative_final_demand].sum(axis=1)<0)[0])\n"
   ]
  },
  {
   "cell_type": "code",
   "execution_count": 48,
   "metadata": {},
   "outputs": [],
   "source": [
    "# Same thing as above but for str instead of str array, and without vectorialization\n",
    "\n",
    "# def index_reg(reg): return(np.where(regions==reg)[0][0]) # for str\n",
    "# def index_sec(sec): return(np.where(sectors==sec)[0][0]) # for str\n",
    "# def index_reg_sec(reg, sec): return(index_reg(reg)*nb_sectors + index_sec(sec)) # for str\n",
    "\n",
    "# def final_demand_reg(reg):\n",
    "#     ind_reg = index_reg(reg)\n",
    "#     summing_vector = np.concatenate((np.concatenate((np.repeat(0,7*ind_reg),\n",
    "#                                                      np.repeat(1,7))),np.repeat(0,7*(nb_regions-ind_reg-1))))\n",
    "#     return(exio2p.Y @ summing_vector)\n",
    "\n",
    "\n",
    "# def embodied_import_reg(reg): return(np.dot(exio2p.L, final_demand_reg(reg)))\n",
    "\n",
    "# def hourly_wage_reg_sec(reg, sec):\n",
    "#     hours = exio2p.impact.F[reg][sec]['Employment hour']\n",
    "#     if (hours!=0):\n",
    "#         wage = pow(10,6)*exio2p.impact.F[reg][sec]['Value Added']/exio2p.impact.F[reg][sec]['Employment hour']\n",
    "#     else:\n",
    "#         wage = 0\n",
    "#     return(wage)\n",
    "\n",
    "# def gain_reg_import_sec(reg_ref, sec):\n",
    "#     hourly_wage_ref = hourly_wage_reg_sec(reg_ref, sec)\n",
    "#     gain = 0\n",
    "#     for reg in regions:\n",
    "#         if (exio2p.x[reg][sec]!=0):\n",
    "#             share_export_to_reg_ref = embodied_import_reg(reg_ref)[index_reg_sec(reg, sec)]/exio2p.x[reg][sec]\n",
    "#         else:\n",
    "#             share_export_to_reg_ref = 0\n",
    "#         gain_from_reg = (hourly_wage_ref - hourly_wage_reg_sec(reg, sec))* \\\n",
    "#             exio2p.impact.F[reg][sec]['Employment hour']*share_export_to_reg_ref\n",
    "# #             print(gain_from_reg)\n",
    "#         gain += gain_from_reg\n",
    "#     return(gain)\n",
    "\n",
    "# np.tile(hourly_wage_regs_secs(reg_ref, secs), nb_regions).shape\n",
    "# -hourly_wage_regs_secs(regions, secs)*hour_regs_secs(regions, secs)* \\\n",
    "#         div0(embodied_import_regs(regs_ref)[index_regs_secs(regions, secs)], exio2p.x.loc[regions,secs])\n",
    "\n",
    "\n",
    "# def gains_reg_import(reg_ref):\n",
    "#     gains = dict()\n",
    "#     for sec in exio2p.get_sectors():\n",
    "#         gains[sec] = gain_reg_import_sec(reg_ref, sec)*pow(10,-6)\n",
    "#     return(gains)\n",
    "\n",
    "# def gains_reg_import(reg_ref, secs=sectors):\n",
    "#     gains = [gain_reg_import_sec(reg_ref, sec)*pow(10,-6) for sec in secs]\n",
    "# #     return(gains)\n",
    "#     return(sorted(gains.items(), key=operator.itemgetter(1)))\n",
    "\n",
    "# def gain_reg_import(reg_ref):\n",
    "#     gain = 0\n",
    "#     for sec in exio2p.get_sectors():\n",
    "#         gain_from_sec = gain_reg_import_sec(reg_ref, sec)\n",
    "#         print(sec, gain_from_sec*pow(10,-9),'G€')\n",
    "#         gain += gain_from_sec\n",
    "#     return(round(gain*pow(10,-6)))\n",
    "\n",
    "# def gain_loss_reg_import(reg_ref):\n",
    "#     gain = 0\n",
    "#     loss = 0\n",
    "#     for sec in exio2p.get_sectors():\n",
    "#         gain_from_sec = gain_reg_import_sec(reg_ref, sec)\n",
    "#         if gain_from_sec>0:\n",
    "#             gain += gain_from_sec\n",
    "#         else:\n",
    "#             loss += -gain_from_sec\n",
    "#     print(round(gain*pow(10,-9),1), 'G€')\n",
    "#     print(round(loss*pow(10,-9),1), 'G€')\n",
    "    \n",
    "# def Import(regs, method='direct'): # imports of the area regs outside this area. \n",
    "#     # /!\\ This method uses the transactional notion of embodied conso: may overestimates exports (?)\n",
    "#     if method=='embodied':\n",
    "#         return(embodied_conso_regs(regs)[index_regs_secs(not_regs(regs))].sum())\n",
    "#     elif method=='direct':\n",
    "#         return(exio2p.Z.loc[[(reg,sec) for sec in sectors for reg in not_regs(regs)]][regs].sum().sum())\n",
    "\n",
    "#  In: embodied_import:\n",
    "#         if regs_exp is None: \n",
    "#             share_export = np.array([div0(embodied_conso_regs(reg)[index_regs_secs(not_regs(reg), secs)], \\\n",
    "#                                       exio2p.x.loc[not_regs(reg),secs]) for reg in regs_imp])\n",
    "\n",
    "#             if var=='hours' or var=='hour': \n",
    "#                 res = np.array([hour_regs_secs(not_regs(reg), secs) for reg in regs_imp])*share_export\n",
    "#             elif var=='employment' or var=='empl' or var=='labor': \n",
    "#                 res = np.array([employment_regs_secs(not_regs(reg), secs) for reg in regs_imp])*share_export\n",
    "#             elif var=='energy':\n",
    "#                 res = np.array([impact_regs_secs('Total Energy Use', not_regs(reg), secs) for reg in regs_imp])*share_export\n",
    "#             else:                 \n",
    "#                 hourly_wage_ref = np.array([np.tile(hourly_wage_regs_secs(reg, secs), \\\n",
    "#                                                     len(nb_regions)-1) for reg in regs_imp])\n",
    "#                 res = (hourly_wage_ref - np.array([hourly_wage_regs_secs(reg, secs) for reg in regs_exp])) \\\n",
    "#                     *np.array([hour_regs_secs(not_regs(reg), secs) for reg in regs_imp])*share_export        \n",
    "            \n",
    "#         elif regs_imp is None:\n",
    "#             share_export = np.array([div0(embodied_conso_regs(not_regs(reg))[index_regs_secs(reg, secs)], \\\n",
    "#                                       exio2p.x.loc[reg,secs]) for reg in regs_exp])\n",
    "\n",
    "#             if var=='hours' or var=='hour': \n",
    "#                 res = np.array([hour_regs_secs(reg, secs) for reg in regs_exp])*share_export\n",
    "#             elif var=='employment' or var=='empl' or var=='labor': \n",
    "#                 res = np.array([employment_regs_secs(reg, secs) for reg in regs_exp])*share_export\n",
    "#             elif var=='energy':\n",
    "#                 res = np.array([impact_regs_secs('Total Energy Use', reg, secs) for reg in regs_exp])*share_export\n",
    "#             else:                 \n",
    "#                 hourly_wage_ref = np.array([np.tile(hourly_wage_regs_secs(reg, secs), \\\n",
    "#                                                     len(nb_regions)-1) for reg in regs_exp])\n",
    "#                 res = (hourly_wage_ref - np.array([hourly_wage_regs_secs(not_regs(reg), secs) for reg in regs_exp])) \\\n",
    "#                     *np.array([hour_regs_secs(reg, secs) for reg in regs_exp])*share_export    \n",
    "#     if join:\n",
    "#         if regs_imp is None: print('regs_imp should not be None for join=True')\n",
    "#         if type(regs_exp)==str: nb_regs_exp = 1\n",
    "#         else: nb_regs_exp = len(regs_exp)\n",
    "            \n",
    "#         if regs_exp is None: regs_exp = not_regs(regs_imp)\n",
    "#         share_export = div0(embodied_conso_regs(regs_imp)[index_regs_secs(regs_exp, secs)], exio2p.x.loc[regs_exp,secs])\n",
    "\n",
    "#         if var=='hours' or var=='hour': res = hour_regs_secs(regs_exp, secs)*share_export_reg_secs\n",
    "#         elif var=='Employment' or var=='empl' or var=='labor': res = employment_regs_secs(regs_exp, secs)*share_export\n",
    "#         else: \n",
    "#             hourly_wage_ref = np.tile(hourly_wage_regs_secs(regs_imp, secs), nb_regs_exp)\n",
    "#             res = (hourly_wage_ref - hourly_wage_regs_secs(regs_exp, secs))*hour_regs_secs(regs_exp, secs)*share_export\n",
    "#     else:\n",
    "#         if regs_exp is None: \n",
    "#             share_export = np.array([div0(embodied_conso_regs(reg)[index_regs_secs(not_regs(reg), secs)], \\\n",
    "#                                       exio2p.x.loc[not_regs(reg),secs]) for reg in regs_imp])\n",
    "\n",
    "#             if var=='hours' or var=='hour': \n",
    "#                 res = np.array([hour_regs_secs(not_regs(reg), secs) for reg in regs_imp])*share_export\n",
    "#             elif var=='Employment' or var=='empl' or var=='labor': \n",
    "#                 res = np.array([employment_regs_secs(not_regs(reg), secs) for reg in regs_imp])*share_export\n",
    "#             else:                 \n",
    "#                 print(regs_imp==regions)\n",
    "#                 print(type(secs))\n",
    "#                 hourly_wage_ref = np.array([np.tile(hourly_wage_regs_secs(reg, secs), nb_regions-1) for reg in regs_imp])\n",
    "#                 res = (hourly_wage_ref - np.array([hourly_wage_regs_secs(not_regs(reg), secs) for reg in regs_imp])) \\\n",
    "#                     *np.array([hour_regs_secs(not_regs(reg), secs) for reg in regs_imp])*share_export        \n",
    "# #                 hourly_wage_ref = np.array([np.tile(hourly_wage_regs_secs(reg, secs), nb_regions-1) for reg in regs_imp])\n",
    "# #                 res = (hourly_wage_ref - np.array([hourly_wage_regs_secs(reg, secs) for reg in regs_exp])) \\\n",
    "# #                     *np.array([hour_regs_secs(not_regs(reg), secs) for reg in regs_imp])*share_export             \n",
    "#         elif regs_imp is None:\n",
    "#             share_export = np.array([div0(embodied_conso_regs(not_regs(reg))[index_regs_secs(reg, secs)], \\\n",
    "#                                       exio2p.x.loc[reg,secs]) for reg in regs_exp])\n",
    "\n",
    "#             if var=='hours' or var=='hour': \n",
    "#                 res = np.array([hour_regs_secs(reg, secs) for reg in regs_exp])*share_export\n",
    "#             elif var=='Employment' or var=='empl' or var=='labor': \n",
    "#                 res = np.array([employment_regs_secs(reg, secs) for reg in regs_exp])*share_export\n",
    "#             else:          \n",
    "#                 hourly_wage_ref = np.array([np.tile(hourly_wage_regs_secs(reg, secs), \\\n",
    "#                                                      nb_regions-1) for reg in regs_exp])\n",
    "#                 res = (hourly_wage_ref - np.array([hourly_wage_regs_secs(not_regs(reg), secs) for reg in regs_exp])) \\\n",
    "#                     *np.array([hour_regs_secs(reg, secs) for reg in regs_exp])*share_export\n",
    "\n",
    "# def hour_regs_secs(regs=regs_ref, secs=sectors): return(impact_regs_secs('Employment hour', regs, secs))\n",
    "# #     return(exio2p.impact.F.loc['Employment hour'].loc[regs,secs])\n",
    "# def employment_regs_secs(regs=regs_ref, secs=sectors): return(impact_regs_secs('Employment', regs, secs))\n",
    "# #     return(exio2p.impact.F.loc['Employment'].loc[regs,secs])\n",
    "\n",
    "\n",
    "#     else: df = pd.DataFrame({'imp/exp': ratio, 'import': imp, 'export': exp}, index=regs)\n",
    "\n",
    "\n",
    "# def gain_reg_import_secs(reg_ref=reg_ref, secs=sectors, add=True, round_bn=True):\n",
    "#     '''\n",
    "#     sums across all regions the gain at importing from sectors secs of regions regs_ref,\n",
    "#     where the gain at importing from reg to reg_ref in sector sec is equal to the product of:\n",
    "#     . hourly wage in reg_ref - hourly wage in reg\n",
    "#     . share of production in sec in reg exported to reg_ref\n",
    "#     . hours of employment in sec in reg\n",
    "#     '''\n",
    "#     hourly_wage_ref = np.tile(hourly_wage_regs_secs(reg_ref, secs), nb_regions)\n",
    "#     gains = (hourly_wage_ref - hourly_wage_regs_secs(regions, secs))*hour_regs_secs(regions, secs)* \\\n",
    "#         div0(embodied_conso_regs(reg_ref)[index_regs_secs(regions, secs)], exio2p.x.loc[regions,secs])\n",
    "#     if not add:\n",
    "#         if round_bn:\n",
    "#             return(round(gains*pow(10,-9)))\n",
    "#         else:\n",
    "#             return(gains)\n",
    "#     else:\n",
    "#         gain = gains.sum()\n",
    "#         print(round(gain*pow(10,-9),1), 'G€')\n",
    "#         return(gain)\n",
    "#### inputs\n",
    "#     else: \n",
    "#         for k in range(0, nb_var):\n",
    "#             impacts[k] = list(map(lambda j: sorted_array(j, group_by=group_by).sum().items(), \\\n",
    "#                         reverse=True, key=operator.itemgetter(1))[0:nb_main-1], impacts[k]))\n",
    "#         demand = list(map(lambda j: sorted_array(pd.Series(j, index=exio2p.x.index).groupby(group_by).sum().items(), \\\n",
    "#                         reverse=True, key=operator.itemgetter(1))[0:nb_main-1], demand))\n"
   ]
  },
  {
   "cell_type": "code",
   "execution_count": null,
   "metadata": {},
   "outputs": [],
   "source": []
  }
 ],
 "metadata": {
  "kernelspec": {
   "display_name": "Python 3",
   "language": "python",
   "name": "python3"
  },
  "language_info": {
   "codemirror_mode": {
    "name": "ipython",
    "version": 3
   },
   "file_extension": ".py",
   "mimetype": "text/x-python",
   "name": "python",
   "nbconvert_exporter": "python",
   "pygments_lexer": "ipython3",
   "version": "3.6.4"
  }
 },
 "nbformat": 4,
 "nbformat_minor": 2
}
