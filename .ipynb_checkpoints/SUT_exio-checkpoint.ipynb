{
 "cells": [
  {
   "cell_type": "code",
   "execution_count": 12,
   "metadata": {},
   "outputs": [],
   "source": [
    "from IPython.core.interactiveshell import InteractiveShell\n",
    "InteractiveShell.ast_node_interactivity = \"all\" # 'last' 'none' ...\n",
    "\n",
    "import pymrio\n",
    "import pandas as pd\n",
    "import numpy as np\n",
    "import scipy as sp\n",
    "import matplotlib.pyplot as plt\n",
    "import operator\n",
    "import os\n",
    "\n",
    "def bip(): os.system('play --no-show-progress --null --channels 1 synth 1000 sine 440')"
   ]
  },
  {
   "cell_type": "code",
   "execution_count": 2,
   "metadata": {},
   "outputs": [],
   "source": [
    "# path_io = '/media/adrien/dd/adrien/DD/Économie/Données/'\n",
    "path_io = '/media/sf_U_DRIVE/Données/'\n",
    "path_exio = path_io + 'Exiobase 2.2/'\n",
    "nb_regions = 48\n",
    "nb_I = 163\n",
    "nb_P = 200"
   ]
  },
  {
   "cell_type": "code",
   "execution_count": 3,
   "metadata": {},
   "outputs": [],
   "source": [
    "# supply = open(path_exio+'mrSUT_version2.2.2/mrSupply_version2.2.2.txt').read()\n",
    "# supply_rows = supply.split('\\n')\n",
    "# supply_matrix = [row.split('\\t') for row in supply_rows]\n",
    "S = np.transpose(np.loadtxt(path_exio+'mrSUT_version2.2.2/mrSupply_version2.2.2.txt', skiprows=2, usecols=list(range(3,7827)), delimiter='\\t'))\n",
    "U = np.loadtxt(path_exio+'mrSUT_version2.2.2/mrUse_version2.2.2.txt', skiprows=2, usecols=list(range(3,7827)), delimiter='\\t')"
   ]
  },
  {
   "cell_type": "code",
   "execution_count": 4,
   "metadata": {},
   "outputs": [],
   "source": [
    "IxI = (S/(np.ones(nb_I*nb_regions).dot(np.sum(S, axis=1)))).dot(U)\n",
    "PxP = U.dot(S/(np.sum(S, axis=0).dot(np.ones(nb_P*nb_regions))))"
   ]
  },
  {
   "cell_type": "code",
   "execution_count": 5,
   "metadata": {},
   "outputs": [],
   "source": [
    "S = U = None"
   ]
  },
  {
   "cell_type": "code",
   "execution_count": 6,
   "metadata": {},
   "outputs": [],
   "source": [
    "exio2p = pymrio.parse_exiobase2(path=path_exio+'mrIOT_PxP_ita_coefficient_version2.2.2.zip', charact=True, popvector='exio2')\n",
    "exio2p.calc_all()\n",
    "Zp = exio2p.Z\n",
    "exio2p = None"
   ]
  },
  {
   "cell_type": "code",
   "execution_count": 22,
   "metadata": {},
   "outputs": [
    {
     "data": {
      "text/plain": [
       "True"
      ]
     },
     "execution_count": 22,
     "metadata": {},
     "output_type": "execute_result"
    }
   ],
   "source": [
    "all(Zp==PxP)"
   ]
  },
  {
   "cell_type": "code",
   "execution_count": null,
   "metadata": {},
   "outputs": [],
   "source": [
    "PxP = Zp = None"
   ]
  },
  {
   "cell_type": "code",
   "execution_count": null,
   "metadata": {},
   "outputs": [],
   "source": [
    "exio2i = pymrio.parse_exiobase2(path=path_exio+'mrIOT_IxI_fpa_coefficient_version2.2.2.zip', charact=True, popvector='exio2')\n",
    "exio2i.calc_all()\n",
    "Zi = exio2i.Z\n",
    "exio2i = None"
   ]
  },
  {
   "cell_type": "code",
   "execution_count": null,
   "metadata": {},
   "outputs": [],
   "source": [
    "all(Zi==IxI)"
   ]
  },
  {
   "cell_type": "code",
   "execution_count": null,
   "metadata": {},
   "outputs": [],
   "source": [
    "IxI[2,2] = 5\n",
    "all(Zi==IxI)"
   ]
  },
  {
   "cell_type": "code",
   "execution_count": null,
   "metadata": {},
   "outputs": [],
   "source": [
    "def IOT_from_SUT(S, U, kind='p'):\n",
    "    nb_I, nb_P = S.shape\n",
    "    if kind=='p' or kind=='P' or kind=='PxP': return(U.dot(S/(np.sum(S, axis=0).dot(np.ones(nb_P)))))\n",
    "    elif kind=='i' or kind=='I' or kind=='IxI': return((S/(np.ones(nb_I).dot(np.sum(S, axis=1)))).dot(U))\n",
    "    else: print('Wrong kind: set to PxP or IxI')"
   ]
  }
 ],
 "metadata": {
  "kernelspec": {
   "display_name": "Python 3",
   "language": "python",
   "name": "python3"
  },
  "language_info": {
   "codemirror_mode": {
    "name": "ipython",
    "version": 3
   },
   "file_extension": ".py",
   "mimetype": "text/x-python",
   "name": "python",
   "nbconvert_exporter": "python",
   "pygments_lexer": "ipython3",
   "version": "3.6.4"
  }
 },
 "nbformat": 4,
 "nbformat_minor": 2
}
