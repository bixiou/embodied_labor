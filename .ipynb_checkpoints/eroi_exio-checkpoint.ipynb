{
 "cells": [
  {
   "cell_type": "code",
   "execution_count": 1,
   "metadata": {},
   "outputs": [],
   "source": [
    "from IPython.core.interactiveshell import InteractiveShell\n",
    "InteractiveShell.ast_node_interactivity = \"all\" # 'last' 'none' ...\n",
    "\n",
    "import pymrio\n",
    "# from pymrio.tools.iomath import *\n",
    "import pandas as pd\n",
    "import numpy as np\n",
    "import scipy as sp\n",
    "import matplotlib.pyplot as plt\n",
    "import operator\n",
    "import pickle\n",
    "import country_converter as cc"
   ]
  },
  {
   "cell_type": "code",
   "execution_count": 8,
   "metadata": {},
   "outputs": [],
   "source": [
    "path_io = '/media/adrien/dd1/adrien/DD/Économie/Données/'\n",
    "# path_io = '/media/sf_U_DRIVE/Données/'\n",
    "path_exio = path_io + 'Exiobase 2.2/'"
   ]
  },
  {
   "cell_type": "code",
   "execution_count": 3,
   "metadata": {},
   "outputs": [],
   "source": [
    "io = pymrio.load_test().calc_all()"
   ]
  },
  {
   "cell_type": "code",
   "execution_count": null,
   "metadata": {},
   "outputs": [],
   "source": []
  },
  {
   "cell_type": "code",
   "execution_count": null,
   "metadata": {},
   "outputs": [],
   "source": []
  },
  {
   "cell_type": "code",
   "execution_count": null,
   "metadata": {},
   "outputs": [],
   "source": []
  },
  {
   "cell_type": "code",
   "execution_count": null,
   "metadata": {},
   "outputs": [],
   "source": []
  },
  {
   "cell_type": "code",
   "execution_count": 19,
   "metadata": {},
   "outputs": [
    {
     "data": {
      "text/plain": [
       "<pymrio.core.mriosystem.IOSystem at 0x7fd4133eb518>"
      ]
     },
     "execution_count": 19,
     "metadata": {},
     "output_type": "execute_result"
    }
   ],
   "source": [
    "# path_pxp = path_exio+'mrIOT_PxP_ita_coefficient_version2.2.2.zip'\n",
    "# exio2p = pymrio.parse_exiobase2(path=path_pxp, charact=True, popvector='exio2')\n",
    "# exio2p.calc_all()\n",
    "# exio2p.y = np.sum(exio2p.Y, axis=1)\n",
    "# exio2i = pymrio.parse_exiobase2(path=path_exio+'mrIOT_IxI_fpa_coefficient_version2.2.2.zip', charact=True, popvector='exio2')\n",
    "\n",
    "# exio2p = pickle.load(open(path_exio + 'exio2p.pkl', 'rb'))"
   ]
  },
  {
   "cell_type": "code",
   "execution_count": 14,
   "metadata": {},
   "outputs": [],
   "source": [
    "# path_pxp3 = path_io + 'Exiobase 3.4/' + 'exiobase3.4_iot_2011_pxp.zip'\n",
    "# exio2p = pymrio.parse_exiobase(path=path_pxp3, charact=True, popvector='exio3')\n",
    "# (exio2p.Z.sum(axis=1)+exio2p.Y.sum(axis=1)-(exio2p.Z.sum(axis=0)+exio2p.impact.F.loc['Value Added']))/(exio2p.Z.sum(axis=0)+exio2p.impact.F.loc['Value Added'])\n",
    "# (exio2p.materials.F.loc['Energy Carrier Supply Total']==exio2p.impact.F.loc['Total Energy supply']).all()\n",
    "# dir(exio2p.impact)"
   ]
  },
  {
   "cell_type": "code",
   "execution_count": 8,
   "metadata": {},
   "outputs": [],
   "source": [
    "## SECTORS BUNDLES\n",
    "reg = reg_ref = 'FR'\n",
    "regs = regs_ref = ['FR', 'AT']\n",
    "sec= 'Wheat'\n",
    "secs = ['Pigs', 'Wheat']\n",
    "\n",
    "sectors = np.array(exio2p.get_sectors()) # list(exio2p.get_sectors())\n",
    "regions = list(exio2p.get_regions())\n",
    "nb_sectors = len(sectors)\n",
    "nb_regions = len(regions)\n",
    "\n",
    "# The only domains whose value can be negative in Y are 'Changes in inventories' and 'Changes in valuables'\n",
    "#   stable_domain are the other ones, and are less prone to 2007-specific values\n",
    "stable_domain = ['Final consumption expenditure by government', 'Gross fixed capital formation', 'Export', \\\n",
    "    'Final consumption expenditure by non-profit organisations serving households (NPISH)', \\\n",
    "    'Final consumption expenditure by households']\n",
    "gas = ['Natural gas and services related to natural gas extraction, excluding surveying']\n",
    "oil_primary = ['Crude petroleum and services related to crude oil extraction, excluding surveying']\n",
    "secondary_oil_sectors = ['Motor Gasoline', 'Gas/Diesel Oil', 'Heavy Fuel Oil', 'Kerosene Type Jet Fuel', \\\n",
    "               'Liquefied Petroleum Gases (LPG)', 'Naphtha', 'Non-specified Petroleum Products', 'Kerosene', \\\n",
    "               'Petroleum Coke', 'Aviation Gasoline', 'Gasoline Type Jet Fuel']\n",
    "other_secondary = ['Natural Gas Liquids', 'Patent Fuel']\n",
    "oil_sectors = oil_primary + secondary_oil_sectors\n",
    "primary_coal_sectors = ['Other Bituminous Coal', 'Coking Coal',  'Lignite/Brown Coal', 'Sub-Bituminous Coal', 'Anthracite']\n",
    "secondary_coal_sectors = ['Coke Oven Coke', 'Coal Tar', 'Coke oven gas']\n",
    "coal_sectors = primary_coal_sectors + secondary_coal_sectors\n",
    "primary_wo_oil = primary_coal_sectors + ['Natural gas and services related to natural gas extraction, excluding surveying', \\\n",
    "            'Nuclear fuel', 'Biogas', 'Biodiesels', \\\n",
    "     'Charcoal', 'Ethane', 'Gas Coke', 'Gas Works Gas', 'Other Hydrocarbons', 'Other Liquid Biofuels']\n",
    "primary_energy_sectors=primary_wo_oil+['Crude petroleum and services related to crude oil extraction, excluding surveying']\n",
    "renewable_wo_hydro = ['Electricity by wind', 'Electricity by biomass and waste', 'Electricity by tide, wave, ocean', 'Electricity by Geothermal', \\\n",
    "                     'Electricity by solar photovoltaic', 'Electricity by solar thermal'] \n",
    "renewable_sectors = ['Electricity by hydro'] + renewable_wo_hydro\n",
    "elec_hydrocarbon = ['Electricity by coal', 'Electricity by gas', 'Electricity by petroleum and other oil derivatives']\n",
    "electricity = renewable_sectors + elec_hydrocarbon + ['Electricity by nuclear', 'Electricity nec']\n",
    "final_energy_sectors = ['Steam and hot water supply services'] + electricity\n",
    "secondary_energy = secondary_oil_sectors + secondary_coal_sectors\n",
    "secondary_energy_sectors = primary_wo_oil + secondary_oil_sectors\n",
    "new_secondary_energy_sectors = final_energy_sectors + secondary_oil_sectors #+ other_secondary\n",
    "primary_fuels = np.unique(primary_coal_sectors + primary_energy_sectors)\n",
    "fuels = np.unique(list(primary_fuels) + ['Heavy Fuel Oil', 'Liquefied Petroleum Gases (LPG)'] + coal_sectors + \\\n",
    "                  oil_sectors + other_secondary + ['Natural gas and services related to natural gas extraction, excluding surveying'])\n",
    "other_energy_sectors = ['Distribution services of gaseous fuels through mains', 'Refinery Feedstocks', \\\n",
    "                        'Blast Furnace Gas', 'Oxygen Steel Furnace Gas', # TODO: check it should be here\n",
    "                        'Distribution and trade services of electricity', 'Refinery Gas', 'Uranium and thorium ores', \\\n",
    "                    'Transmission services of electricity', 'Biogasoline', 'BKB/Peat Briquettes', 'Peat']\n",
    "energy_sectors = primary_energy_sectors + secondary_energy + final_energy_sectors + other_energy_sectors + other_secondary\n",
    "\n",
    "final_fuels = ['Aviation Gasoline', 'Biodiesels', 'Gas/Diesel Oil', 'Heavy Fuel Oil', 'Kerosene', 'Kerosene Type Jet Fuel', \\\n",
    "              'Liquefied Petroleum Gases (LPG)', 'Motor Gasoline', 'Other Hydrocarbons']\n",
    "non_fuels = ['Anthracite', 'Charcoal', 'Coal Tar', 'Coke Oven Coke', 'Coke oven gas', 'Ethane', 'Gas Coke', 'Gas Works Gas', 'Gasoline Type Jet Fuel', \\\n",
    "            'Lignite/Brown Coal', 'Naphtha', 'Nuclear fuel', 'BKB/Peat Briquettes', 'Peat', 'White Spirit & SBP', 'Lubricants', 'Bitumen', 'Blast Furnace Gas', \\\n",
    "            'Oxygen Steel Furnace Gas']\n",
    "fuel_for_energy = ['Biogas', 'Crude petroleum and services related to crude oil extraction, excluding surveying', 'Natural Gas Liquids', \\\n",
    "                  'Non-specified Petroleum Products', 'Other Liquid Biofuels', 'Patent Fuel', 'Petroleum Coke']\n",
    "supposedly_final_fuels = ['Natural gas and services related to natural gas extraction, excluding surveying', 'Other Bituminous Coal', 'Sub-Bituminous Coal']\n",
    "# /!\\ waste (incineration) and some gas sectors missing (TODO)\n",
    "sources = ['wind', 'PV', 'elec_coal', 'elec_oil', 'elec_gas', 'elec_nuclear', 'hydro', 'nuclear_fuel', 'coal', 'gas_extraction', 'oil_extraction',]\n",
    "\n",
    "metal_sectors = ['Iron ores', 'Copper ores and concentrates', 'Nickel ores and concentrates',\n",
    "       'Aluminium ores and concentrates', 'Precious metal ores and concentrates', 'Lead, zinc and tin ores and concentrates',\n",
    "       'Other non-ferrous metal ores and concentrates']\n",
    "non_metallous_minerals = ['Stone', 'Sand and clay', \n",
    "                          'Chemical and fertilizer minerals, salt and other mining and quarrying products n.e.c.']\n",
    "raw_minerals = metal_sectors + non_metallous_minerals\n",
    "minerals_secondary = ['Bricks, tiles and construction products, in baked clay', 'Cement, lime and plaster', \n",
    "        'Ash for treatment, Re-processing of ash into clinker', 'Other non-metallic mineral products', \n",
    "        'Rubber and plastic products', 'Glass and glass products', \n",
    "        'Secondary glass for treatment, Re-processing of secondary glass into new glass', 'Ceramic goods']\n",
    "metals_secondary = [ 'Basic iron and steel and of ferro-alloys and first products thereof',\n",
    "       'Secondary steel for treatment, Re-processing of secondary steel into new steel', 'Precious metals',\n",
    "       'Secondary preciuos metals for treatment, Re-processing of secondary preciuos metals into new preciuos metals',\n",
    "       'Aluminium and aluminium products', 'Lead, zinc and tin and products thereof',\n",
    "    'Secondary aluminium for treatment, Re-processing of secondary aluminium into new aluminium',\n",
    "       'Secondary lead for treatment, Re-processing of secondary lead into new lead',\n",
    "       'Copper products', 'Secondary copper for treatment, Re-processing of secondary copper into new copper',\n",
    "       'Other non-ferrous metal products', 'Secondary other non-ferrous metals for treatment, \\\n",
    "Re-processing of secondary other non-ferrous metals into new other non-ferrous metals',]\n",
    "materials = ['Secondary raw materials'] + raw_minerals + minerals_secondary + metals_secondary\n",
    "materials_and_energy = materials + primary_energy_sectors\n",
    "food = ['Paddy rice', 'Wheat', 'Cereal grains nec', 'Vegetables, fruit, nuts', 'Oil seeds', 'Sugar cane, sugar beet',\n",
    "    'Plant-based fibers', 'Crops nec', 'Cattle', 'Pigs', 'Poultry', 'Meat animals nec', 'Animal products nec', 'Raw milk',\n",
    "       'Fish and other fishing products; services incidental of fishing']\n",
    "agriculture_forest_wo_food = ['Wool, silk-worm cocoons', 'Manure (conventional treatment)', 'Pulp',\n",
    "       'Manure (biogas treatment)', 'Products of forestry, logging and related services']\n",
    "processed_food = ['Products of meat cattle', 'Products of meat pigs', 'Products of meat poultry', 'Meat products nec',\n",
    "       'products of Vegetable oils and fats', 'Dairy products', 'Processed rice', 'Sugar', 'Food products nec', \n",
    "        'Beverages', 'Fish products']\n",
    "processed_agri_forest = ['Tobacco products', 'Textiles', 'Wearing apparel; furs', 'Leather and leather products',\n",
    "       'Wood and products of wood and cork (except furniture); articles of straw and plaiting materials',\n",
    "       'Wood material for treatment, Re-processing of secondary wood material into new wood material', 'Printed matter and recorded media',\n",
    "       'Secondary paper for treatment, Re-processing of secondary paper into new pulp', 'Paper and paper products']\n",
    "chemicals_plastics = ['White Spirit & SBP', 'Lubricants', 'Bitumen', 'Paraffin Waxes', 'Plastics, basic', 'Additives/Blending Components',\n",
    "       'Secondary plastic for treatment, Re-processing of secondary plastic into new plastic', 'N-fertiliser', 'P- and other fertiliser', 'Chemicals nec']\n",
    "# TODO: /!\\ Bitumen in plastics ?\n",
    "heavy_industry = ['Foundry work services', 'Fabricated metal products, except machinery and equipment']\n",
    "electr_on_ical = ['Machinery and equipment n.e.c.', 'Office machinery and computers', 'Electrical machinery and apparatus n.e.c.',\n",
    "       'Radio, television and communication equipment and apparatus', 'Medical, precision and optical instruments, watches and clocks']\n",
    "other_industry = ['Motor vehicles, trailers and semi-trailers', 'Bottles for treatment, Recycling of bottles by direct reuse',\n",
    "       'Other transport equipment', 'Furniture; other manufactured goods n.e.c.', 'Collected and purified water, distribution services of water']\n",
    "agribusiness = food + agriculture_forest_wo_food + processed_food + processed_agri_forest\n",
    "industry = chemicals_plastics + heavy_industry + electr_on_ical + other_industry\n",
    "construction = ['Construction work',\n",
    "       'Secondary construction material for treatment, Re-processing of secondary construction material into aggregates']\n",
    "services = ['Sale, maintenance, repair of motor vehicles, motor vehicles parts, motorcycles, motor cycles parts and accessoiries',\n",
    "       'Retail trade services of motor fuel', 'Wholesale trade and commission trade services, except of motor vehicles and motorcycles',\n",
    "       'Retail  trade services, except of motor vehicles and motorcycles; repair services of personal and household goods',\n",
    "       'Hotel and restaurant services', 'Railway transportation services', 'Other land transportation services', 'Transportation services via pipelines',\n",
    "       'Sea and coastal water transportation services', 'Inland water transportation services', 'Air transport services',\n",
    "       'Supporting and auxiliary transport services; travel agency services', 'Post and telecommunication services',\n",
    "       'Financial intermediation services, except insurance and pension funding services', \n",
    "       'Insurance and pension funding services, except compulsory social security services', 'Services auxiliary to financial intermediation',\n",
    "       'Real estate services', 'Renting services of machinery and equipment without operator and of personal and household goods',\n",
    "       'Computer and related services', 'Research and development services', 'Other business services',\n",
    "       'Public administration and defence services; compulsory social security services', 'Education services', 'Health and social work services', \n",
    "        'Membership organisation services n.e.c.', 'Recreational, cultural and sporting services', 'Other services',\n",
    "       'Private households with employed persons', 'Extra-territorial organizations and bodies']\n",
    "waste_landfill = ['Food waste for treatment: incineration', 'Paper waste for treatment: incineration', 'Plastic waste for treatment: incineration', \n",
    "        'Intert/metal waste for treatment: incineration', 'Textiles waste for treatment: incineration', 'Wood waste for treatment: incineration',\n",
    "       'Oil/hazardous waste for treatment: incineration', 'Food waste for treatment: biogasification and land application',\n",
    "       'Paper waste for treatment: biogasification and land application', 'Sewage sludge for treatment: biogasification and land application',\n",
    "       'Food waste for treatment: composting and land application', 'Paper and wood waste for treatment: composting and land application',\n",
    "       'Food waste for treatment: waste water treatment', 'Other waste for treatment: waste water treatment', 'Food waste for treatment: landfill',\n",
    "       'Paper for treatment: landfill', 'Plastic waste for treatment: landfill', 'Inert/metal/hazardous waste for treatment: landfill',\n",
    "       'Textiles waste for treatment: landfill', 'Wood waste for treatment: landfill']\n",
    "cars = ['Motor vehicles, trailers and semi-trailers']\n",
    "\n",
    "partition_sectors = {'energy': energy_sectors, 'materials': materials, 'agribusiness': agribusiness, 'industry': industry, \n",
    "                     'construction': construction, 'services': services, 'waste': waste_landfill}\n",
    "composition_sectors = {'energy': primary_energy_sectors, 'materials': materials, 'agribusiness': agribusiness, 'industry': industry, \n",
    "                     'construction': construction, 'services': services, 'waste': waste_landfill}\n",
    "decomposition_sectors  = {'energy': primary_energy_sectors, 'materials': materials, 'agribusiness': agribusiness, 'chemicals, plastics': chemicals_plastics, \n",
    "    'heavy industry': heavy_industry,\n",
    "  'electric, electronic industry': electr_on_ical, 'other industry': other_industry + waste_landfill, 'construction': construction, 'services': services}\n",
    "recomposition_sectors  = {'electricity': electricity, 'fuels':secondary_oil_sectors, 'materials': materials, 'agribusiness': agribusiness, \\\n",
    "                          'chemicals, plastics': chemicals_plastics,  'heavy industry': heavy_industry,\\\n",
    "  'electric, electronic industry': electr_on_ical, 'other industry': other_industry + waste_landfill, 'construction': construction, 'services': services}\n",
    "\n",
    "def sectors_source(source, io=exio2p): \n",
    "    if source=='all': return(list(io.get_sectors()))\n",
    "    elif source=='fuels' or source=='fuel': return(fuels)\n",
    "    elif source=='new_secondary_fuels': return(inter_secs(fuels, new_secondary_energy_sectors))\n",
    "    elif source=='primary': return(primary_energy_sectors)\n",
    "    elif source=='secondary': return(secondary_energy_sectors)\n",
    "    elif source=='new_secondary': return(new_secondary_energy_sectors)\n",
    "    elif source=='final': return(final_energy_sectors)\n",
    "    elif source=='secondary&final': return(secondary_energy_sectors+final_energy_sectors)\n",
    "    elif source=='nuclear_fuel': return('Nuclear fuel')\n",
    "    elif source=='hydro': return('Electricity by hydro')\n",
    "    elif source=='PV': return('Electricity by solar photovoltaic')\n",
    "    elif source=='wind': return('Electricity by wind')\n",
    "    elif source=='oil_extraction' or source=='oil': \n",
    "        return('Crude petroleum and services related to crude oil extraction, excluding surveying')\n",
    "    elif source=='gas_extraction' or source=='gas': \n",
    "        return('Natural gas and services related to natural gas extraction, excluding surveying')\n",
    "    elif source=='oil_secondary': return(secondary_oil_sectors)\n",
    "    elif source=='coal': return(coal_sectors)\n",
    "    elif source=='oil_and_gas': return(['Crude petroleum and services related to crude oil extraction, excluding surveying', \\\n",
    "                                        'Natural gas and services related to natural gas extraction, excluding surveying'])\n",
    "    elif source=='elec_gas': return('Electricity by gas')\n",
    "    elif source=='elec_oil': return('Electricity by petroleum and other oil derivatives')\n",
    "    elif source=='elec_coal': return('Electricity by coal')\n",
    "    elif source=='elec_nuclear': return('Electricity by nuclear')\n",
    "    else: print(\"source not known (you may add it to the function 'sectors')\")"
   ]
  },
  {
   "cell_type": "code",
   "execution_count": 5,
   "metadata": {},
   "outputs": [],
   "source": [
    "# .sum(axis=1) somme les lignes (c'est donc un vecteur colonne) alors que axis=0 somme les colonnes\n",
    "def mult_rows(matrix, vector): return(matrix * np.diag(vector).dot(np.ones(matrix.shape))) # multiply in each element of the k-th row of matrix by k-th of vector\n",
    "def mult_cols(matrix, vector): return(matrix * (np.ones(matrix.shape)).dot(np.diag(vector)))\n",
    "\n",
    "def calc_Y_from_Yy(Y, y): \n",
    "    old_y = np.sum(Y, axis=1) \n",
    "    return(pd.DataFrame(mult_rows(Y, div0(y, old_y)), index=Y.index, columns=Y.columns))\n",
    "def calc_L_from_A(A): return(pd.DataFrame(np.linalg.inv(np.eye(A.shape[0])-A), index=A.index, columns=A.columns))\n",
    "def calc_A_from_Zx(Z, x): return(pd.DataFrame(Z @ np.diag(div0(1,x)), index=Z.index, columns=Z.columns))\n",
    "def calc_dot(M, x): return(pd.DataFrame(np.array(M) @ np.diag(np.array(x)), index=M.index, columns=M.columns))\n",
    "# def calc_y_from_xZ(x, Z): return(pd.Series(x - Z.sum(axis=1), index=x.index))\n",
    "# def calc_x_from_Ly(L, y): return(pd.Series(np.array(L) @ np.array(y), index=y.index))\n",
    "# def calc_Z_from_Ax(A, x): return(pd.DataFrame(np.array(A) @ np.diag(np.array(x)), index=A.index, columns=A.columns))\n",
    "# def calc_F_from_Sx(S, x): return(pd.DataFrame(S @ np.diag(x), index=S.index, columns=S.columns))\n",
    "\n",
    "def calc(io, given='Z', pass_S=False): # non treated: given A&x Z&y A&Z\n",
    "    iot = io.copy()\n",
    "    if given=='Z': # and x\n",
    "        iot.A = calc_A_from_Zx(iot.Z, iot.x)\n",
    "        print(\"A computed\")\n",
    "        given = 'x'\n",
    "    elif given=='A': # and y\n",
    "        iot.L = calc_L_from_A(iot.A)\n",
    "        given = 'y'\n",
    "    if given=='y': # and A, L\n",
    "        iot.x = pd.Series(np.array(iot.L) @ np.array(iot.y), index=iot.y.index)\n",
    "        iot.Z = calc_dot(iot.A, iot.x)\n",
    "        given = 'S'\n",
    "    if given=='Ax': # from A & x\n",
    "        iot.Z = calc_dot(iot.A, iot.x)\n",
    "        print(\"Z computed\")\n",
    "        given = 'x'\n",
    "    if given=='x': # and Z\n",
    "        iot.L = calc_L_from_A(iot.A)\n",
    "        print(\"L computed\")\n",
    "        iot.y = pd.Series(iot.x - iot.Z.sum(axis=1), index=iot.x.index)\n",
    "        iot.Y = calc_Y_from_Yy(iot.Y, iot.y)\n",
    "    if given=='Zy': # from Z & y\n",
    "        iot.x = pd.Series(iot.y + iot.Z.sum(axis=1), index=iot.y.index)\n",
    "        iot.A = calc_A_from_Zx(iot.Z, iot.x)\n",
    "        iot.L = calc_L_from_A(iot.A)\n",
    "        iot.Y = calc_Y_from_Yy(iot.Y, iot.y)\n",
    "        given = 'S'\n",
    "    if given=='S' and not(pass_S):\n",
    "        iot.impact.F = calc_dot(iot.impact.S, iot.x)\n",
    "        iot.materials.F = calc_dot(iot.materials.S, iot.x)\n",
    "    return(iot)\n",
    "        \n",
    "        \n",
    "def IOchange(io_old = exio2p, nature='efficiency', rates=0.7):\n",
    "    if type(rates)==float: rates = [rates for i in range(nb_sectors*nb_regions)]\n",
    "    io = io_old\n",
    "    if nature=='efficiency': # Z ou A equivalent\n",
    "        io.Z = mult_cols(io.Z, rates)\n",
    "        return(calc(io, 'Z'))\n",
    "    elif nature=='gdp' or nature=='y':\n",
    "        io.y = io.y * rates\n",
    "        return(calc(io, 'y'))\n",
    "    elif nature=='techno' or nature=='technological': # TODO: check that Cecilia assumes y constant, and think if it's a good assumption\n",
    "        io.A = io.A * rates\n",
    "        return(calc(io, 'A')) # this case includes energy mix transition"
   ]
  },
  {
   "cell_type": "code",
   "execution_count": 21,
   "metadata": {},
   "outputs": [],
   "source": [
    "## NAMES IMPACTS (OR SECTORS)\n",
    "def name_var(var):\n",
    "    if var=='hours' or var=='hour' or var=='Employment hour': return('Employment hour')\n",
    "    elif var=='employment' or var=='empl' or var=='labor' or var=='Employment': return('Employment')\n",
    "    elif var=='energy' or var=='Total Energy Use' or var=='use': return('Total Energy Use')\n",
    "    elif var=='Total Energy supply' or var=='energy supply' or var=='supply': return('Total Energy supply')\n",
    "    elif var=='Total Energy inputs from nature': return('Total Energy inputs from nature')\n",
    "    elif var=='Total Emission relevant energy use': return('Total Emission relevant energy use')\n",
    "    elif var=='warming' or var=='global warming': return('global warming (GWP100)')\n",
    "    else: return('unknown')\n",
    "    \n",
    "def find(string, vec='impacts'): # Find vec=impacts/sectors containing string\n",
    "    if vec=='impacts' or vec=='Impacts' or vec=='impact': array = np.array(exio2p.impact.unit.iloc[:,0].index)\n",
    "    elif vec=='sectors': array = np.array(sectors)\n",
    "    return(array[np.where(list(map(lambda s: string in s, array)))[0]])\n",
    "\n",
    "## GENERIC FUNCTIONS\n",
    "def div0(a, b):\n",
    "    if type(a)==int or type(a)==float: a = a*np.ones_like(b)\n",
    "    a = np.array(a, dtype='float')\n",
    "    return(np.divide(a, b, out=np.zeros_like(a), where=b!=0))\n",
    "def sorted_series(series): return(sorted(series.items(), reverse=True, key=operator.itemgetter(1)))\n",
    "def sorted_array(array, index=exio2p.x.index, group_by=None): \n",
    "    if group_by is None: return(sorted_series(pd.Series(array, index=index)))\n",
    "    else: return(sorted_series(pd.Series(array, index=index).groupby(group_by).sum()))\n",
    "def inter_secs(secs1, secs2): return(list(np.array(secs1)[np.where([sec in secs2 for sec in secs1])[0]]))\n",
    "\n",
    "## INDEXES\n",
    "# /!\\ Python sorts regs and secs before applying the function\n",
    "def index_regs(regs, vec_regions = regions):\n",
    "    if type(regs)==str: regs=[regs]\n",
    "    return(np.where(list(map(lambda r: r in regs, vec_regions)))[0]) # for list of str\n",
    "def index_secs(secs, vec_sectors=sectors): \n",
    "    if type(secs)==str: secs=[secs]\n",
    "    return(np.where(list(map(lambda s: s in secs, vec_sectors)))[0]) # indexes of a list of sectors\n",
    "def index_regs_secs(regs=regions, secs=sectors, vec_sectors=sectors, vec_regions=regions):  # all combinations of indexes\n",
    "    return(np.repeat(index_regs(regs, vec_regions)*len(vec_sectors), len(secs)*(type(secs)!=str)+(type(secs)==str)) \\\n",
    "           + np.tile(index_secs(secs, vec_sectors), len(regs)*(type(regs)!=str)+(type(regs)==str)) )\n",
    "\n",
    "## BASIC STATISTICS\n",
    "def final_demand(secs=sectors, regs=regions, io=exio2p): # TODO: allow exio1 \n",
    "    regions = list(io.get_regions())\n",
    "    nb_regionalized_sectors = len(regions)*len(list(io.get_sectors()))\n",
    "    indexes = index_regs_secs(regs, secs, vec_regions=regions)\n",
    "    return(io.Y[[(reg,dom) for reg in regions for dom in stable_domain]].sum(axis='columns')*list(map(lambda i: i in indexes, range(nb_regionalized_sectors))))\n",
    "\n",
    "def production(secs=sectors, regs=regions, io=exio2p): \n",
    "    regions = list(io.get_regions())\n",
    "    sectors = list(io.get_sectors())\n",
    "    return(io.x*list(map(lambda i: i in index_regs_secs(regs, secs, sectors, regions), range(len(regions)*len(sectors))))) # TODO: faster method\n",
    "    \n",
    "def impact(var, regs=regions, secs=sectors, io=exio2p, join_sort=False):\n",
    "    if type(regs)==str: regs=[regs]\n",
    "    if var=='unknown': var='Value Added'\n",
    "    if join_sort: return(sorted_series(io.impact.F.loc[var].loc[regs,secs].groupby('sector').sum()))\n",
    "    else: return(io.impact.F.loc[var].loc[regs,secs])\n",
    "    \n",
    "def embodied_prod(secs=sectors, regs=regions, io=exio2p): return(np.dot(io.L, production(secs, regs, io)))\n",
    "# Embodied energy for a sec-regs. Notion: use, supply or used (=use-supply) / source: primary, secondary, all\n",
    "def embodied_impact(secs='Electricity by solar photovoltaic', regs=regions, notion='supply', source=sectors, io=exio2p, \\\n",
    "                    netting_fuel = False, group_by='region', sort=False, exclusive = True):\n",
    "    share_demand = div0(embodied_prod(secs, regs, io)-exclusive*production(secs, regs, io), io.x)\n",
    "    energy = impact(name_var(notion), io=io)*share_demand\n",
    "    energy = energy[index_regs_secs(regions, source, list(io.get_sectors()), list(io.get_regions()))]\n",
    "    if sort: return(sorted_series(energy.groupby(group_by).sum()))\n",
    "    else: return(energy.groupby(group_by).sum())    \n",
    "        \n",
    "# Traverse value chain backwards from regs-secs. group_by: None, sector, region / nb_main: number or 'all\n",
    "def inputs(secs=sectors, regs=regions, var_impacts=[], source='all', order_recursion=4, nb_main=5, group_by='sector', io=exio2p): \n",
    "    if nb_main=='all': nb_main=len(list(io.get_sectors()))*len(list(io.get_regions()))\n",
    "    if type(var_impacts)==str: var_impacts = [var_impacts]\n",
    "    nb_var = len(var_impacts)\n",
    "    demand = [None for i in range(order_recursion)]\n",
    "    impacts = [[None for i in range(order_recursion)] for j in range(nb_var)]\n",
    "    sums = [[] for i in range(nb_var+1)]\n",
    "#     demand[0] = final_demand(secs, regs)\n",
    "    demand[0] = production(secs, regs, io)\n",
    "    for i in range(0, order_recursion):\n",
    "        if nb_var>0: share_demand_i = div0(demand[i], io.x)\n",
    "        for l in range(0, nb_var): \n",
    "            impacts_l_i = impact(var_impacts[l], io=io)*share_demand_i\n",
    "            impacts[l][i] = impacts_l_i[index_regs_secs(regions, sectors_source(source), list(io.get_sectors()), list(io.get_regions()))]\n",
    "            sums[l].append(impacts[l][i].sum())\n",
    "        if i+1<order_recursion: demand[i+1] = np.dot(io.A, demand[i])\n",
    "        sums[nb_var].append(demand[i].sum())\n",
    "    for k in range(0, nb_var): impacts[k] = list(map(lambda j: sorted_array(j, group_by=group_by)[0:nb_main],impacts[k]))\n",
    "    demand = list(map(lambda j: sorted_array(j, group_by=group_by)[0:nb_main], demand))\n",
    "    return((impacts, demand, sums))\n",
    "\n",
    "def outputs(secs=sectors, out_sectors=sectors, nb_main=5, io=exio2p):\n",
    "    sectors = list(io.get_sectors())\n",
    "    regions = list(io.get_regions())\n",
    "    production = io.x.iloc[index_regs_secs(regions, secs, sectors, regions)].sum()\n",
    "    return((io.y.iloc[index_regs_secs(regions, secs, sectors, regions)].sum()/production, \\\n",
    "            sorted_series(io.Z.iloc[index_regs_secs(regions, secs, sectors, regions)].sum().groupby('sector').sum()[out_sectors]/production)[0:nb_main]))\n",
    "## EROI\n",
    "# /!\\  EROI for growing technos is underestimated because embodied energy in building capacity \n",
    "#      is more than needed for replacement\n",
    "\n",
    "# def eroi(secs='Electricity by solar photovoltaic', regs=regions, notion='supply', source='primary', external=True): # TODO: adapt to other io\n",
    "#     supply = impact(name_var(notion), regs, secs).sum()\n",
    "#     embodied = embodied_impact(secs, regs, notion, sectors_source(source)).sum()\n",
    "#     if external: internal = embodied_impact(secs, regs, notion='supply', source=secs).sum() # TODO: replace by first order input only?\n",
    "#     else: internal = 0\n",
    "#     if False: #type(secs)==str and secs.startswith('Elec'): \n",
    "#         indices_fuel = np.array([0 for i in range(nb_regions*nb_sectors)])\n",
    "#         indices_fuel[index_regs_secs(regions, fuels, list(io.get_sectors()), list(io.get_regions()))] = 1\n",
    "#         demand_fuel = np.dot(exio2p.A, production(secs, regs))*indices_fuel\n",
    "#         share_demand = div0(np.dot(exio2p.L, demand_fuel), exio2p.x) \n",
    "#         # TODO: add use of primary_fuels that is not directly used by fuels (but indirectly, eg through Construction stage)\n",
    "#         energy_fuel = (impact(name_var(notion))*share_demand) # energy from primary fuels of fuels needed for production of elec by ..\n",
    "#         energy_fuel = energy_fuel[index_regs_secs(regions, primary_fuels, list(io.get_sectors()), list(io.get_regions()))].sum() \n",
    "#     else: energy_fuel = 0\n",
    "#     return((supply - external*internal)/(embodied - external*internal - energy_fuel))\n",
    "\n",
    "def eroi(secs='Electricity by solar photovoltaic', regs=regions, notion='supply', source='new_secondary', netting_fuel = True, io=exio2p):\n",
    "    supply = impact(name_var('supply'), regs, secs, io=io).sum() # TODO: recoder l'eroi en utilisant S plutôt que F\n",
    "    embodied = embodied_impact(secs, regs, notion, sectors_source(source), io=io).sum()\n",
    "    if ((type(secs)==str and secs in elec_hydrocarbon) or secs==elec_hydrocarbon) and netting_fuel: \n",
    "        input_fuel = inputs(secs, var_impacts=[name_var('supply')], source='new_secondary_fuels', order_recursion=2, io=io)[2][0][1]\n",
    "    else: input_fuel = 0 # We want to include fuels that are used for transportation, not transformed into electricity (this is not secondary anymore)\n",
    "    print(supply)\n",
    "    print(embodied)\n",
    "    return(supply/(embodied - input_fuel))\n",
    "\n",
    "def erois(notion='supply', source='new_secondary', external=False, display=True, netting_fuel=True, io=exio2p):\n",
    "    erois = []\n",
    "    if display: \n",
    "        print(external*'External '+'EROI with '+notion+' from '+source+' sources at the denominator, unadjusted for growth')\n",
    "    for secs in sources: \n",
    "        eroi_secs = eroi(sectors_source(secs), regions, notion, source, netting_fuel, io) # eroi(sectors_source(secs), regions, notion, source, external)\n",
    "        erois.append(eroi_secs)\n",
    "        if display: print(secs, eroi_secs)\n",
    "    return(erois)\n",
    "\n",
    "def composition_impact(sec, impact=name_var('use'), partition_sectors=composition_sectors, sort=True, io=exio2p):\n",
    "    '''\n",
    "    Returns the composition of impacts from sectors sec of type impact, in categories defined in partition_sectors.\n",
    "    '''\n",
    "    impact_sectors = {}\n",
    "    sectors_tot = sum([[s for s in partition_sectors[sec]] for sec in partition_sectors], []) # list of all sectors\n",
    "    impacts_tot = embodied_impact(sec, source=sectors_tot, notion=impact, io=io).sum()\n",
    "    for sectors_i_name, sectors_i in partition_sectors.items():\n",
    "        impact_sectors[sectors_i_name] = embodied_impact(sec, source=sectors_i, notion=impact, io=io).sum()/impacts_tot\n",
    "    if sort: return(sorted(impact_sectors.items(), reverse=True, key=operator.itemgetter(1)))\n",
    "    else: return(impact_sectors)\n",
    "    \n",
    "def composition_impacts(sec, impacts=[name_var('use'), name_var('supply'), name_var('warming')], partition_sectors=recomposition_sectors, sort=True, io=exio2p):\n",
    "    impacts_sectors = {}\n",
    "    for impact in impacts:\n",
    "        impacts_sectors[impact] = composition_impact(sec, impact, partition_sectors, sort, io=io)\n",
    "    print(sec)\n",
    "    return(impacts_sectors)\n",
    "\n",
    "def total_consumption(secs, add=True, io=exio2p): # add=False works only for type(secs)==str\n",
    "    if add: return(io.x.iloc[index_regs_secs(regions, secs, list(io.get_sectors()), list(io.get_regions()))].groupby('sector').sum())\n",
    "    else: return(io.x.iloc[index_regs_secs(regions, secs, list(io.get_sectors()), list(io.get_regions()))].groupby('sector').sum().groupby('region').sum()) \n",
    "        \n",
    "# J from * $ to / ($ from / J to) = J/$ from/to\n",
    "def conversion_price(to = sectors_source('wind'), froms = elec_hydrocarbon, var = name_var('supply'), io=exio2p):\n",
    "    return(impact(var, regions, froms, io=io).groupby('sector').sum()*total_consumption(to, io=io)[0]/\\\n",
    "           (total_consumption(froms, io=io)*impact(var, regions, to, io=io).groupby('sector').sum()[0]))\n",
    "\n",
    "def cleaner(share_PV = 0.5, share_wind = 0.5, replaced = elec_hydrocarbon, io=exio2p): # returns an IOsystem with only renewable electricity in the energy mix\n",
    "    cleaner = io.copy()\n",
    "    sectors = list(io.get_sectors())\n",
    "    regions = list(io.get_regions())\n",
    "#     cleaner.A = io.A.copy()\n",
    "#     cleaner.Y = io.Y.copy()\n",
    "#     cleaner.S = io.impact.S.copy()\n",
    "#     cleaner.A.iloc[index_regs_secs(regions, sectors_source('wind'), sectors, regions)] += share_wind * np.kron(np.eye(nb_regions), \\\n",
    "#                                 np.array(conversion_price(sectors_source('wind'), io=io))) @ io.A.iloc[index_regs_secs(regions, replaced, sectors, regions)]\n",
    "#     cleaner.A.iloc[index_regs_secs(regions, sectors_source('PV'), sectors, regions)] += share_PV * np.kron(np.eye(nb_regions), \\\n",
    "#         np.array(conversion_price(sectors_source('PV'), io=io))) @ io.A.iloc[index_regs_secs(regions, replaced, sectors, regions)]\n",
    "#     cleaner.A.iloc[index_regs_secs(regions, replaced, sectors, regions)] = 0\n",
    "    # replaces non-RE elec by RE in Y\n",
    "    cleaner.Y.iloc[index_regs_secs(regions, sectors_source('wind'), sectors, regions)] += share_wind * np.kron(np.eye(nb_regions), \\\n",
    "                                np.array(conversion_price(sectors_source('wind'), io=io))) @ io.Y.iloc[index_regs_secs(regions, replaced, sectors, regions)]\n",
    "    cleaner.Y.iloc[index_regs_secs(regions, sectors_source('PV'), sectors, regions)] += share_PV * np.kron(np.eye(nb_regions), \\\n",
    "        np.array(conversion_price(sectors_source('PV'), io=io))) @ io.Y.iloc[index_regs_secs(regions, replaced, sectors, regions)]\n",
    "    cleaner.Y.iloc[index_regs_secs(regions, replaced, sectors, regions)] = 0\n",
    "    cleaner.y = np.sum(cleaner.Y, axis=1)\n",
    "    # in the following, we assume a global elec grid providing the same elec for all sectors, replacing the 'replaced' sectors\n",
    "    global_conversion = np.tile(np.stack(([i==index_secs(sectors_source('PV'), sectors)[0] for i in \\\n",
    "                range(len(sectors))],[i==index_secs(sectors_source('wind'), sectors)[0] for i in range(len(sectors))]),axis=1) \\\n",
    "             @ np.array([share_PV*conversion_price(sectors_source('PV'), io=io),share_wind*conversion_price(sectors_source('wind'), io=io)]), len(regions))\n",
    "    national_weights = [[io.x.loc[(reg, sectors_source('PV'))]] for reg in regions]/production(secs=sectors_source('PV'), io=io).sum()\n",
    "    cleaner.A[[(reg, sec) for reg in regions for sec in replaced]] = np.kron(national_weights, global_conversion)\n",
    "    cleaner = calc(cleaner, 'A', pass_s=True)\n",
    "    cleaner.impact.S.loc[[name_var(var) for var in ('use', 'supply')], [(reg, sec) for reg in regions for sec in replaced]] = 0\n",
    "    cleaner = calc(cleaner, 'S')\n",
    "#     cleaner.L =  pd.DataFrame(np.linalg.inv(np.eye(cleaner.A.shape[0])-cleaner.A), index=cleaner.A.index, columns=cleaner.A.columns)\n",
    "#     cleaner.x = pd.Series(np.array(cleaner.L) @ np.array(cleaner.y), index=cleaner.x.index)\n",
    "#     cleaner.Z = pd.DataFrame(np.array(cleaner.A) @ np.diag(np.array(cleaner.x)), index=cleaner.Z.index, columns=cleaner.Z.columns)\n",
    "#     cleaner.impact.S.loc[[name_var(var) for var in ('use', 'supply')], [(reg, sec) for reg in regions for sec in replaced]] = 0\n",
    "#     cleaner.impact.F = pd.DataFrame(cleaner.impact.S @ np.diag(cleaner.x), index=cleaner.impact.F.index, columns=cleaner.impact.F.columns)\n",
    "    return(cleaner)\n",
    "\n",
    "def share_made_in_own(share = 0.9, regs = regions, secs = sectors):\n",
    "    return()# proportion of value added from each reg in regs of sectors secs that is produced (recursively) at no less than 'share' in their own reg"
   ]
  },
  {
   "cell_type": "code",
   "execution_count": 8,
   "metadata": {},
   "outputs": [],
   "source": [
    "# TODO:-reconstruire la table PxP à partir des SUT en méthode by product, pour virer le nucléaire dans l'hydro et le gaz dans l'éolien (cf. mail Cyril, Matrix A)\n",
    "#     - recalculer les EROIs avec exio2p.materials.F (Energy Carrier Supply/Use Total)\n",
    "#     - enlever proprement les fuels consommés pour produire de l'élec ou d'autres fuels, à tous niveaux de récursion\n",
    "# TODO: Idéalement, il faudrait construire une matrice I-O de flux d'énergie (au lieu de monétaire) et couper le lien entre fuel et élec par fuel (=>0)\n",
    "# En première approximation, je coupe juste le lien de premier ordre.\n",
    "\n",
    "## On EROI of hydro:\n",
    "# Estimates are reported by Dale 2010, they range from 10 to 165\n",
    "# The one from Li 2007 (10) comes from a unfound book of Odum and is the yieling net emergy (not EROI) (Environmental Accounting, Emergy, and Decision Making)\n",
    "# The one from Kubiszewski & Cleveland (12) is also impossible to find (Encyclopedia of the Earth)\n",
    "# Gagnon 2002 (150) is from LCA\n",
    "# Hall et al. 1986 (11.2, 22.5) \n",
    "# Voss 2001 (22) (LCA je crois)\n",
    "# Lund & Biswas 2008 (150) (LCA je crois)"
   ]
  },
  {
   "cell_type": "code",
   "execution_count": 30,
   "metadata": {},
   "outputs": [],
   "source": [
    "# pickle.dump(exio2p, open(path_exio + 'exio2p.pkl', 'wb'))\n",
    "# pickle.dump(io_eff, open(path_exio + 'io_eff.pkl', 'wb'))"
   ]
  },
  {
   "cell_type": "code",
   "execution_count": 23,
   "metadata": {},
   "outputs": [],
   "source": [
    "concordance_countries = cc.agg_conc(original_countries=regions, aggregates=['EU', 'Cecilia2050'], missing_countries='RoW')\n",
    "concordance_countries['aggregated'].iloc[np.where(concordance_countries['original']=='WF')[0]] = 'RoW'\n",
    "regions_Cecilia = list(concordance_countries['aggregated'])"
   ]
  },
  {
   "cell_type": "code",
   "execution_count": 2,
   "metadata": {},
   "outputs": [],
   "source": [
    "# cecilio = exio2p.aggregate(region_agg = concordance_countries, inplace=False)\n",
    "# global_io = exio2p.aggregate(region_agg = 'global', sector_agg='total', inplace=False)"
   ]
  },
  {
   "cell_type": "code",
   "execution_count": 34,
   "metadata": {},
   "outputs": [
    {
     "data": {
      "text/plain": [
       "False"
      ]
     },
     "execution_count": 34,
     "metadata": {},
     "output_type": "execute_result"
    }
   ],
   "source": [
    "# exio2p.impact.F.loc[name_var('supply')][np.where(exio2p.impact.F.loc[name_var('supply')]<0)[0]]\n",
    "(exio2p.A>=0).all().all()"
   ]
  },
  {
   "cell_type": "code",
   "execution_count": 20,
   "metadata": {},
   "outputs": [
    {
     "name": "stdout",
     "output_type": "stream",
     "text": [
      "A computed\n",
      "L computed\n"
     ]
    }
   ],
   "source": [
    "io_eff_simple = IOchange()"
   ]
  },
  {
   "cell_type": "code",
   "execution_count": 9,
   "metadata": {},
   "outputs": [
    {
     "data": {
      "text/plain": [
       "array([0.2, 0.6, 0.8, 1.4, 3.5, 4.6, 0.2, 0.6, 0.8, 1.4])"
      ]
     },
     "execution_count": 9,
     "metadata": {},
     "output_type": "execute_result"
    }
   ],
   "source": [
    "rates_test = np.tile([0.2,0.6,0.8,1.4,3.5,4.6], 1600)\n",
    "rates_test[0:10]"
   ]
  },
  {
   "cell_type": "code",
   "execution_count": 10,
   "metadata": {},
   "outputs": [
    {
     "name": "stdout",
     "output_type": "stream",
     "text": [
      "A computed\n",
      "L computed\n"
     ]
    }
   ],
   "source": [
    "io_eff = IOchange(rates=rates_test)"
   ]
  },
  {
   "cell_type": "code",
   "execution_count": 46,
   "metadata": {},
   "outputs": [
    {
     "name": "stdout",
     "output_type": "stream",
     "text": [
      "EROI with supply from new_secondary sources at the denominator, unadjusted for growth\n",
      "wind 54.457467656231934\n",
      "PV 33.44588093628139\n",
      "elec_coal 98.98255318588399\n",
      "elec_oil 38.588545492966446\n",
      "elec_gas 126.32872891014942\n",
      "elec_nuclear 56.4901806147271\n",
      "hydro 100.20849159259078\n",
      "nuclear_fuel 421.375729882545\n",
      "coal 470.9142318383019\n",
      "gas_extraction 322.8659283136441\n",
      "oil_extraction 133.43035348515988\n"
     ]
    }
   ],
   "source": [
    "erois_eff = erois(io=io_eff_simple)"
   ]
  },
  {
   "cell_type": "code",
   "execution_count": 13,
   "metadata": {},
   "outputs": [
    {
     "name": "stdout",
     "output_type": "stream",
     "text": [
      "EROI with supply from new_secondary sources at the denominator, unadjusted for growth\n",
      "wind -2.215991586285303\n",
      "PV 0.2749084480166534\n",
      "elec_coal -0.6044717918558529\n",
      "elec_oil 0.090829863891826\n",
      "elec_gas 0.41862579213479845\n",
      "elec_nuclear -2.3851434063931984\n",
      "hydro 14.475000560371617\n",
      "nuclear_fuel 4.539805657969579\n",
      "coal -7.4908577392732205\n",
      "gas_extraction 3.1713377507143634\n",
      "oil_extraction 0.22546629748996824\n"
     ]
    }
   ],
   "source": [
    "erois_eff = erois(io=io_eff) \n",
    "# /!\\ Some negative EROI because there are negative coeffs in L (contrarily to exio2p.L), which itself comes from negative coeffs in exio2p.Z"
   ]
  },
  {
   "cell_type": "code",
   "execution_count": 42,
   "metadata": {},
   "outputs": [],
   "source": [
    "io_y_simple = IOchange(exio2p, 'y')"
   ]
  },
  {
   "cell_type": "code",
   "execution_count": 30,
   "metadata": {},
   "outputs": [],
   "source": [
    "io_y = IOchange(exio2p, 'y', rates_y)"
   ]
  },
  {
   "cell_type": "code",
   "execution_count": 43,
   "metadata": {},
   "outputs": [
    {
     "name": "stdout",
     "output_type": "stream",
     "text": [
      "EROI with supply from new_secondary sources at the denominator, unadjusted for growth\n",
      "wind 24.375001495338505\n",
      "PV 2.6542498185772936\n",
      "elec_coal 4.961891617288761\n",
      "elec_oil 1.8008290417565302\n",
      "elec_gas 3.590749572917854\n",
      "elec_nuclear 267.6629122538152\n",
      "hydro 5.51396117246825\n",
      "nuclear_fuel 60.97404586789239\n",
      "coal 61.452745464565254\n",
      "gas_extraction 50.90363919230904\n",
      "oil_extraction 25.14301283215437\n"
     ]
    }
   ],
   "source": [
    "erois_y = erois(io=io_y_simple)"
   ]
  },
  {
   "cell_type": "code",
   "execution_count": 117,
   "metadata": {},
   "outputs": [
    {
     "data": {
      "text/plain": [
       "9.686362930053411"
      ]
     },
     "execution_count": 117,
     "metadata": {},
     "output_type": "execute_result"
    }
   ],
   "source": [
    "## EROIS\n",
    "# primary, supply, external, elec (Netting energy_fuel for...). BENCHMARK. Low elec_oil, hydro, elec_nuclear and to a lesser extent elec_coal and elec_gas.\n",
    "# primary, supply, internal, elec. Low for hydrocarbon; for the rest, similar to external=True\n",
    "# primary, supply, internal, all. :) Higher for fuels. Seems good\n",
    "# primary, supply, external, all. /!\\ Negative values for coal and gas_extr.\n",
    "# primary, supply, external, none. /!\\ Values < 1 for elec_hydrocarbon.\n",
    "# primary, supply, internal, none. /!\\ Values < 1 for elec_hydrocarbon.\n",
    "# new_secondary, supply, external, none. /!\\ elec_oil = 1, Negative values for  hydrocarbon.\n",
    "# new_secondary, supply, internal, none. /!\\ elec_oil = 1. Rest is ok but elec_hydrocarbon = renewable.\n",
    "# new_secondary, supply, internal, all. /!\\ Negative values for elec_hydrocarbon, PV and hydrcarbon. wind=84\n",
    "# new_secondary, supply, external, all. /!\\ Negative values for elec_hydrocarbon, PV and hydrcarbon. wind=92\n",
    "# new_secondary, supply, internal, none, netting_fuel. :) Low values for hydro, rest conform with Hall et al. 2014\n",
    "# new_secondary, use, internal, none, netting_fuel. Low values for elec_hydrocarbon, especially elec_oil (4)\n",
    "# new_secondary, use, internal, none, no netting_fuel. /!\\ Low values for elec_hydrocarbon, especially elec_oil (1)\n",
    "# erois(source='new_secondary')\n",
    "eroi(new_secondary_energy_sectors)"
   ]
  },
  {
   "cell_type": "code",
   "execution_count": 82,
   "metadata": {},
   "outputs": [],
   "source": [
    "exio2p_true = exio2p\n",
    "exio2p = cleaner()"
   ]
  },
  {
   "cell_type": "code",
   "execution_count": 87,
   "metadata": {},
   "outputs": [],
   "source": [
    "exio2p = exio2p_true"
   ]
  },
  {
   "cell_type": "code",
   "execution_count": 86,
   "metadata": {},
   "outputs": [],
   "source": [
    "cleaner_exio = exio2p"
   ]
  },
  {
   "cell_type": "code",
   "execution_count": 151,
   "metadata": {},
   "outputs": [
    {
     "ename": "NameError",
     "evalue": "name 'cleaner_exio' is not defined",
     "output_type": "error",
     "traceback": [
      "\u001b[0;31m---------------------------------------------------------------------------\u001b[0m",
      "\u001b[0;31mNameError\u001b[0m                                 Traceback (most recent call last)",
      "\u001b[0;32m<ipython-input-151-8d14f82668eb>\u001b[0m in \u001b[0;36m<module>\u001b[0;34m()\u001b[0m\n\u001b[0;32m----> 1\u001b[0;31m \u001b[0mexio2p\u001b[0m \u001b[0;34m=\u001b[0m \u001b[0mcleaner_exio\u001b[0m\u001b[0;34m\u001b[0m\u001b[0m\n\u001b[0m",
      "\u001b[0;31mNameError\u001b[0m: name 'cleaner_exio' is not defined"
     ]
    }
   ],
   "source": [
    "exio2p = cleaner_exio"
   ]
  },
  {
   "cell_type": "code",
   "execution_count": 110,
   "metadata": {},
   "outputs": [
    {
     "name": "stdout",
     "output_type": "stream",
     "text": [
      "EROI with supply from new_secondary sources at the denominator, unadjusted for growth\n",
      "wind 14.256776829645599\n",
      "PV 9.980225308320374\n",
      "elec_coal 14.946645524909561\n",
      "elec_oil 6.1816758147694975\n",
      "elec_gas 13.569437319398288\n",
      "elec_nuclear 23.556439840069093\n",
      "hydro 16.777785590042914\n",
      "nuclear_fuel 115.16751169197461\n",
      "coal 68.2588985784022\n",
      "gas_extraction 61.201766638401516\n",
      "oil_extraction 28.251863529097964\n"
     ]
    }
   ],
   "source": [
    "eroi_original = erois() "
   ]
  },
  {
   "cell_type": "code",
   "execution_count": 113,
   "metadata": {},
   "outputs": [],
   "source": [
    "# impact(name_var('supply'), regions, sectors_source('elec_oil'))/impact(name_var('supply'), regions, sectors_source('elec_oil'))\n",
    "\n",
    "# impact(name_var('supply'), regions, sectors_source('elec_oil')).sum()*total_consumption(sectors_source('PV'))/(total_consumption(sectors_source('elec_oil'))*impact(name_var('supply'), regions, sectors_source('PV')).sum())\n",
    "# impact(name_var('supply'), regions, sectors_source('elec_oil')).sum()*total_consumption(sectors_source('wind'))/(total_consumption(sectors_source('elec_oil'))*impact(name_var('supply'), regions, sectors_source('wind')).sum())\n",
    "# np.array(impact(name_var('supply'), regions, sectors_source('elec_oil')))*total_consumption(sectors_source('PV'), add=False)/(np.array(total_consumption(sectors_source('elec_oil'), add=False))*impact(name_var('supply'), regions, sectors_source('PV')))\n",
    "# impact(name_var('supply'), regions, sectors_source('elec_oil')).sum()*exio2p.A.iloc[index_regs_secs(regions, sectors_source('wind'))].sum().sum()/(exio2p.A.iloc[index_regs_secs(regions, sectors_source('elec_oil'))].sum().sum()*impact(name_var('supply'), regions, sectors_source('wind')).sum())\n",
    "# np.array(impact(name_var('supply'), regions, sectors_source('elec_oil')))*exio2p.A.iloc[index_regs_secs(regions, sectors_source('PV'))].sum(axis=1)/(np.array(exio2p.A.iloc[index_regs_secs(regions, sectors_source('elec_oil'))].sum(axis=1))*impact(name_var('supply'), regions, sectors_source('PV')))"
   ]
  },
  {
   "cell_type": "code",
   "execution_count": 115,
   "metadata": {},
   "outputs": [
    {
     "name": "stdout",
     "output_type": "stream",
     "text": [
      "EROI with supply from new_secondary sources at the denominator, unadjusted for growth\n",
      "wind 14.256776829645599\n",
      "PV 9.980225308320374\n",
      "elec_coal 9.818768321534826\n",
      "elec_oil 1.0991550254781306\n",
      "elec_gas 11.638995940570664\n",
      "elec_nuclear 23.556439840069093\n",
      "hydro 16.777785590042914\n",
      "nuclear_fuel 115.16751169197461\n",
      "coal 68.2588985784022\n",
      "gas_extraction 61.201766638401516\n",
      "oil_extraction 28.251863529097964\n"
     ]
    }
   ],
   "source": [
    "erois_cleaner = erois() # from cleaner"
   ]
  },
  {
   "cell_type": "code",
   "execution_count": 56,
   "metadata": {},
   "outputs": [],
   "source": [
    "energy_cars_use = embodied_impact(secs=cars, notion='use').sum()\n",
    "energy_cars_supply = embodied_impact(secs=cars, notion='supply').sum()\n",
    "energy_cars_supply_primary = embodied_impact(secs=cars, notion='supply', source=sectors_source('primary')).sum()\n",
    "energy_cars_materials = embodied_impact(cars, source=materials_wo_energy, notion='supply').sum()\n",
    "energy_cars_materials_use = embodied_impact(cars, source=materials_wo_energy, notion='use').sum()\n",
    "energy_cars_materials_and_energy = embodied_impact(cars, source=materials_and_energy, notion='supply').sum()\n",
    "energy_cars_materials_and_energy_use = embodied_impact(cars, source=materials_and_energy, notion='use').sum()\n",
    "inputs_cars = inputs(secs=cars, var_impacts=['Total Energy supply', 'Total Energy Use'], nb_main=5, source='all', group_by='sector')"
   ]
  },
  {
   "cell_type": "code",
   "execution_count": 58,
   "metadata": {},
   "outputs": [
    {
     "data": {
      "text/plain": [
       "0.3181601073855192"
      ]
     },
     "execution_count": 58,
     "metadata": {},
     "output_type": "execute_result"
    },
    {
     "data": {
      "text/plain": [
       "0.18304779816738506"
      ]
     },
     "execution_count": 58,
     "metadata": {},
     "output_type": "execute_result"
    },
    {
     "data": {
      "text/plain": [
       "0.034788827787233995"
      ]
     },
     "execution_count": 58,
     "metadata": {},
     "output_type": "execute_result"
    },
    {
     "data": {
      "text/plain": [
       "0.2324369539937731"
      ]
     },
     "execution_count": 58,
     "metadata": {},
     "output_type": "execute_result"
    },
    {
     "data": {
      "text/plain": [
       "0.5882501592818407"
      ]
     },
     "execution_count": 58,
     "metadata": {},
     "output_type": "execute_result"
    },
    {
     "data": {
      "text/plain": [
       "1.0628568353516001"
      ]
     },
     "execution_count": 58,
     "metadata": {},
     "output_type": "execute_result"
    },
    {
     "data": {
      "text/plain": [
       "0.06285683535160035"
      ]
     },
     "execution_count": 58,
     "metadata": {},
     "output_type": "execute_result"
    }
   ],
   "source": [
    "energy_cars_materials_use/energy_cars_supply_primary # 0.32\n",
    "energy_cars_materials_use/energy_cars_use # 0.18 <- \n",
    "energy_cars_materials/energy_cars_supply # 0.035\n",
    "energy_cars_materials_and_energy_use/energy_cars_use # 0.23 <-\n",
    "energy_cars_materials_and_energy/energy_cars_supply # 0.59\n",
    "energy_cars_materials_and_energy/energy_cars_supply_primary # 1.06\n",
    "energy_cars_materials/energy_cars_supply_primary # 0.06"
   ]
  },
  {
   "cell_type": "code",
   "execution_count": 102,
   "metadata": {},
   "outputs": [],
   "source": [
    "import plotly\n",
    "import plotly.plotly  as py\n",
    "import plotly.graph_objs as go "
   ]
  },
  {
   "cell_type": "code",
   "execution_count": 99,
   "metadata": {},
   "outputs": [
    {
     "name": "stdout",
     "output_type": "stream",
     "text": [
      "Electricity by solar photovoltaic\n",
      "Electricity by wind\n",
      "Electricity by hydro\n",
      "Crude petroleum and services related to crude oil extraction, excluding surveying\n",
      "Electricity by petroleum and other oil derivatives\n"
     ]
    }
   ],
   "source": [
    "# embodied_impact(sectors_source('wind'), source=materials_wo_energy, notion='use').sum()/embodied_impact(secs=sectors_source('wind'), notion='use').sum() # 0.055\n",
    "# embodied_impact(sectors_source('wind'), source=materials_and_energy, notion='use').sum()/embodied_impact(secs=sectors_source('wind'), notion='use').sum() # 0.12\n",
    "# embodied_impact(sectors_source('wind'), source=materials_wo_energy, notion=name_var('warming')).sum()/embodied_impact(secs=sectors_source('wind'), notion=name_var('warming')).sum() # 0.086\n",
    "# embodied_impact(sectors_source('wind'), source=materials_and_energy, notion=name_var('warming')).sum()/embodied_impact(secs=sectors_source('wind'), notion=name_var('warming')).sum() # 0.16\n",
    "# embodied_impact('Office machinery and computers', source=materials_and_energy, notion='use').sum()/embodied_impact(secs='Office machinery and computers', notion='use').sum()\n",
    "# embodied_impact('Office machinery and computers', source=materials_and_energy, notion=name_var('warming')).sum()/embodied_impact(secs='Office machinery and computers', notion=name_var('warming')).sum()\n",
    "\n",
    "# Battery: Electrical machinery and apparatus n.e.c. (31) (cf. correspondence HS exiobase, 8507.. 'Storage Batteries', 3 first sheets)\n",
    "# composition_impacts_computer = composition_impacts('Office machinery and computers')\n",
    "# composition_impacts_battery = composition_impacts('Electrical machinery and apparatus n.e.c.')\n",
    "# composition_impacts_wind = composition_impacts(sectors_source('wind'))\n",
    "# composition_impacts_cars = composition_impacts(cars[0])\n",
    "# composition_impacts_products_dict = {'car': composition_impacts(cars[0], sort=False), 'wind': composition_impacts(sectors_source('wind'), sort=False), 'battery': composition_impacts('Electrical machinery and apparatus n.e.c.', sort=False), 'computer': composition_impacts('Office machinery and computers', sort=False)}\n",
    "composition_impacts_products_dict = {'PV': composition_impacts(sectors_source('PV'), sort=False), 'wind': composition_impacts(sectors_source('wind'), sort=False), 'hydro': composition_impacts(sectors_source('hydro'), sort=False), 'oil': composition_impacts(sectors_source('oil'), sort=False), 'elec_oil': composition_impacts(sectors_source('elec_oil'), sort=False)}"
   ]
  },
  {
   "cell_type": "code",
   "execution_count": 106,
   "metadata": {},
   "outputs": [
    {
     "data": {
      "text/html": [
       "<iframe id=\"igraph\" scrolling=\"no\" style=\"border:none;\" seamless=\"seamless\" src=\"https://plot.ly/~fabre.adri1/42.embed\" height=\"525px\" width=\"100%\"></iframe>"
      ],
      "text/plain": [
       "<plotly.tools.PlotlyDisplay object>"
      ]
     },
     "execution_count": 106,
     "metadata": {},
     "output_type": "execute_result"
    },
    {
     "data": {
      "text/html": [
       "<iframe id=\"igraph\" scrolling=\"no\" style=\"border:none;\" seamless=\"seamless\" src=\"https://plot.ly/~fabre.adri1/44.embed\" height=\"525px\" width=\"100%\"></iframe>"
      ],
      "text/plain": [
       "<plotly.tools.PlotlyDisplay object>"
      ]
     },
     "execution_count": 106,
     "metadata": {},
     "output_type": "execute_result"
    },
    {
     "data": {
      "text/html": [
       "<iframe id=\"igraph\" scrolling=\"no\" style=\"border:none;\" seamless=\"seamless\" src=\"https://plot.ly/~fabre.adri1/46.embed\" height=\"525px\" width=\"100%\"></iframe>"
      ],
      "text/plain": [
       "<plotly.tools.PlotlyDisplay object>"
      ]
     },
     "execution_count": 106,
     "metadata": {},
     "output_type": "execute_result"
    }
   ],
   "source": [
    "products = ['PV', 'wind', 'hydro', 'oil', 'elec_oil'] # ['car', 'wind', 'battery', 'computer']\n",
    "N = len(products)\n",
    "compositions_impacts_products = {}\n",
    "x = np.linspace(1, N, N)\n",
    "for impact in ['warming', 'use', 'supply']:\n",
    "    compositions_impacts_products[impact] = {}\n",
    "    for impact_sec in recomposition_sectors:\n",
    "        compositions_impacts_products[impact][impact_sec] = []\n",
    "        for sec in products:\n",
    "            compositions_impacts_products[impact][impact_sec].append(composition_impacts_products_dict[sec][name_var(impact)][impact_sec])\n",
    "\n",
    "data_impacts_use = []\n",
    "data_impacts_supply = []\n",
    "data_impacts_warming = []\n",
    "for secs in recomposition_sectors:\n",
    "    data_impacts_use.append(go.Bar(x = compositions_impacts_products['use'][secs], y=products, orientation='h', name=secs))\n",
    "    data_impacts_supply.append(go.Bar(x = compositions_impacts_products['supply'][secs], y=products, orientation='h', name=secs))\n",
    "    data_impacts_warming.append(go.Bar(x = compositions_impacts_products['warming'][secs], y=products, orientation='h', name=secs))\n",
    "\n",
    "layout_use = go.Layout( barmode='stack', title='Embodied Energy of Different Products by Sector of Energy Use', xaxis = {'showticklabels': False})\n",
    "layout_supply = go.Layout( barmode='stack', title='Embodied Energy of Different Products by Sector of Energy Supply', xaxis = {'showticklabels': False})\n",
    "layout_warming = go.Layout( barmode='stack', title='Embodied Emissions of Different Products by Sector of Emissions', xaxis = {'showticklabels': False})\n",
    "fig_use = go.Figure(data=data_impacts_use, layout=layout_use)\n",
    "fig_supply = go.Figure(data=data_impacts_supply, layout=layout_supply)\n",
    "fig_warming = go.Figure(data=data_impacts_warming, layout=layout_warming)\n",
    "\n",
    "py.iplot(fig_use)\n",
    "py.iplot(fig_supply)\n",
    "py.iplot(fig_warming)\n",
    "# py.image.save_as(fig_use, filename='embodied_energy_decomposition.png')\n",
    "# py.image.save_as(fig_warming, filename='embodied_warming_decomposition.png')\n",
    "\n",
    "# url = py.plot(data_impacts_use, filename='pandas-bar-chart-layout')"
   ]
  },
  {
   "cell_type": "code",
   "execution_count": 44,
   "metadata": {},
   "outputs": [
    {
     "ename": "TypeError",
     "evalue": "'list' object is not callable",
     "output_type": "error",
     "traceback": [
      "\u001b[0;31m---------------------------------------------------------------------------\u001b[0m",
      "\u001b[0;31mTypeError\u001b[0m                                 Traceback (most recent call last)",
      "\u001b[0;32m<ipython-input-44-4313336db287>\u001b[0m in \u001b[0;36m<module>\u001b[0;34m()\u001b[0m\n\u001b[0;32m----> 1\u001b[0;31m \u001b[0merois\u001b[0m \u001b[0;34m=\u001b[0m \u001b[0merois\u001b[0m\u001b[0;34m(\u001b[0m\u001b[0mnotion\u001b[0m\u001b[0;34m=\u001b[0m\u001b[0;34m'use'\u001b[0m\u001b[0;34m,\u001b[0m \u001b[0msource\u001b[0m\u001b[0;34m=\u001b[0m\u001b[0;34m'new_secondary'\u001b[0m\u001b[0;34m)\u001b[0m\u001b[0;34m\u001b[0m\u001b[0m\n\u001b[0m",
      "\u001b[0;31mTypeError\u001b[0m: 'list' object is not callable"
     ]
    }
   ],
   "source": [
    "erois = erois(notion='use', source='new_secondary')"
   ]
  },
  {
   "cell_type": "code",
   "execution_count": 18,
   "metadata": {},
   "outputs": [],
   "source": [
    "# EROI of hydro is too low, because a byproduct of uranium is hydro, so embodied energy is overestimated:\n",
    "inputs_hydro = inputs(secs='Electricity by hydro', var_impacts=['Total Energy supply', 'Total Energy Use'], nb_main=2, source='all', group_by='sector')\n",
    "# supply_hydro = energy_supply_secs('Electricity by hydro').sum()\n",
    "# embodied_hydro = embodied_impact('Electricity by hydro').sum()\n",
    "# internal_energy(secs='Electricity by hydro')\n",
    "# supply_hydro\n",
    "# embodied_hydro\n",
    "inputs_hydro\n",
    "outputs('Uranium and thorium ores', nb_main=20)"
   ]
  },
  {
   "cell_type": "code",
   "execution_count": 39,
   "metadata": {},
   "outputs": [],
   "source": [
    "## CORRECT EROI FOR GROWTH OF SECTOR\n",
    "# Two effects: 1. With constant current production, if production lifetime ago was below, the replacement is below what would be needed in \n",
    "#   a steady-state => over-estimation of the EROI of conventional energies ; 2. With growing capacity, inputs used now will produce more \n",
    "#   than current capacity => under-estimation of the EROI of renewables. (For nuclear, don't know the direction of the bias).\n",
    "# Pb: the same effects work also higher in the value chain, as capital and intermediary inputs are not distinguished in the IOT.\n",
    "# To correct the bias: find the prod capacity being built in 2007. 1. For conventionals, can be done by looking at production 'lifetime' ago\n",
    "#    2. For renewables, can be done by looking at the production 'construction duration' years after,\n",
    "#   Then multiply the EROI by the ratio of production capacity being built over current production.\n",
    "# 1.a Lifetimes from LiVES: combustion furnaces: 20 yrs; Other general industrial machinery and equipment: 16 y; Other industrial heavy electrical equipment: 22y;\n",
    "#      Other electric systems: 16y; Oil/gas tank facilities and pipelines: 30y\n",
    "# 1.b    from Neumeyer and Goldston 2016 (nose-guess): 40y for coal, gas and nuclear, 70 for hydro\n",
    "# 1.c    from Weissbach 2013 (sourced): 50y for coal, 35 for gas, 60 for nuclear, 100 for hydro\n",
    "# 2.a Construction duration incl. network junction  for wind: 1-2 yrs renewablesfirst.co.uk/windpower/windpower-learning-centre/how-long-will-the-whole-project-take/\n",
    "#         http://www.futuren-group.com/en/lenergie-eolienne/realisation-dun-projet-eolien\n",
    "# 2.b PV: less than 1 year https://www.nrel.gov/docs/fy15osti/63556.pdf\n",
    "# For nuclear, 2007 construction probably below the replacement of current production \n",
    "#     https://www.economist.com/graphic-detail/2017/01/30/construction-of-most-nuclear-power-reactors-is-behind-schedule\n",
    "# ADJUSTED EROIS: (coal: 28; gas: 8.5; oil: 9; hydro: 5;) PV: 8; wind: 15-18\n",
    "# /!\\ The adjustment is valid iff the main energy use in the process takes place during the construction. It may be likely for renewables but not for conventionals,\n",
    "#      also considering that EROI is decreasing for hydrocarbons, so current inputs for future prod may use as much energy as past inputs for current prod, even if\n",
    "#      there is less construction than before.\n",
    "\n",
    "# Energy supply roughly corresponds to BP statistical review figures:\n",
    "impact(name_var('supply'), secs=sectors_source('oil'), join_sort=True)\n",
    "538329/3600 # wind 150 TWh / BP: 170.8 (2008: 219.1, 2009: 277.9)\n",
    "29751/3600 # PV 8 TWh / BP: 7.7 (2008: 12.6, 2009: 20.9)\n",
    "9588615/3600 # hydro 2663 / BP: 3083.7 (1965: 920, 1970: 1175, 2008: 3267.1, 2009: 3255.7)\n",
    "8975453/3600 # nuclear 2493 Twh / BP: 2746.5 (1970: 78.5, 1975: 433, 2008: 2737.9, 2009: 2712)\n",
    "# coal 3607 Mtoe/ BP: 3480.2 (1965: 1404, 1670: 1483, 2008: 3528.4, 2009: 3476.1)  (107671926+16014799+15240445+3834569+3284409+2925042+1754264+302747)*2.3885e-5\n",
    "96017879*2.3885e-5 # gas 2293 Mtoe / BP: 2678.1 (1970: 890, 2008: 2748, 2009: 2675.5)\n",
    "151126662*2.3885e-5 # oil 3609 Mtoe / BP: 4041.9 (1970: 2253, 2008: 4025.3 2009: 3955.7) TJ to Mtoe: 2.3885e-5"
   ]
  },
  {
   "cell_type": "code",
   "execution_count": 39,
   "metadata": {},
   "outputs": [
    {
     "name": "stdout",
     "output_type": "stream",
     "text": [
      "wind 30.480752573691596\n",
      "PV 68.8832077150898\n",
      "elec_coal 1174.4829181445623\n",
      "elec_oil 1362.733065524232\n",
      "elec_gas 574.6477998318264\n",
      "elec_nuclear 19.863111107694255\n",
      "hydro 22.258275443986204\n",
      "nuclear_fuel 4.078841944535932\n",
      "coal 40.32840474315982\n",
      "gas_extraction 20.98218515314647\n",
      "oil_extraction 61.92092190243558\n"
     ]
    }
   ],
   "source": [
    "MWh2TJ = 0.0036 # to have results of EMISSIONS PER ENERGY SOURCE in kg CO2eq / MWh\n",
    "for s in sources: \n",
    "    print(s, MWh2TJ*embodied_impact(sectors_source(s), notion='warming', exclusive = False).sum()/impact(name_var('supply'), secs=sectors_source(s)).sum())"
   ]
  },
  {
   "cell_type": "code",
   "execution_count": 44,
   "metadata": {},
   "outputs": [
    {
     "data": {
      "text/plain": [
       "18.478823529411766"
      ]
     },
     "execution_count": 44,
     "metadata": {},
     "output_type": "execute_result"
    }
   ],
   "source": [
    "## NOTES CECILIA:\n",
    "\n",
    "# Weird/Questions:\n",
    "# - Dans scenarios/electricitymixchange, à la ligne ~90, est-ce normal de ne pas ajuster pour les autres secteurs (est-ce fait ailleurs) ?\n",
    "# - line 89 of step_2b/emissions_modifiers, pourquoi -0.8 ? est-ce que ça devrait pas être 0.2 ?\n",
    "\n",
    "# Steps:\n",
    "# ✓ run everything to check results are the same (and tests pass)\n",
    "# ✓ compute EROIs: in octave (from SUT) or in ipython (calculate IOT from SUT) => impossible from Cecilia at the moment because lack of PV !\n",
    "# - find scenarios and assumptions\n",
    "# - adapt Cecilia to Exiobase 2 (ou 3)\n",
    "# - change step_2a/mix.txt, step_2b/technological_change.txt (done in CeciliaEurope...ods), step_2b/emission_modifiers.txt, step_3/consumption_change.txt\n",
    "# - run Cecilia, export and compute EROIs"
   ]
  },
  {
   "cell_type": "code",
   "execution_count": 43,
   "metadata": {},
   "outputs": [
    {
     "data": {
      "text/plain": [
       "array(['Other Hydrocarbons', 'Copper ores and concentrates',\n",
       "       'Chemical and fertilizer minerals, salt and other mining and quarrying products n.e.c.',\n",
       "       'products of Vegetable oils and fats', 'Fish products', 'Pulp',\n",
       "       'Coke Oven Coke', 'Gas Coke', 'Coal Tar', 'Motor Gasoline',\n",
       "       'Aviation Gasoline', 'Gasoline Type Jet Fuel',\n",
       "       'Kerosene Type Jet Fuel', 'Kerosene', 'Gas/Diesel Oil',\n",
       "       'Heavy Fuel Oil', 'Refinery Gas',\n",
       "       'Liquefied Petroleum Gases (LPG)', 'Refinery Feedstocks', 'Ethane',\n",
       "       'Naphtha', 'White Spirit & SBP', 'Lubricants', 'Bitumen',\n",
       "       'Paraffin Waxes', 'Petroleum Coke',\n",
       "       'Non-specified Petroleum Products', 'Nuclear fuel',\n",
       "       'Chemicals nec', 'Charcoal', 'Additives/Blending Components',\n",
       "       'Biodiesels', 'Other Liquid Biofuels',\n",
       "       'Machinery and equipment n.e.c.', 'Electricity nec',\n",
       "       'Transmission services of electricity',\n",
       "       'Distribution and trade services of electricity',\n",
       "       'Steam and hot water supply services',\n",
       "       'Wood waste for treatment: incineration',\n",
       "       'Oil/hazardous waste for treatment: incineration',\n",
       "       'Sewage sludge for treatment: biogasification and land application',\n",
       "       'Food waste for treatment: waste water treatment',\n",
       "       'Other waste for treatment: waste water treatment'], dtype=object)"
      ]
     },
     "execution_count": 43,
     "metadata": {},
     "output_type": "execute_result"
    }
   ],
   "source": [
    "## NOTES EROI:\n",
    "# Mon calcul actuel de l'EROI pose problème car il repose sur l'énergie primaire (=fuels), dont on veut se débarasser.\n",
    "#   On pourrait changer la méthode, et utiliser energy_use plutôt que supply. Mais alors, il faut exclure les fuels, ou (pour le faire méthodiquement),\n",
    "#   ne pas tenir compte de l'energy_use des secteurs pour lesquels 2*supply > use > supply/2\n",
    "sectors[[impact(name_var('use'), secs=sec).sum()>impact(name_var('supply'), secs=sec).sum()/2 and \n",
    "                 2*impact(name_var('supply'), secs=sec).sum()>impact(name_var('use'), secs=sec).sum() for sec in sectors]]"
   ]
  },
  {
   "cell_type": "code",
   "execution_count": 3,
   "metadata": {},
   "outputs": [],
   "source": [
    "import numpy as np\n",
    "a = np.array([[0,0],[1,1],[2,2]])\n",
    "b, c = a.shape"
   ]
  },
  {
   "cell_type": "code",
   "execution_count": 2,
   "metadata": {},
   "outputs": [],
   "source": [
    "import sympy as sym\n",
    "from pylab import *\n",
    "sym.init_printing()"
   ]
  },
  {
   "cell_type": "code",
   "execution_count": 82,
   "metadata": {},
   "outputs": [
    {
     "data": {
      "image/png": "[encoded data removed]",
      "text/latex": [
       "$$\\left[\\begin{matrix}0 & 0 & 0 & pv\\\\0 & 0 & 0 & - pv + 1\\\\0.7 & 0.1 & 0.2 & 0\\\\0.1 & 0.1 & 0.5 & 0\\end{matrix}\\right]$$"
      ],
      "text/plain": [
       "⎡ 0    0    0     pv   ⎤\n",
       "⎢                      ⎥\n",
       "⎢ 0    0    0   -pv + 1⎥\n",
       "⎢                      ⎥\n",
       "⎢0.7  0.1  0.2     0   ⎥\n",
       "⎢                      ⎥\n",
       "⎣0.1  0.1  0.5     0   ⎦"
      ]
     },
     "execution_count": 82,
     "metadata": {},
     "output_type": "execute_result"
    },
    {
     "data": {
      "image/png": "[encoded data removed]",
      "text/latex": [
       "$$\\frac{- 0.3 pv + 0.67}{0.3 pv + 0.13}$$"
      ],
      "text/plain": [
       "-0.3⋅pv + 0.67\n",
       "──────────────\n",
       "0.3⋅pv + 0.13 "
      ]
     },
     "execution_count": 82,
     "metadata": {},
     "output_type": "execute_result"
    },
    {
     "data": {
      "image/png": "[encoded data removed]",
      "text/latex": [
       "$$- 0.697674418604651 pv + 1.55813953488372$$"
      ],
      "text/plain": [
       "-0.697674418604651⋅pv + 1.55813953488372"
      ]
     },
     "execution_count": 82,
     "metadata": {},
     "output_type": "execute_result"
    },
    {
     "data": {
      "image/png": "[encoded data removed]",
      "text/latex": [
       "$$- 2.30769230769231 pv + 5.15384615384615$$"
      ],
      "text/plain": [
       "-2.30769230769231⋅pv + 5.15384615384615"
      ]
     },
     "execution_count": 82,
     "metadata": {},
     "output_type": "execute_result"
    }
   ],
   "source": [
    "p = sym.symbols('p') # proportion of PV in energy mix\n",
    "# m_pv (resp. m_oil) units of materials required for 1 kWh from PV (resp. oil)\n",
    "m_pv, m_oil = 0.7, 0.1 # \n",
    "m_pv, m_oil, m_e, e_pv, e_oil, e_e = sym.symbols('m_pv m_oil m_e e_pv e_oil e_e') \n",
    "unit_energy_output = sym.Matrix([0, 0, 0, 1])\n",
    "energy_mix = [p, 1-p] # proportion of [PV, oil]\n",
    "A = sym.Matrix([[0, 0, 0, p], [0, 0, 0, 1-p], [0.7, 0.1, 0.2, 0], [0.1, 0.1, 0.5, 0]]) # order of ligns/columns: PV, oil, materials, energy\n",
    "# A = sym.Matrix([[0, 0, 0, pv], [0, 0, 0, 1-pv], [m_pv, m_oil, m_e, 0], [e_pv, e_oil, e_e, 0]]) # order of ligns/columns: PV, oil, materials, energy\n",
    "A\n",
    "# A = sym.Matrix([[0, 0, m_pv, 0.1], [0, 0, m_oil, 0.1], [0, 0, 0.2, 0.5], energy_mix + [0, 0]]) # order of ligns/columns: PV, oil, materials, energy\n",
    "L = sym.eye(4)-A # sym.Matrix(3,3,[1, -m, -1, 0, 0.8, -1, -e, 0, 1])\n",
    "Linv = L.inv()\n",
    "EROI = sym.simplify(1/unit_energy_output.transpose().dot((Linv-sym.eye(4)).dot(unit_energy_output)))\n",
    "EROIpv = sym.simplify(1/unit_energy_output.transpose().dot((Linv-sym.eye(4)).dot(sym.Matrix([1, 0, 0, 0]))))\n",
    "EROIoil = sym.simplify(1/unit_energy_output.transpose().dot((Linv-sym.eye(4)).dot(sym.Matrix([0, 1, 0, 0]))))\n",
    "EROI\n",
    "EROIpv\n",
    "EROIoil\n",
    "# [round(EROI.subs(pv, PV),1) for PV in [0, 0.3, 0.7, 0.9, 1]]"
   ]
  },
  {
   "cell_type": "code",
   "execution_count": 85,
   "metadata": {},
   "outputs": [
    {
     "data": {
      "text/plain": [
       "[<matplotlib.lines.Line2D at 0x7fabdbcc02b0>]"
      ]
     },
     "execution_count": 85,
     "metadata": {},
     "output_type": "execute_result"
    },
    {
     "data": {
      "text/plain": [
       "[<matplotlib.lines.Line2D at 0x7fabdbb98630>]"
      ]
     },
     "execution_count": 85,
     "metadata": {},
     "output_type": "execute_result"
    },
    {
     "data": {
      "text/plain": [
       "[<matplotlib.lines.Line2D at 0x7fabdbbed978>]"
      ]
     },
     "execution_count": 85,
     "metadata": {},
     "output_type": "execute_result"
    },
    {
     "data": {
      "text/plain": [
       "Text(0.5,0,'Share of PV in the energy mix')"
      ]
     },
     "execution_count": 85,
     "metadata": {},
     "output_type": "execute_result"
    },
    {
     "data": {
      "text/plain": [
       "Text(0,0.5,'EROI')"
      ]
     },
     "execution_count": 85,
     "metadata": {},
     "output_type": "execute_result"
    },
    {
     "data": {
      "text/plain": [
       "<matplotlib.legend.Legend at 0x7fabdbb9ea90>"
      ]
     },
     "execution_count": 85,
     "metadata": {},
     "output_type": "execute_result"
    },
    {
     "data": {
      "image/png": "[encoded data removed]",
      "text/plain": [
       "<matplotlib.figure.Figure at 0x7fabdbcc0320>"
      ]
     },
     "metadata": {},
     "output_type": "display_data"
    }
   ],
   "source": [
    "x = np.array(range(21))/20\n",
    "fig, ax = subplots()\n",
    "\n",
    "ax.plot(x, [EROI.subs(pv, PV) for PV in x], label=\"System-wide EROI\")\n",
    "ax.plot(x, [EROIpv.subs(pv, PV) for PV in x], linestyle='dashed', label=\"EROI of PV\")\n",
    "ax.plot(x, [EROIoil.subs(pv, PV) for PV in x], linestyle='dotted', label=\"EROI of gas\")\n",
    "ax.set_xlabel('Share of PV in the energy mix')\n",
    "ax.set_ylabel('EROI')\n",
    "# ax.set_title('EROIs for different energy mixes')\n",
    "ax.legend(loc=1)\n",
    "ax.grid(color='g', alpha=0.5, linestyle='dotted', linewidth=0.5)\n",
    "fig.savefig('EROIs for different energy mixes - gas 2.png', dpi=200)"
   ]
  },
  {
   "cell_type": "code",
   "execution_count": 38,
   "metadata": {},
   "outputs": [
    {
     "data": {
      "image/png": "[encoded data removed]",
      "text/latex": [
       "$$\\left [ 2.63636363636364, \\quad 1.85714285714286\\right ]$$"
      ],
      "text/plain": [
       "[2.63636363636364, 1.85714285714286]"
      ]
     },
     "execution_count": 38,
     "metadata": {},
     "output_type": "execute_result"
    }
   ],
   "source": [
    "[EROI.subs(pv, PV) for PV in ]"
   ]
  },
  {
   "cell_type": "code",
   "execution_count": 50,
   "metadata": {},
   "outputs": [
    {
     "data": {
      "image/png": "[encoded data removed]",
      "text/latex": [
       "$$\\left [ 1.6, \\quad 1.3, \\quad 1.1, \\quad 0.9, \\quad 0.9\\right ]$$"
      ],
      "text/plain": [
       "[1.6, 1.3, 1.1, 0.9, 0.9]"
      ]
     },
     "execution_count": 50,
     "metadata": {},
     "output_type": "execute_result"
    },
    {
     "data": {
      "image/png": "[encoded data removed]",
      "text/latex": [
       "$$\\left [ 5.2, \\quad 4.5, \\quad 3.5, \\quad 3.1, \\quad 2.8\\right ]$$"
      ],
      "text/plain": [
       "[5.2, 4.5, 3.5, 3.1, 2.8]"
      ]
     },
     "execution_count": 50,
     "metadata": {},
     "output_type": "execute_result"
    },
    {
     "data": {
      "image/png": "[encoded data removed]",
      "text/latex": [
       "$$\\left [ 5.2, \\quad 2.6, \\quad 1.4, \\quad 1.0, \\quad 0.9\\right ]$$"
      ],
      "text/plain": [
       "[5.2, 2.6, 1.4, 1.0, 0.9]"
      ]
     },
     "execution_count": 50,
     "metadata": {},
     "output_type": "execute_result"
    },
    {
     "data": {
      "image/png": "[encoded data removed]",
      "text/latex": [
       "$$- 0.697674418604651 pv + 1.55813953488372$$"
      ],
      "text/plain": [
       "-0.697674418604651⋅pv + 1.55813953488372"
      ]
     },
     "execution_count": 50,
     "metadata": {},
     "output_type": "execute_result"
    },
    {
     "data": {
      "image/png": "[encoded data removed]",
      "text/latex": [
       "$$- 2.30769230769231 pv + 5.15384615384615$$"
      ],
      "text/plain": [
       "-2.30769230769231⋅pv + 5.15384615384615"
      ]
     },
     "execution_count": 50,
     "metadata": {},
     "output_type": "execute_result"
    }
   ],
   "source": [
    "# EROIpv = sym.simplify(1/sym.Matrix([1, 0, 0, 0]).transpose().dot((Linv-sym.eye(4)).dot(unit_energy_output)))\n",
    "# EROIoil = sym.simplify(1/sym.Matrix([0, 1, 0, 0]).transpose().dot((Linv-sym.eye(4)).dot(unit_energy_output)))\n",
    "EROIpv = sym.simplify(1/unit_energy_output.transpose().dot((Linv-sym.eye(4)).dot(sym.Matrix([1, 0, 0, 0]))))\n",
    "EROIoil = sym.simplify(1/unit_energy_output.transpose().dot((Linv-sym.eye(4)).dot(sym.Matrix([0, 1, 0, 0]))))\n",
    "[round(EROIpv.subs(pv, PV),1) for PV in [0, 0.3, 0.7, 0.9, 1]]\n",
    "[round(EROIoil.subs(pv, PV),1) for PV in [0, 0.3, 0.7, 0.9, 1]]\n",
    "[round(EROI.subs(pv, PV),1) for PV in [0, 0.3, 0.7, 0.9, 1]]\n",
    "EROIpv\n",
    "EROIoil\n",
    "# [round(EROIpv.subs(pv, PV),1) for PV in [0.1, 0.9]]\n",
    "# [round(EROIoil.subs(pv, PV),1) for PV in [0.1, 0.9]]\n",
    "# [round(EROI.subs(pv, PV),1) for PV in [0.1, 0.9]]"
   ]
  },
  {
   "cell_type": "code",
   "execution_count": 5,
   "metadata": {},
   "outputs": [
    {
     "data": {
      "image/png": "[encoded data removed]",
      "text/latex": [
       "$$0.86046511627907$$"
      ],
      "text/plain": [
       "0.860465116279070"
      ]
     },
     "execution_count": 5,
     "metadata": {},
     "output_type": "execute_result"
    },
    {
     "data": {
      "image/png": "[encoded data removed]",
      "text/latex": [
       "$$0.737358715050565$$"
      ],
      "text/plain": [
       "0.737358715050565"
      ]
     },
     "execution_count": 5,
     "metadata": {},
     "output_type": "execute_result"
    },
    {
     "data": {
      "image/png": "[encoded data removed]",
      "text/latex": [
       "$$2.10587388749983$$"
      ],
      "text/plain": [
       "2.10587388749983"
      ]
     },
     "execution_count": 5,
     "metadata": {},
     "output_type": "execute_result"
    },
    {
     "data": {
      "image/png": "[encoded data removed]",
      "text/latex": [
       "$$1.85714285714286$$"
      ],
      "text/plain": [
       "1.85714285714286"
      ]
     },
     "execution_count": 5,
     "metadata": {},
     "output_type": "execute_result"
    },
    {
     "data": {
      "image/png": "[encoded data removed]",
      "text/latex": [
       "$$\\left[\\begin{matrix}- \\frac{0.43 pv}{0.3 pv - 0.67} & - \\frac{0.13 pv}{0.3 pv - 0.67} & - \\frac{0.5 pv}{0.3 pv - 0.67} & - \\frac{0.8 pv}{0.3 pv - 0.67}\\\\\\frac{0.43 \\left(pv - 1\\right)}{0.3 pv - 0.67} & \\frac{0.13 \\left(pv - 1\\right)}{0.3 pv - 0.67} & \\frac{0.5 \\left(pv - 1\\right)}{0.3 pv - 0.67} & \\frac{0.8 \\left(pv - 1\\right)}{0.3 pv - 0.67}\\\\- \\frac{0.048 pv + 0.512}{0.24 pv - 0.536} & - \\frac{0.048 pv + 0.08}{0.24 pv - 0.536} & - \\frac{0.24 pv + 0.184}{0.24 pv - 0.536} & - \\frac{0.48 pv + 0.08}{0.24 pv - 0.536}\\\\- \\frac{0.43}{0.3 pv - 0.67} & - \\frac{0.13}{0.3 pv - 0.67} & - \\frac{0.5}{0.3 pv - 0.67} & - \\frac{0.3 pv + 0.13}{0.3 pv - 0.67}\\end{matrix}\\right]$$"
      ],
      "text/plain": [
       "⎡     -0.43⋅pv              -0.13⋅pv              -0.5⋅pv             -0.8⋅pv \n",
       "⎢   ─────────────         ─────────────        ─────────────       ───────────\n",
       "⎢   0.3⋅pv - 0.67         0.3⋅pv - 0.67        0.3⋅pv - 0.67       0.3⋅pv - 0.\n",
       "⎢                                                                             \n",
       "⎢   0.43⋅(pv - 1)         0.13⋅(pv - 1)         0.5⋅(pv - 1)        0.8⋅(pv - \n",
       "⎢   ─────────────         ─────────────        ─────────────       ───────────\n",
       "⎢   0.3⋅pv - 0.67         0.3⋅pv - 0.67        0.3⋅pv - 0.67       0.3⋅pv - 0.\n",
       "⎢                                                                             \n",
       "⎢-(0.048⋅pv + 0.512)   -(0.048⋅pv + 0.08)   -(0.24⋅pv + 0.184)   -(0.48⋅pv + 0\n",
       "⎢────────────────────  ───────────────────  ───────────────────  ─────────────\n",
       "⎢  0.24⋅pv - 0.536       0.24⋅pv - 0.536      0.24⋅pv - 0.536     0.24⋅pv - 0.\n",
       "⎢                                                                             \n",
       "⎢       -0.43                 -0.13                -0.5          -(0.3⋅pv + 0.\n",
       "⎢   ─────────────         ─────────────        ─────────────     ─────────────\n",
       "⎣   0.3⋅pv - 0.67         0.3⋅pv - 0.67        0.3⋅pv - 0.67       0.3⋅pv - 0.\n",
       "\n",
       "     ⎤\n",
       "──   ⎥\n",
       "67   ⎥\n",
       "     ⎥\n",
       "1)   ⎥\n",
       "──   ⎥\n",
       "67   ⎥\n",
       "     ⎥\n",
       ".08) ⎥\n",
       "─────⎥\n",
       "536  ⎥\n",
       "     ⎥\n",
       "13)  ⎥\n",
       "──── ⎥\n",
       "67   ⎦"
      ]
     },
     "execution_count": 5,
     "metadata": {},
     "output_type": "execute_result"
    }
   ],
   "source": [
    "(EROI.subs(pv, 1)+EROI.subs(pv, 1))/2\n",
    "1/(1/EROI.subs(pv, 0)+1/EROI.subs(pv, 1))\n",
    "(EROI.subs(pv, 0)*EROI.subs(pv, 1))**0.5\n",
    "EROI.subs(pv, 0.5)\n",
    "sym.simplify(Linv-sym.eye(4))"
   ]
  },
  {
   "cell_type": "code",
   "execution_count": 12,
   "metadata": {},
   "outputs": [
    {
     "data": {
      "image/png": "[encoded data removed]",
      "text/latex": [
       "$$0.8375$$"
      ],
      "text/plain": [
       "0.8375"
      ]
     },
     "execution_count": 12,
     "metadata": {},
     "output_type": "execute_result"
    },
    {
     "data": {
      "image/png": "[encoded data removed]",
      "text/latex": [
       "$$0.4625$$"
      ],
      "text/plain": [
       "0.4625"
      ]
     },
     "execution_count": 12,
     "metadata": {},
     "output_type": "execute_result"
    }
   ],
   "source": [
    "(-0.3*0+0.67)/0.8\n",
    "(-0.3*1+0.67)/0.8"
   ]
  },
  {
   "cell_type": "code",
   "execution_count": 64,
   "metadata": {},
   "outputs": [
    {
     "data": {
      "image/png": "[encoded data removed]",
      "text/latex": [
       "$$\\left[\\begin{matrix}0 & 0 & 1\\\\m & m_{m} & 0\\\\e & e_{m} & 0\\end{matrix}\\right]$$"
      ],
      "text/plain": [
       "⎡0  0   1⎤\n",
       "⎢        ⎥\n",
       "⎢m  mₘ  0⎥\n",
       "⎢        ⎥\n",
       "⎣e  eₘ  0⎦"
      ]
     },
     "execution_count": 64,
     "metadata": {},
     "output_type": "execute_result"
    },
    {
     "data": {
      "image/png": "[encoded data removed]",
      "text/latex": [
       "$$\\frac{- 0.5 m + 0.72}{0.5 m + 0.08}$$"
      ],
      "text/plain": [
       "-0.5⋅m + 0.72\n",
       "─────────────\n",
       " 0.5⋅m + 0.08"
      ]
     },
     "execution_count": 64,
     "metadata": {},
     "output_type": "execute_result"
    }
   ],
   "source": [
    "m, e, m_m, e_m = sym.symbols('m e m_m e_m') # m (resp. e) units of materials (resp. energy) required for 1 unit of energy technology (PV, oil...)\n",
    "unit_energy_output = sym.Matrix([0, 0, 1])\n",
    "unit_tech_output = sym.Matrix([1, 0, 0])\n",
    "A = sym.Matrix([[0, 0, 1], [m, m_m, 0], [e, e_m, 0]]) # energy technology, material, energy\n",
    "A\n",
    "# A = sym.Matrix([[0, 0, 1], [m, 0.2, 0], [e, 0.5, 0]]) # energy technology, material, energy\n",
    "# A = sym.Matrix([[0, m, e], [0, 0.2, 0.5], [1, 0, 0]]) # energy technology, material, energy\n",
    "A = sym.Matrix([[0, m, 0.1], [0, 0.2, 0.5], [1, 0, 0]]) # energy technology, material, energy\n",
    "L = sym.eye(3)-A # sym.Matrix(3,3,[1, -m, -1, 0, 0.8, -1, -e, 0, 1])\n",
    "Linv = L.inv()\n",
    "EROI = sym.simplify(1/unit_energy_output.transpose().dot((Linv-sym.eye(3)).dot(unit_energy_output)))\n",
    "EROI"
   ]
  },
  {
   "cell_type": "code",
   "execution_count": 78,
   "metadata": {},
   "outputs": [
    {
     "data": {
      "text/plain": [
       "[<matplotlib.lines.Line2D at 0x7fabdbdab5f8>]"
      ]
     },
     "execution_count": 78,
     "metadata": {},
     "output_type": "execute_result"
    },
    {
     "data": {
      "text/plain": [
       "Text(0.5,0,'Material intensity of the energy technology')"
      ]
     },
     "execution_count": 78,
     "metadata": {},
     "output_type": "execute_result"
    },
    {
     "data": {
      "text/plain": [
       "Text(0,0.5,'EROI')"
      ]
     },
     "execution_count": 78,
     "metadata": {},
     "output_type": "execute_result"
    },
    {
     "data": {
      "text/plain": [
       "<matplotlib.legend.Legend at 0x7fabdbd60e48>"
      ]
     },
     "execution_count": 78,
     "metadata": {},
     "output_type": "execute_result"
    },
    {
     "data": {
      "text/plain": [
       "<matplotlib.lines.Line2D at 0x7fabdbd60c88>"
      ]
     },
     "execution_count": 78,
     "metadata": {},
     "output_type": "execute_result"
    },
    {
     "data": {
      "image/png": "[encoded data removed]",
      "text/plain": [
       "<matplotlib.figure.Figure at 0x7fabdbdab710>"
      ]
     },
     "metadata": {},
     "output_type": "display_data"
    }
   ],
   "source": [
    "x = np.array(range(31))/20\n",
    "fig, ax = subplots()\n",
    "\n",
    "ax.plot(x, [EROI.subs(e, 0.1).subs(m, M) for M in x], label=\"EROI\")\n",
    "ax.set_xlabel('Material intensity of the energy technology')\n",
    "ax.set_ylabel('EROI')\n",
    "# ax.set_title('EROIs for different energy mixes')\n",
    "ax.legend(loc=1)\n",
    "ax.grid(color='g', alpha=0.5, linestyle='dotted', linewidth=0.5)\n",
    "ax.axhline(y=1, color='black', alpha=0.5, linestyle='dotted', linewidth=0.5)\n",
    "fig.savefig('EROIs for different material intensity 2.png', dpi=200)"
   ]
  },
  {
   "cell_type": "code",
   "execution_count": 89,
   "metadata": {},
   "outputs": [
    {
     "data": {
      "image/png": "[encoded data removed]",
      "text/latex": [
       "$$\\left [ 9.0, \\quad 5.15384615384615, \\quad 2.47826086956522, \\quad 1.42424242424242, \\quad 0.86046511627907, \\quad 0.509433962264151, \\quad 0.379310344827586, \\quad 0.095890410958904\\right ]$$"
      ],
      "text/plain": [
       "[9.0, 5.15384615384615, 2.47826086956522, 1.42424242424242, 0.86046511627907, \n",
       "0.509433962264151, 0.379310344827586, 0.095890410958904]"
      ]
     },
     "execution_count": 89,
     "metadata": {},
     "output_type": "execute_result"
    }
   ],
   "source": [
    "# values = [i/2+0.1 for i in range(2)] # [0.1, 0.6]\n",
    "# sym.Matrix([[EROI.subs(e, E).subs(m, M) for E in values] for M in values]) # negative values correspond to divergent some of powered A: not physical/sustainable\n",
    "[EROI.subs(e, 0.1).subs(m, M) for M in [0, 0.1, 0.3, 0.5, 0.7, 0.9, 1, 1.3]]"
   ]
  },
  {
   "cell_type": "code",
   "execution_count": 81,
   "metadata": {},
   "outputs": [
    {
     "data": {
      "image/png": "[encoded data removed]",
      "text/latex": [
       "$$\\frac{1}{e} \\left(- e + 1\\right)$$"
      ],
      "text/plain": [
       "-e + 1\n",
       "──────\n",
       "  e   "
      ]
     },
     "execution_count": 81,
     "metadata": {},
     "output_type": "execute_result"
    }
   ],
   "source": [
    "sym.init_printing()\n",
    "m, e = sym.symbols('m e')\n",
    "unit_energy_output = sym.Matrix([0, 1])\n",
    "unit_tech_output = sym.Matrix([1,  0])\n",
    "A = sym.Matrix([[0, e], [1, 0]])\n",
    "L = sym.eye(2)-A # sym.Matrix(3,3,[1, -m, -1, 0, 0.8, -1, -e, 0, 1])\n",
    "Linv = L.inv()\n",
    "EROI = sym.simplify(1/unit_energy_output.transpose().dot((Linv-sym.eye(2)).dot(unit_energy_output)))\n",
    "EROI # 1/e-1 TODO: why not 1/e??"
   ]
  },
  {
   "cell_type": "code",
   "execution_count": 196,
   "metadata": {},
   "outputs": [
    {
     "data": {
      "image/png": "[encoded data removed]",
      "text/latex": [
       "$$\\left[\\begin{matrix}0 & m & e\\\\0 & 0.2 & 1\\\\1 & 0 & 0\\end{matrix}\\right]$$"
      ],
      "text/plain": [
       "⎡0   m   e⎤\n",
       "⎢         ⎥\n",
       "⎢0  0.2  1⎥\n",
       "⎢         ⎥\n",
       "⎣1   0   0⎦"
      ]
     },
     "execution_count": 196,
     "metadata": {},
     "output_type": "execute_result"
    }
   ],
   "source": [
    "A"
   ]
  }
 ],
 "metadata": {
  "kernelspec": {
   "display_name": "Python 3",
   "language": "python",
   "name": "python3"
  },
  "language_info": {
   "codemirror_mode": {
    "name": "ipython",
    "version": 3
   },
   "file_extension": ".py",
   "mimetype": "text/x-python",
   "name": "python",
   "nbconvert_exporter": "python",
   "pygments_lexer": "ipython3",
   "version": "3.6.4"
  }
 },
 "nbformat": 4,
 "nbformat_minor": 2
}
