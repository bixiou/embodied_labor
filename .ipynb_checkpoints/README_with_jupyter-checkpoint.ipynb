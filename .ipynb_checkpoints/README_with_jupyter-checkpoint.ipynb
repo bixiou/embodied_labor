{
 "cells": [
  {
   "cell_type": "code",
   "execution_count": 1,
   "metadata": {},
   "outputs": [],
   "source": [
    "from pandas import read_pickle\n",
    "from os import getcwd"
   ]
  },
  {
   "cell_type": "code",
   "execution_count": 5,
   "metadata": {},
   "outputs": [],
   "source": [
    "repo = getcwd()\n",
    "repo = '/media/adrien/dd/adrien/DD/Économie/Données/A_ecoinvent_3_2_substitution'"
   ]
  },
  {
   "cell_type": "markdown",
   "metadata": {},
   "source": [
    "CONSTANT_VARIABLE:\n",
    "\n",
    "A: the technological coefficient\n",
    "LABEL: the label of the A matrix\n",
    "\n",
    "The A matrix represents the direct consumption and by-products for one unit of product. The direct consumption represents the good and service consummed regarding this one unit, they are positive ; and the by-products represents the joint-, co- or secondary production, they are negative.\n",
    "\n",
    "The A matrix is build from the URI id and not label and is only populated with the existing value: it's sparse and fill with a lot of Not a Number (NaN) that represents a blanck value. These specifications guarantee the match between the A matrix and the Exiobase during the coupling algorithm (not discuss here). So, to manipulate it outside of these processes, it is necessary to change the index and the column into labels and to substitute the NaN value by 0.\n",
    "\n",
    "BE CAREFUL: the A matrix is build by a system expansion/substitution approach, i.e. a co-production avoid the production of a product and its relative burdens somewhere else in the economy."
   ]
  },
  {
   "cell_type": "code",
   "execution_count": 6,
   "metadata": {},
   "outputs": [],
   "source": [
    "# load the A matrix and its labels\n",
    "A = read_pickle(repo+'/A.pkl')\n",
    "LABEL = read_pickle(repo+'/label_A_idx.pkl')"
   ]
  },
  {
   "cell_type": "code",
   "execution_count": 7,
   "metadata": {},
   "outputs": [],
   "source": [
    "# substitute the original URI A's index and column by the LABEL's ones.\n",
    "A.index, A.columns = LABEL.index, LABEL.index"
   ]
  },
  {
   "cell_type": "code",
   "execution_count": 8,
   "metadata": {},
   "outputs": [],
   "source": [
    "# if necessary, substitute the nan value into 0\n",
    "A = A.fillna(0)"
   ]
  },
  {
   "cell_type": "code",
   "execution_count": 10,
   "metadata": {},
   "outputs": [
    {
     "data": {
      "text/plain": [
       "0.0"
      ]
     },
     "execution_count": 10,
     "metadata": {},
     "output_type": "execute_result"
    }
   ],
   "source": [
    "# Navigate by index\n",
    "A.index[0]\n",
    "A.loc[A.index[0],A.index[0]]\n",
    "# equivalent to\n",
    "A.iloc[0,0]"
   ]
  },
  {
   "cell_type": "code",
   "execution_count": null,
   "metadata": {},
   "outputs": [],
   "source": [
    "# feel free to export to excel LABEL to better understand the index\n",
    "LABEL.to_excel('label.xls')"
   ]
  },
  {
   "cell_type": "code",
   "execution_count": null,
   "metadata": {},
   "outputs": [],
   "source": [
    "# to build the leontief matrix, s(I-A)=f => s = L.f => L = (I-A)^(-1)"
   ]
  }
 ],
 "metadata": {
  "kernelspec": {
   "display_name": "Python [default]",
   "language": "python",
   "name": "python3"
  },
  "language_info": {
   "codemirror_mode": {
    "name": "ipython",
    "version": 3
   },
   "file_extension": ".py",
   "mimetype": "text/x-python",
   "name": "python",
   "nbconvert_exporter": "python",
   "pygments_lexer": "ipython3",
   "version": "3.5.4"
  }
 },
 "nbformat": 4,
 "nbformat_minor": 2
}
