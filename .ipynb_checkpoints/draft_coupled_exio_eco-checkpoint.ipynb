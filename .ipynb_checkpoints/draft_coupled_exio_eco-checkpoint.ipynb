{
 "cells": [
  {
   "cell_type": "code",
   "execution_count": 1,
   "metadata": {},
   "outputs": [],
   "source": [
    "#import Builder.src.merge.hybrid.builder as hybrid\n",
    "#import Builder.src.merge.process.builder as process\n",
    "#import Builder.src.merge.io.builder as io\n",
    "import pandas as pd\n",
    "import numpy as np\n",
    "import operator\n",
    "from scipy import sparse as sp\n",
    "from scipy.sparse import linalg as spla"
   ]
  },
  {
   "cell_type": "markdown",
   "metadata": {},
   "source": [
    "To use properly the regionalized matrix A, you should use the scipy.sparse package. Because the index is not labelized, to calculate a supply regarding a final demand, an excel with the same structure than the matrix A was created. Please use it to avoid mistakes."
   ]
  },
  {
   "cell_type": "markdown",
   "metadata": {},
   "source": [
    "# Regionalized process"
   ]
  },
  {
   "cell_type": "markdown",
   "metadata": {},
   "source": [
    "## i) import matrix and demand"
   ]
  },
  {
   "cell_type": "code",
   "execution_count": 6,
   "metadata": {},
   "outputs": [],
   "source": [
    "folder_coupled = '/media/adrien/dd/adrien/DD/Économie/Données/eco3.2_exio2/'\n",
    "A = sp.load_npz(folder_coupled + 'matrix/gross_sp_A.npz').tocsr()\n",
    "# B = sp.load_npz(folder_coupled + 'matrix/sp_B.npz').tocsr() # B: intervention matrix: impacts (ex: CO_2 emissions)\n",
    "# C = sp.load_npz(folder_coupled + 'matrix/sp_C.npz').tocsr() # C: characterization matrix: second order impacts (ex: global warming potential)"
   ]
  },
  {
   "cell_type": "code",
   "execution_count": 7,
   "metadata": {},
   "outputs": [],
   "source": [
    "f = pd.read_excel(folder_coupled + 'demand/demand_template.xlsx', header=0, index_col=[2,0]).fillna(0).iloc[:,3].as_matrix()"
   ]
  },
  {
   "cell_type": "markdown",
   "metadata": {},
   "source": [
    "## ii) calculate supply"
   ]
  },
  {
   "cell_type": "markdown",
   "metadata": {},
   "source": [
    "### calculate s0"
   ]
  },
  {
   "cell_type": "code",
   "execution_count": 8,
   "metadata": {},
   "outputs": [],
   "source": [
    "def power_series(A, f, n):\n",
    "    s = f.copy()\n",
    "    x_1 = f.copy()\n",
    "    for i in range(n):\n",
    "        x = A.dot(x_1)\n",
    "        s += x\n",
    "        x_1 = x\n",
    "    return s"
   ]
  },
  {
   "cell_type": "code",
   "execution_count": null,
   "metadata": {},
   "outputs": [],
   "source": [
    "s0 = power_series(A, f, 100)"
   ]
  },
  {
   "cell_type": "markdown",
   "metadata": {},
   "source": [
    "### calculate s"
   ]
  },
  {
   "cell_type": "code",
   "execution_count": 28,
   "metadata": {},
   "outputs": [],
   "source": [
    "I = sp.identity(A.get_shape()[0])\n",
    "s = spla.lgmres(I-A, f, s0, tol=1e-07)[0]"
   ]
  },
  {
   "cell_type": "markdown",
   "metadata": {},
   "source": [
    "### calculate g and h"
   ]
  },
  {
   "cell_type": "code",
   "execution_count": null,
   "metadata": {},
   "outputs": [],
   "source": [
    "# g: regionalized life cycle inventories (regionalized LCI)\n",
    "g = B.dot(s)\n",
    "# h: regionalized life cycle impact assessment (regionalized LCIA)\n",
    "h = C.dot(g)"
   ]
  },
  {
   "cell_type": "markdown",
   "metadata": {},
   "source": [
    "## iii) export to excel"
   ]
  },
  {
   "cell_type": "markdown",
   "metadata": {},
   "source": [
    "### read the pandas labelized index"
   ]
  },
  {
   "cell_type": "code",
   "execution_count": 49,
   "metadata": {
    "collapsed": true
   },
   "outputs": [],
   "source": [
    "# A_idx = pd.read_pickle(\"path_to/A_idxLabel.pkl\")\n",
    "# B_idx = pd.read_pickle(\"path_to/B_idxLabel.pkl\")\n",
    "# C_idx = pd.read_pickle(\"path_to/C_idxLabel.pkl\")\n",
    "A_idx = pd.read_pickle(folder_coupled + 'index/A/label_index.pkl') # TODO: check if good file (is it ref_index or uuid_index?)\n",
    "B_idx = pd.read_pickle(folder_coupled + 'index/B/label_index.pkl')\n",
    "C_idx = pd.read_pickle(folder_coupled + 'index/C/label_index.pkl')"
   ]
  },
  {
   "cell_type": "markdown",
   "metadata": {},
   "source": [
    "### creates 3 pandas series with labelized index with the calulated values"
   ]
  },
  {
   "cell_type": "code",
   "execution_count": 50,
   "metadata": {},
   "outputs": [],
   "source": [
    "x = A_idx.copy()\n",
    "x.loc[:]['Supply'] = s\n",
    "\n",
    "e_x = B_idx.copy()\n",
    "e_x.loc[:]['Supply'] = e # TODO: what is 'e' ?\n",
    "\n",
    "h_x = C_idx.copy()\n",
    "h_x.loc[:]['Supply'] = h"
   ]
  },
  {
   "cell_type": "markdown",
   "metadata": {},
   "source": [
    "### export them to excel"
   ]
  },
  {
   "cell_type": "code",
   "execution_count": 29,
   "metadata": {
    "collapsed": true
   },
   "outputs": [],
   "source": [
    "# A_idx = pd.read_pickle(\"regionalized/index/A_idxLabel.pkl\")\n",
    "# B_idx = pd.read_pickle(\"regionalized/index/B_idxLabel.pkl\")\n",
    "# C_idx = pd.read_pickle(\"regionalized/index/C_idxLabel.pkl\")\n",
    "A_idx = pd.read_pickle(folder_coupled + 'index/A/label_index.pkl') # TODO: check if good file (is it ref_index or uuid_index?)\n",
    "B_idx = pd.read_pickle(folder_coupled + 'index/B/label_index.pkl')\n",
    "C_idx = pd.read_pickle(folder_coupled + 'index/C/label_index.pkl')"
   ]
  },
  {
   "cell_type": "code",
   "execution_count": 30,
   "metadata": {},
   "outputs": [],
   "source": [
    "x = A_idx.copy()\n",
    "x.loc[:]['Supply'] = s\n",
    "\n",
    "e_x = B_idx.copy()\n",
    "e_x.loc[:]['Supply'] = e\n",
    "\n",
    "h_x = C_idx.copy()\n",
    "h_x.loc[:]['Supply'] = h"
   ]
  },
  {
   "cell_type": "code",
   "execution_count": 31,
   "metadata": {},
   "outputs": [],
   "source": [
    "x.to_csv(folder_coupled + \"reg_x.csv\")\n",
    "e_x.to_csv(folder_coupled + \"reg_e.csv\")\n",
    "h_x.to_csv(folder_coupled + \"reg_h.csv\")"
   ]
  }
 ],
 "metadata": {
  "kernelspec": {
   "display_name": "Python 3",
   "language": "python",
   "name": "python3"
  },
  "language_info": {
   "codemirror_mode": {
    "name": "ipython",
    "version": 3
   },
   "file_extension": ".py",
   "mimetype": "text/x-python",
   "name": "python",
   "nbconvert_exporter": "python",
   "pygments_lexer": "ipython3",
   "version": "3.6.4"
  }
 },
 "nbformat": 4,
 "nbformat_minor": 2
}
